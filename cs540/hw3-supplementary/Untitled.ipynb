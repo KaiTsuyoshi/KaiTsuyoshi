{
 "cells": [
  {
   "cell_type": "code",
   "execution_count": 24,
   "id": "7b3b571d",
   "metadata": {},
   "outputs": [],
   "source": [
    "from scipy.linalg import eigh\n",
    "import numpy as np\n",
    "import matplotlib.pyplot as plt\n",
    "\n",
    "\n",
    "def load_and_center_dataset(filename):\n",
    "    x = np.load(filename)\n",
    "    centered_x = x - np.mean(x, axis=0)\n",
    "    return centered_x\n",
    "\n",
    "\n",
    "def get_covariance(dataset):\n",
    "    S = (1/(len(dataset) - 1)) * np.dot(np.transpose(dataset),dataset)\n",
    "    return S\n",
    "\n",
    "\n",
    "def get_eig(S, m):\n",
    "    vals, vecs = eigh(S, eigvals=[len(S)-m, len(S) - 1])\n",
    "    eigvals = np.zeros((m, m))\n",
    "    np.fill_diagonal(eigvals, vals)\n",
    "    eigvals = np.fliplr(eigvals)\n",
    "    U = np.fliplr(vecs)\n",
    "    Lambda = np.flipud(eigvals)\n",
    "    return Lambda, U\n",
    "\n",
    "\n",
    "def get_eig_prop(S, prop):\n",
    "    vals, vecs = eigh(S)\n",
    "    eigSum = 0\n",
    "    counter = 0\n",
    "    for num in vals:\n",
    "        eigSum += num\n",
    "\n",
    "    for num in vals:\n",
    "        if (num/eigSum) >= prop:\n",
    "            break\n",
    "        else:\n",
    "            counter += 1\n",
    "\n",
    "    eigvals, eigvecs = get_eig(S, len(S) - counter)\n",
    "    Lambda, U = eigvals, eigvecs\n",
    "    return Lambda, U\n",
    "\n",
    "\n",
    "\n",
    "def project_image(image, U):\n",
    "    project = np.zeros([len(U), 1])\n",
    "    a = np.dot(np.transpose(U), image)\n",
    "    i = 0\n",
    "    for val in U:\n",
    "        project[i] = np.dot(a, val)\n",
    "        i += 1\n",
    "    return project\n",
    "\n",
    "\n",
    "def display_image(orig, proj):\n",
    "    original = np.reshape(orig, [32, 32])\n",
    "    original = np.transpose(original)\n",
    "    projection = np.reshape(proj, [32, 32])\n",
    "    projection = np.transpose(projection)\n",
    "\n",
    "    fig, (ax1, ax2) = plt.subplots(1, 2, figsize=(14, 4))\n",
    "    ax1.set_title(\"Original\")\n",
    "    ax2.set_title(\"Projection\")\n",
    "\n",
    "    orig_img = ax1.imshow(original, aspect='equal')\n",
    "    proj_img = ax2.imshow(projection, aspect='equal')\n",
    "\n",
    "    fig.colorbar(orig_img, ax=ax1)\n",
    "    fig.colorbar(proj_img, ax=ax1)\n",
    "\n",
    "    return fig, ax1, ax2\n",
    "    plt.show()"
   ]
  },
  {
   "cell_type": "code",
   "execution_count": 25,
   "id": "cf484ccd",
   "metadata": {},
   "outputs": [
    {
     "ename": "ValueError",
     "evalue": "too many values to unpack (expected 2)",
     "output_type": "error",
     "traceback": [
      "\u001b[0;31m---------------------------------------------------------------------------\u001b[0m",
      "\u001b[0;31mValueError\u001b[0m                                Traceback (most recent call last)",
      "Input \u001b[0;32mIn [25]\u001b[0m, in \u001b[0;36m<cell line: 5>\u001b[0;34m()\u001b[0m\n\u001b[1;32m      3\u001b[0m Lambda, U \u001b[38;5;241m=\u001b[39m get_eig(S, \u001b[38;5;241m2\u001b[39m)\n\u001b[1;32m      4\u001b[0m projection \u001b[38;5;241m=\u001b[39m project_image(x[\u001b[38;5;241m0\u001b[39m], U)\n\u001b[0;32m----> 5\u001b[0m fig, (ax1, ax2) \u001b[38;5;241m=\u001b[39m display_image(x[\u001b[38;5;241m0\u001b[39m], projection)\n",
      "\u001b[0;31mValueError\u001b[0m: too many values to unpack (expected 2)"
     ]
    },
    {
     "data": {
      "image/png": "[encoded data removed]",
      "text/plain": [
       "<Figure size 1008x288 with 4 Axes>"
      ]
     },
     "metadata": {
      "needs_background": "light"
     },
     "output_type": "display_data"
    }
   ],
   "source": [
    "x = load_and_center_dataset('YaleB_32x32.npy')\n",
    "S = get_covariance(x)\n",
    "Lambda, U = get_eig(S, 2)\n",
    "projection = project_image(x[0], U)\n",
    "fig, (ax1, ax2) = display_image(x[0], projection)"
   ]
  },
  {
   "cell_type": "code",
   "execution_count": null,
   "id": "77edd187",
   "metadata": {},
   "outputs": [],
   "source": []
  }
 ],
 "metadata": {
  "kernelspec": {
   "display_name": "Python 3 (ipykernel)",
   "language": "python",
   "name": "python3"
  },
  "language_info": {
   "codemirror_mode": {
    "name": "ipython",
    "version": 3
   },
   "file_extension": ".py",
   "mimetype": "text/x-python",
   "name": "python",
   "nbconvert_exporter": "python",
   "pygments_lexer": "ipython3",
   "version": "3.9.12"
  }
 },
 "nbformat": 4,
 "nbformat_minor": 5
}
