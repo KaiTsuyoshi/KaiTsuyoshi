{
 "cells": [
  {
   "cell_type": "markdown",
   "id": "0c0bea4c",
   "metadata": {},
   "source": [
    "# Homework \\#6\n",
    "Due __Friday, August 11__ @ 11:59pm\n",
    "\n",
    "## Submission requirements\n",
    "Upload a **single PDF file** of your IJulia notebook for this entire assigment. Clearly denote which question each section of your PDF corresponds to."
   ]
  },
  {
   "cell_type": "markdown",
   "id": "a0526110",
   "metadata": {},
   "source": [
    "## Problem 1 -- Vehicle Routing\n",
    "\n",
    "A local bakeshop wants determine the minimum cost plan for picking up its daily supply of milk, butter, and eggs from the four farms that supply the bakeshop.  The distance (in miles) between the bakeshop (B) and each farm, and also between each pair of farms, is given in the table below. The table also gives the volume of milk, butter, and eggs (total, in ft$^3$) to be collected from\n",
    "each farm each day. (The distance between locations is the same in both directions, so for each pair of locations the distance is only reported once.)\n",
    "\n",
    "| |B | F1 | F2| F3 | F4 |\n",
    "|:--|:--|:--|:--|:--|:--|\n",
    "|B| - | 5 | 12 | 7 | 15|\n",
    "|F1| - | - | 4 | 10 | 7 |\n",
    "|F2| - | - | - | 14 | 20|\n",
    "|F3| - | - | - | - |8 |\n",
    "| | F1 | F2 | F3 | F4 |\n",
    "|Supply (ft$^3$)|  7 | 2 | 6 | 3 |\n",
    "\n",
    "The bakeshop has one truck that can carry at most 10 ft$^3$ of supplies at a time. Because of the size limit, the\n",
    "truck will need to make multiple trips each day to collect the supplies from all the farms. Each trip may pick up supplies from one or more farms, provided the total collected in the trip does not exceed the truck limit. \n",
    "\n",
    "Formulate an integer program to help the bakeshop assign farms to the trips so that the total number of trips required every day is minimized  (Hint: model the problem as a set covering problem. The first step will be to list all possible routes a truck can take.)"
   ]
  },
  {
   "cell_type": "markdown",
   "id": "532d0a46",
   "metadata": {},
   "source": [
    "## Problem 2 -- The Magical Baked Goods Machine\n",
    "\n",
    "Suppose you are in charge of a magical baked goods machine that creates delicious baked goods of many varieties. Every day, the machine creates batches of 5 different baked goods. To produce a batch of a baked good, you must first clean the machine to remove the remnants of the previous batch of bakery treats (e.g., the workflow could be, \"clean, make bread, clean, make donuts,...\"). The durations of baking each of the 5 items (donuts, scones, cookies, bread, and coffee cake) are 40, 32, 50, 28, and 47 minutes respectively. The cleaning times depend on the item that was previously made in the machine. For example, a long cleaning period is required if bread is made after scones, since the scones leave a sticky residue from the dried fruit they contain that can ruin the bread. The times are given in minutes in the following table. Each pair $(i,j)$ is the cleaning time required if batch $j$ is baked after batch $i$.\n",
    "\n",
    "|Baked good|Donut|Scone|Cookie|Bread|Coffee Cake|\n",
    "|:---|:---|:----|:---|:---|:---|\n",
    "|Donut|0|10|6|15|9|\n",
    "|Scone|4|0|6|17|8|\n",
    "|Cookie|10|11|0|20|14|\n",
    "|Bread|7|15|6|0|2|\n",
    "|Coffee Cake|5|8|7|7|0|\n",
    "\n",
    "We'd obviously like to spend as little time as possible baking and cleaning. What order should we produce the 5 bakery items in? How long do we spend baking and cleaning each day? The order is the same every day, so the cleaning time between the last batch of one week and the first of the following week needs to be accounted for in the total duration of cleaning.\n",
    "\n",
    "Solve this problem as a TSP. You may use either MTZ reformulation or subtour elimination (or both, for fun!)."
   ]
  },
  {
   "cell_type": "code",
   "execution_count": null,
   "id": "0482570c",
   "metadata": {},
   "outputs": [],
   "source": []
  }
 ],
 "metadata": {
  "kernelspec": {
   "display_name": "Julia 1.9.1",
   "language": "julia",
   "name": "julia-1.9"
  },
  "language_info": {
   "file_extension": ".jl",
   "mimetype": "application/julia",
   "name": "julia",
   "version": "1.9.1"
  }
 },
 "nbformat": 4,
 "nbformat_minor": 5
}
