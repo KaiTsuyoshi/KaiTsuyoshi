{
 "cells": [
  {
   "cell_type": "markdown",
   "id": "04703090",
   "metadata": {},
   "source": [
    "# Homework \\#5\n",
    "\n",
    "Due July 31 @ 11:59pm\n",
    "\n",
    "## Submission requirements\n",
    "Upload a **single PDF file** of your IJulia notebook for this entire assigment. Clearly denote which question each section of your PDF corresponds to."
   ]
  },
  {
   "cell_type": "markdown",
   "id": "a142204e",
   "metadata": {},
   "source": [
    "## Problem 1 -- Nonconvex Quadratics\n",
    "\n",
    "Suppose you have the constraint:\n",
    "\n",
    "$2x^2 + y^2+ z^2 + 3xy - xz + 2yz \\leq 0 \\quad\\quad$ (1)\n",
    "\n",
    "(a)  Write constraint (1) in the standard form $v^TQv\\leq 0$ where $Q$ is a symmetric matrix.  What is $Q$ and what is $v$?"
   ]
  },
  {
   "cell_type": "markdown",
   "id": "b22381d9",
   "metadata": {},
   "source": [
    "v = \n",
    "$\\begin{pmatrix}\n",
    "x\\\\\n",
    "y\\\\\n",
    "z\\\\\n",
    "\\end{pmatrix}$,  Q = \n",
    "$\\begin{pmatrix}\n",
    "2 & 1.5 & -0.5\\\\\n",
    "1.5 & 1 & 1\\\\\n",
    "-0.5 & 1 & 1\\\\\n",
    "\\end{pmatrix}$"
   ]
  },
  {
   "cell_type": "markdown",
   "id": "c9cadfe0",
   "metadata": {},
   "source": [
    "(b)  This constraint is not convex (i.e., the set of points satisfying the constraint is not an ellipsoid). Explain why this is the case. *Hint*: You can perform an orthogonal decomposition of a symmetric matrix $Q$ in Julia like this: "
   ]
  },
  {
   "cell_type": "code",
   "execution_count": 8,
   "id": "2a8b7ecf",
   "metadata": {},
   "outputs": [
    {
     "data": {
      "text/plain": [
       "([-0.7717848741953769, 1.671965737371683, 3.099819136823694], [0.4755037916822413 -0.396463343135491 0.7853107420923526; -0.701884978187095 0.3671776439352714 0.6103589560164115; 0.5303335002534842 0.8414258109566005 0.10367730303646348])"
      ]
     },
     "execution_count": 8,
     "metadata": {},
     "output_type": "execute_result"
    }
   ],
   "source": [
    "using LinearAlgebra\n",
    "Q = [2 1.5 -0.5;1.5 1 1; -0.5 1 1]\n",
    "(L,U) = (eigvals(Q),eigvecs(Q)) # L is the vector of eigenvalues and U is orthogonal\n",
    "U * Diagonal(L) * U' # this is equal to Q (as long as Q was symmetric to begin with)\n",
    "(L,U)"
   ]
  },
  {
   "cell_type": "markdown",
   "id": "75789f40",
   "metadata": {},
   "source": [
    "As seen above, the constraint is not positive semidefinite by orthogonal decomposition, as some eigenvalues are nonpositive."
   ]
  },
  {
   "cell_type": "markdown",
   "id": "ce6c84c2",
   "metadata": {},
   "source": [
    "\n",
    "\n",
    "\n",
    "(c)  We can write constraint (1) in norm format as follows:\n",
    "\n",
    "$‖Av‖_2^2−‖Bv‖_2^2\\leq 0 \\quad\\quad$ (2) \n",
    "\n",
    "Find matrices $A$ and $B$ that make this constraint equivalent to (1)."
   ]
  },
  {
   "cell_type": "markdown",
   "id": "11de0d54",
   "metadata": {},
   "source": [
    "$‖Av‖_2^2−‖Bv‖_2^2\\leq 0$\n",
    "\n",
    "$‖Av‖_2^2 = (2x)^2 + y^2 + z^2$\n",
    "\n",
    "$‖Bv‖_2^2 = (3xy - xz + 2yz)^2$\n",
    "\n",
    "\n",
    "A = \n",
    "$\\begin{pmatrix}\n",
    "4 & 1 & 1\\\\\n",
    "1 & 1 & 0\\\\\n",
    "1 & 0 & 1\\\\\n",
    "\\end{pmatrix}$\n",
    "B = \n",
    "$\\begin{pmatrix}\n",
    "0 & -6 & -4\\\\\n",
    "-6 & 0 & 6\\\\\n",
    "-4 & 6 & 0\\\\\n",
    "\\end{pmatrix}$"
   ]
  },
  {
   "cell_type": "markdown",
   "id": "d2b92348",
   "metadata": {},
   "source": [
    "(d)  Explain how to find $(x, y, z)$ that satisfy the above constraint but make $2x^2+ y^2 + z^2$ arbitrarily large."
   ]
  },
  {
   "cell_type": "markdown",
   "id": "2c5049b9",
   "metadata": {},
   "source": [
    "To find (x,y,z) such that the above constraint is satisfied and $2x^2+ y^2 + z^2$ is arbitrarily large, \n",
    "\n",
    "$v^TQv = 𝜆_1w_1^2 + ... + 𝜆_nw_n^2$ \n",
    "\n",
    "must be proven, where $w = U^Tv$ (or $v = Uw$) and v is the same v defined in (a). \n",
    "\n",
    "To do so, let $w_i = 0$ if $𝜆_i >= 0$ and $w_i = t$ for some positive $t$ if $𝜆_i < 0$\n",
    "\n",
    "Thus, it stands to reason that $t$ should be arbitrarily large, as w is a vector of either 0 or $t$, and therefore, $v = Uw$ is arbitrarily large therefore $2x^2+ y^2 + z^2$ is arbitrarily large"
   ]
  },
  {
   "cell_type": "markdown",
   "id": "28fe0f80",
   "metadata": {},
   "source": [
    "## Problem 2 -- Geometric Programming\n",
    "\n",
    "\n",
    "Fizzy Water, Inc. is designing a pipe that disinfects their water before it is packaged. The pipe is designed to heat the water to $T$ (degrees above ambient temperature). The pipe has a fixed length and circular cross section with radius $r$.  The pipe is wrapped in a layer of material with thickenss $w$ (much smaller than $r$) for insulation to minimize heat loss. The design variables for the pipe are $T, r,$ and $w$. \n",
    "\n",
    "Heat loss can be converted to energy cost and is roughly equal to $(\\alpha_1Tr)/w$ for some constant $\\alpha_1$. The cost of the pipe is approximately proportional to the total material used: $\\alpha_2r$ for a constant $\\alpha_2$. The insulation cost, similarly,is porportional to the total insulation material used, or roughly $\\alpha_3rw$ for a constant $\\alpha_3$. The total cost of constructing and using the pipe is the sum of these three costs. \n",
    "\n",
    "Fizzy Water wants to maximize the total heat flow through the pipe, which is proportional to the velocity of the water through the pipe. This value can be approximated by $\\alpha_4Tr^2$ for a constant $\\alpha_4$. All $\\alpha$ constants and all variables $T, r, w$ are strictly positive. \n",
    "\n",
    "The problem Fizzy Water wants you to help them solve is to maximize the total heat flow through the pipe, subject to their budget $C_{\\max}$ which is an upper bound on total cost. They also have the following constraints:\n",
    "\n",
    "* $T_{\\min} \\le T \\le T_{\\max}$\n",
    "* $r_{\\min} \\le r \\le r_{\\max}$\n",
    "* $w_{\\min} \\le w \\le w_{\\max}$\n",
    "* $w \\le 0.1r$\n",
    "\n",
    "(a) Express this problem as a geometric program, and convert it into a convex optimization problem."
   ]
  },
  {
   "cell_type": "markdown",
   "id": "5ab9a45e",
   "metadata": {},
   "source": [
    "Geometric form:\n",
    "\n",
    "\\begin{align}\n",
    "  \\min_{T, r, w > 0}      a_4^{-1} * T^{-1} * (r^2)^{-1}\\\\\n",
    "  \\mbox{s.t.} \\quad a_1Tr / wC_{max} + a_2r / C_{max} + a_3rw / C_{max} &\\leq 1\\nonumber\\\\ \n",
    "  T_{min}/T &\\leq 1\\nonumber\\\\ \n",
    "  T/T_{max} &\\leq 1\\nonumber\\\\ \n",
    "  r_{min}/r &\\leq 1\\nonumber\\\\ \n",
    "  r/r_{max} &\\leq 1\\nonumber\\\\\n",
    "  w_{min}/w &\\leq 1\\nonumber\\\\ \n",
    "  w/w_{max} &\\leq 1\\nonumber\\\\\n",
    "  w/0.1r &\\leq 1\\nonumber\\\\ \n",
    "\\end{align}\n",
    "\n",
    "\n",
    "\n",
    "Convex form: \n",
    "\n",
    "\\begin{align}\n",
    "  \\min_{x, y, z}    - x - 2y\\\\\n",
    "  \\mbox{s.t.} \\quad log(e^{log(a_1 / C_{max}) + x + y - z} + log(e^{log(a_2 / C_{max}) + y} + log(e^{log(a_3 / C_{max}) + y + z} &\\leq 0\\nonumber\\\\ \n",
    "  log(T_{min}) &\\leq -x \\leq log(T_{max})\\nonumber\\\\ \n",
    "  log(r_{min}) &\\leq -y \\leq log(r_{max})\\nonumber\\\\ \n",
    "  log(w_{min}) &\\leq -z \\leq log(w_{max})\\nonumber\\\\ \n",
    "  z - y &\\leq 1\\nonumber\\\\ \n",
    "\\end{align}\n"
   ]
  },
  {
   "cell_type": "markdown",
   "id": "22d8e5fa",
   "metadata": {},
   "source": [
    "(b) Consider  a  simple  instance  of  this  problem where $C_{\\max} = 100$ and all $\\alpha_i$ values equal 1. Assume for simplicity that every variable ($T,r,w$) has a lower bound of 1 and no upper bound. Solve this problem using JuMP. Use the Ipopt solver (or any other solver that can solve convex optimization problems) and the \"@NLconstraint(...)\" command to specify any nonlinear constraints. What are the optimal $T, r$, and $w$?"
   ]
  },
  {
   "cell_type": "code",
   "execution_count": 10,
   "id": "f31bc5a9",
   "metadata": {},
   "outputs": [
    {
     "name": "stdout",
     "output_type": "stream",
     "text": [
      "This is Ipopt version 3.14.13, running with linear solver MUMPS 5.6.0.\n",
      "\n",
      "Number of nonzeros in equality constraint Jacobian...:        0\n",
      "Number of nonzeros in inequality constraint Jacobian.:        8\n",
      "Number of nonzeros in Lagrangian Hessian.............:        6\n",
      "\n",
      "Total number of variables............................:        3\n",
      "                     variables with only lower bounds:        0\n",
      "                variables with lower and upper bounds:        0\n",
      "                     variables with only upper bounds:        0\n",
      "Total number of equality constraints.................:        0\n",
      "Total number of inequality constraints...............:        5\n",
      "        inequality constraints with only lower bounds:        3\n",
      "   inequality constraints with lower and upper bounds:        0\n",
      "        inequality constraints with only upper bounds:        2\n",
      "\n",
      "iter    objective    inf_pr   inf_du lg(mu)  ||d||  lg(rg) alpha_du alpha_pr  ls\n",
      "   0  0.0000000e+00 1.00e+00 6.92e-01  -1.0 0.00e+00    -  0.00e+00 0.00e+00   0\n",
      "   1  3.2571425e+00 0.00e+00 4.82e-01  -1.0 4.34e+00    -  7.58e-01 1.00e+00h  1\n",
      "   2  3.0846593e+00 0.00e+00 4.31e-02  -1.7 2.28e-01    -  9.19e-01 1.00e+00f  1\n",
      "   3  3.0065655e+00 0.00e+00 2.22e-03  -2.5 1.13e-01    -  9.42e-01 1.00e+00f  1\n",
      "   4  3.0003081e+00 0.00e+00 4.60e-04  -3.8 3.11e-01    -  8.42e-01 1.00e+00f  1\n",
      "   5  3.0000037e+00 0.00e+00 1.15e-06  -5.7 7.17e-03    -  9.97e-01 1.00e+00f  1\n",
      "   6  3.0000000e+00 0.00e+00 4.10e-09  -8.6 7.94e-03    -  9.96e-01 1.00e+00f  1\n",
      "   7  3.0000000e+00 0.00e+00 5.62e-10  -9.0 3.07e-01    -  8.79e-01 1.00e+00h  1\n",
      "\n",
      "Number of Iterations....: 7\n",
      "\n",
      "                                   (scaled)                 (unscaled)\n",
      "Objective...............:   2.9999999718181813e+00    2.9999999718181813e+00\n",
      "Dual infeasibility......:   5.6204110977765058e-10    5.6204110977765058e-10\n",
      "Constraint violation....:   0.0000000000000000e+00    0.0000000000000000e+00\n",
      "Variable bound violation:   0.0000000000000000e+00    0.0000000000000000e+00\n",
      "Complementarity.........:   3.1301266299467510e-09    3.1301266299467510e-09\n",
      "Overall NLP error.......:   3.1301266299467510e-09    3.1301266299467510e-09\n",
      "\n",
      "\n",
      "Number of objective function evaluations             = 8\n",
      "Number of objective gradient evaluations             = 8\n",
      "Number of equality constraint evaluations            = 0\n",
      "Number of inequality constraint evaluations          = 8\n",
      "Number of equality constraint Jacobian evaluations   = 0\n",
      "Number of inequality constraint Jacobian evaluations = 8\n",
      "Number of Lagrangian Hessian evaluations             = 7\n",
      "Total seconds in IPOPT                               = 0.005\n",
      "\n",
      "EXIT: Optimal Solution Found.\n",
      "\n",
      "Temperature: 0.3678794445158009\n",
      "Radius: 0.36787944468301886\n",
      "Thickness: 0.14594295986505196\n",
      "Maximum heat flow: 0.04978706977095408\n"
     ]
    }
   ],
   "source": [
    "cmax = 100\n",
    "a1 = 1\n",
    "a2 = 1\n",
    "a3 = 1\n",
    "a4 = 1\n",
    "\n",
    "### MODEL ###\n",
    "\n",
    "using JuMP, Ipopt\n",
    "\n",
    "m = Model(Ipopt.Optimizer)\n",
    "\n",
    "@variable(m, x)\n",
    "@variable(m, y)\n",
    "@variable(m, z)\n",
    "\n",
    "@objective(m, Min, -x - 2y)\n",
    "\n",
    "@NLconstraint(m,log(exp(log(a1/cmax)+ x + y - z))+log(exp(log(a2/cmax) + y)) + log(exp(log(a3/cmax) + y + z)) <= 0)\n",
    "@constraint(m, -x >= 1)\n",
    "@constraint(m, -y >= 1)\n",
    "@constraint(m, -z >= 1)\n",
    "@constraint(m, z-y <= 1)\n",
    "\n",
    "optimize!(m)\n",
    "\n",
    "println()\n",
    "T = exp(value(x))\n",
    "r = exp(value(y))\n",
    "w = exp(value(z))\n",
    "println(\"Temperature: \", T)\n",
    "println(\"Radius: \", r)\n",
    "println(\"Thickness: \", w)\n",
    "println(\"Maximum heat flow: \", T*r^2)"
   ]
  },
  {
   "cell_type": "code",
   "execution_count": null,
   "id": "2ad41ee3",
   "metadata": {},
   "outputs": [],
   "source": []
  }
 ],
 "metadata": {
  "kernelspec": {
   "display_name": "Julia 1.9.1",
   "language": "julia",
   "name": "julia-1.9"
  },
  "language_info": {
   "file_extension": ".jl",
   "mimetype": "application/julia",
   "name": "julia",
   "version": "1.9.1"
  }
 },
 "nbformat": 4,
 "nbformat_minor": 5
}
