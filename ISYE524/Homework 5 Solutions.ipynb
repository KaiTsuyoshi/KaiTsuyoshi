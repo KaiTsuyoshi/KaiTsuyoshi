{
 "cells": [
  {
   "cell_type": "markdown",
   "id": "2115d754",
   "metadata": {},
   "source": [
    "## Problem 1 -- Nonconvex Quadratics\n",
    "\n",
    "Suppose you have the constraint:\n",
    "\n",
    "$2x^2 + y^2+ z^2 + 3xy - xz + 2yz \\leq 0 \\quad\\quad$ (1)\n",
    "\n",
    "(a)  Write constraint (1) in the standard form $v^TQv\\leq 0$ where $Q$ is a symmetric matrix.  What is $Q$ and what is $v$?\n",
    "\n",
    "(b)  This constraint is not convex (i.e., the set of points satisfying the constraint is not an ellipsoid). Explain why this is the case. *Hint*: You can perform an orthogonal decomposition of a symmetric matrix $Q$ in Julia like this: \n"
   ]
  },
  {
   "cell_type": "code",
   "execution_count": 4,
   "id": "79af5167",
   "metadata": {},
   "outputs": [
    {
     "ename": "LoadError",
     "evalue": "UndefVarError: `Q` not defined",
     "output_type": "error",
     "traceback": [
      "UndefVarError: `Q` not defined",
      "",
      "Stacktrace:",
      " [1] top-level scope",
      "   @ In[4]:2"
     ]
    }
   ],
   "source": [
    "using LinearAlgebra\n",
    "(L,U) = (eigvals(Q),eigvecs(Q)) # L is the vector of eigenvalues and U is orthogonal\n",
    "U * Diagonal(L) * U' # this is equal to Q (as long as Q was symmetric to begin with)\n",
    ";"
   ]
  },
  {
   "cell_type": "markdown",
   "id": "01c386f7",
   "metadata": {},
   "source": [
    "(c)  We can write constraint (1) in norm format as follows:\n",
    "\n",
    "$‖Av‖_2^2−‖Bv‖_2^2\\leq 0 \\quad\\quad$ (2) \n",
    "\n",
    "Find matrices $A$ and $B$ that make this constraint equivalent to (1).\n",
    "\n",
    "(d)  Explain how to find $(x, y, z)$ that satisfy the above constraint but make $2x^2+ y^2 + z^2$ arbitrarily large."
   ]
  },
  {
   "cell_type": "markdown",
   "id": "38570d73",
   "metadata": {},
   "source": [
    "## Problem 2 -- Geometric Programming\n",
    "\n",
    "\n",
    "Fizzy Water, Inc. is designing a pipe that disinfects their water before it is packaged. The pipe is designed to heat the water to $T$ (degrees above ambient temperature). The pipe has a fixed length and circular cross section with radius $r$.  The pipe is wrapped in a layer of material with thickenss $w$ (much smaller than $r$) for insulation to minimize heat loss. The design variables for the pipe are $T, r,$ and $w$. \n",
    "\n",
    "Heat loss can be converted to energy cost and is roughly equal to $(\\alpha_1Tr)/w$ for some constant $\\alpha_1$. The cost of the pipe is approximately proportional to the total material used: $\\alpha_2r$ for a constant $\\alpha_2$. The insulation cost, similarly,is porportional to the total insulation material used, or roughly $\\alpha_3rw$ for a constant $\\alpha_3$. The total cost of constructing and using the pipe is the sum of these three costs. \n",
    "\n",
    "Fizzy Water wants to maximize the total heat flow through the pipe, which is proportional to the velocity of the water through the pipe. This value can be approximated by $\\alpha_4Tr^2$ for a constant $\\alpha_4$. All $\\alpha$ constants and all variables $T, r, w$ are strictly positive. \n",
    "\n",
    "The problem Fizzy Water wants you to help them solve is to maximize the total heat flow through the pipe, subject to their budget $C_{\\max}$ which is an upper bound on total cost. They also have the following constraints:\n",
    "\n",
    "* $T_{\\min} \\le T \\le T_{\\max}$\n",
    "* $r_{\\min} \\le r \\le r_{\\max}$\n",
    "* $w_{\\min} \\le w \\le w_{\\max}$\n",
    "* $w \\le 0.1r$\n",
    "\n",
    "(a) Express this problem as a geometric program, and convert it into a convex optimization problem.\n",
    "\n",
    "(b) Consider  a  simple  instance  of  this  problem where $C_{\\max} = 100$ and all $\\alpha_i$ values equal 1. Assume for simplicity that every variable ($T,r,w$) has a lower bound of 1 and no upper bound. Solve this problem using JuMP. Use the Ipopt solver (or any other solver that can solve convex optimization problems) and the \"@NLconstraint(...)\" command to specify any nonlinear constraints. What are the optimal $T, r$, and $w$?\n"
   ]
  },
  {
   "cell_type": "code",
   "execution_count": null,
   "id": "e178109c",
   "metadata": {},
   "outputs": [],
   "source": []
  }
 ],
 "metadata": {
  "kernelspec": {
   "display_name": "Julia 1.9.1",
   "language": "julia",
   "name": "julia-1.9"
  },
  "language_info": {
   "file_extension": ".jl",
   "mimetype": "application/julia",
   "name": "julia",
   "version": "1.9.1"
  }
 },
 "nbformat": 4,
 "nbformat_minor": 5
}
