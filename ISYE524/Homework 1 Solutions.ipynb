{
 "cells": [
  {
   "cell_type": "markdown",
   "id": "68554b5b",
   "metadata": {},
   "source": [
    "**Question 1**"
   ]
  },
  {
   "cell_type": "code",
   "execution_count": 42,
   "id": "569ddf53",
   "metadata": {},
   "outputs": [
    {
     "name": "stdout",
     "output_type": "stream",
     "text": [
      "Max 3 x1 + 2 x2\n",
      "Subject to\n",
      " x1 + x2 ≤ 80\n",
      " 2 x1 + x2 ≤ 100\n",
      " x1 ≥ 0\n",
      " x2 ≥ 0\n",
      " x1 ≤ 40\n",
      "\n",
      "\n",
      "Clp x1 = 20.0\n",
      "Clp x2 = 60.0\n",
      "Clp objective = 180.0\n",
      "Coin0506I Presolve 2 (0) rows, 2 (0) columns and 4 (0) elements\n",
      "Clp0006I 0  Obj 0 Dual inf 4.9999998 (2)\n",
      "Clp0006I 2  Obj 180\n",
      "Clp0000I Optimal - objective value 180\n",
      "Clp0032I Optimal objective 180 - 2 iterations time 0.002\n"
     ]
    }
   ],
   "source": [
    "using JuMP, Clp, ECOS, SCS\n",
    "\n",
    "#set model\n",
    "c = Model(Clp.Optimizer)\n",
    "#create variables, constraints\n",
    "@variable(c, 0 <= x1 <= 40)\n",
    "@variable(c, 0 <= x2)\n",
    "@constraint(c, x1 + x2 <= 80)\n",
    "@constraint(c, 2*x1 + x2 <= 100)\n",
    "#create objective\n",
    "@objective(c, Max, 3*x1 + 2*x2)\n",
    "#Solve\n",
    "optimize!(c)\n",
    "#display\n",
    "println(c)\n",
    "println()\n",
    "println(\"Clp x1 = \", value(x1))\n",
    "println(\"Clp x2 = \", value(x2))\n",
    "println(\"Clp objective = \", objective_value(c))"
   ]
  },
  {
   "cell_type": "code",
   "execution_count": 43,
   "id": "8b0e6e55",
   "metadata": {},
   "outputs": [
    {
     "name": "stdout",
     "output_type": "stream",
     "text": [
      "Max 3 x1 + 2 x2\n",
      "Subject to\n",
      " x1 + x2 ≤ 80\n",
      " 2 x1 + x2 ≤ 100\n",
      " x1 ≥ 0\n",
      " x2 ≥ 0\n",
      " x1 ≤ 40\n",
      "\n",
      "\n",
      "ECOS x1 = 19.999999995371343\n",
      "ECOS x2 = 60.00000000167184\n",
      "ECOS objective = 179.99999998945773\n",
      "\n",
      "ECOS 2.0.8 - (C) embotech GmbH, Zurich Switzerland, 2012-15. Web: www.embotech.com/ECOS\n",
      "\n",
      "It     pcost       dcost      gap   pres   dres    k/t    mu     step   sigma     IR    |   BT\n",
      " 0  -1.461e+02  -4.631e+02  +2e+02  1e-04  4e-01  1e+00  3e+01    ---    ---    1  1  - |  -  - \n",
      " 1  -1.675e+02  -2.025e+02  +2e+01  1e-05  6e-02  4e-01  3e+00  0.8915  1e-02   0  0  0 |  0  0\n",
      " 2  -1.793e+02  -1.884e+02  +5e+00  3e-06  2e-02  3e-01  8e-01  0.8382  9e-02   1  0  0 |  0  0\n",
      " 3  -1.800e+02  -1.801e+02  +6e-02  3e-08  2e-04  4e-03  1e-02  0.9882  1e-04   1  0  0 |  0  0\n",
      " 4  -1.800e+02  -1.800e+02  +6e-04  3e-10  2e-06  4e-05  1e-04  0.9890  1e-04   1  0  0 |  0  0\n",
      " 5  -1.800e+02  -1.800e+02  +7e-06  4e-12  3e-08  5e-07  1e-06  0.9890  1e-04   1  0  0 |  0  0\n",
      " 6  -1.800e+02  -1.800e+02  +8e-08  4e-14  3e-10  6e-09  1e-08  0.9890  1e-04   1  0  0 |  0  0\n",
      "\n",
      "OPTIMAL (within feastol=3.0e-10, reltol=4.2e-10, abstol=7.5e-08).\n",
      "Runtime: 0.000108 seconds.\n",
      "\n"
     ]
    }
   ],
   "source": [
    "#set model\n",
    "e = Model(ECOS.Optimizer)\n",
    "#create variables, constraints\n",
    "@variable(e, 0 <= x1 <= 40)\n",
    "@variable(e, 0 <= x2)\n",
    "@constraint(e, x1 + x2 <= 80)\n",
    "@constraint(e, 2*x1 + x2 <= 100)\n",
    "#create objective\n",
    "@objective(e, Max, 3*x1 + 2*x2)\n",
    "#Solve\n",
    "optimize!(e)\n",
    "#display\n",
    "println(e)\n",
    "println()\n",
    "println(\"ECOS x1 = \", value(x1) )\n",
    "println(\"ECOS x2 = \", value(x2) )\n",
    "println(\"ECOS objective = \", objective_value(e))"
   ]
  },
  {
   "cell_type": "code",
   "execution_count": 44,
   "id": "ebce45e5",
   "metadata": {},
   "outputs": [
    {
     "name": "stdout",
     "output_type": "stream",
     "text": [
      "------------------------------------------------------------------\n",
      "\t       SCS v3.2.3 - Splitting Conic Solver\n",
      "\t(c) Brendan O'Donoghue, Stanford University, 2012\n",
      "------------------------------------------------------------------\n",
      "problem:  variables n: 2, constraints m: 5\n",
      "cones: \t  l: linear vars: 5\n",
      "settings: eps_abs: 1.0e-04, eps_rel: 1.0e-04, eps_infeas: 1.0e-07\n",
      "\t  alpha: 1.50, scale: 1.00e-01, adaptive_scale: 1\n",
      "\t  max_iters: 100000, normalize: 1, rho_x: 1.00e-06\n",
      "\t  acceleration_lookback: 10, acceleration_interval: 10\n",
      "lin-sys:  sparse-direct-amd-qdldl\n",
      "\t  nnz(A): 7, nnz(P): 0\n",
      "------------------------------------------------------------------\n",
      " iter | pri res | dua res |   gap   |   obj   |  scale  | time (s)\n",
      "------------------------------------------------------------------\n",
      "     0| 1.00e+02  3.00e+00  3.23e+02 -1.61e+02  1.00e-01  9.95e-05 \n",
      "   100| 1.02e-04  9.58e-06  7.89e-04 -1.80e+02  1.00e-01  4.93e-04 \n",
      "------------------------------------------------------------------\n",
      "status:  solved\n",
      "timings: total: 4.95e-04s = setup: 7.59e-05s + solve: 4.19e-04s\n",
      "\t lin-sys: 2.45e-05s, cones: 6.87e-06s, accel: 8.08e-05s\n",
      "------------------------------------------------------------------\n",
      "objective = -180.000210\n",
      "------------------------------------------------------------------\n",
      "Max 3 x1 + 2 x2\n",
      "Subject to\n",
      " x1 + x2 ≤ 80\n",
      " 2 x1 + x2 ≤ 100\n",
      " x1 ≥ 0\n",
      " x2 ≥ 0\n",
      " x1 ≤ 40\n",
      "\n",
      "\n",
      "SCS x1 = 19.99998043952768\n",
      "SCS x2 = 59.99993712091008\n",
      "SCS objective = 179.9998155604032\n"
     ]
    }
   ],
   "source": [
    "#set model\n",
    "s = Model(SCS.Optimizer)\n",
    "#create variables, constraints\n",
    "@variable(s, 0 <= x1 <= 40)\n",
    "@variable(s, 0 <= x2)\n",
    "@constraint(s, x1 + x2 <= 80)\n",
    "@constraint(s, 2*x1 + x2 <= 100)\n",
    "#create objective\n",
    "@objective(s, Max, 3*x1 + 2*x2)\n",
    "#Solve\n",
    "optimize!(s)\n",
    "#display\n",
    "println(s)\n",
    "println()\n",
    "println(\"SCS x1 = \", value(x1))\n",
    "println(\"SCS x2 = \", value(x2))\n",
    "println(\"SCS objective = \", objective_value(s))"
   ]
  },
  {
   "cell_type": "markdown",
   "id": "02bade71",
   "metadata": {},
   "source": [
    "**Results:**\n",
    "Based on the results above, it seems that the Clp solver model had the most accurate answer, as it was able to find the highest objective, although the other two models had essentially the same answer, with minor noise mixed in as a result of the mode by which the solver introduces in an attempt to get the most accurate answer. "
   ]
  },
  {
   "cell_type": "code",
   "execution_count": 51,
   "id": "a49b105b",
   "metadata": {},
   "outputs": [
    {
     "name": "stdout",
     "output_type": "stream",
     "text": [
      "  0.000359 seconds (2 allocations: 32 bytes)\n",
      "Coin0506I Presolve 2 (0) rows, 2 (0) columns and 4 (0) elements\n",
      "Clp0000I Optimal - objective value 180\n",
      "Clp0032I Optimal objective 180 - 0 iterations time 0.002\n"
     ]
    }
   ],
   "source": [
    "@time(optimize!(c))"
   ]
  },
  {
   "cell_type": "code",
   "execution_count": 52,
   "id": "09ca08cb",
   "metadata": {},
   "outputs": [
    {
     "name": "stdout",
     "output_type": "stream",
     "text": [
      "  0.000510 seconds (304 allocations: 23.672 KiB)\n",
      "\n",
      "ECOS 2.0.8 - (C) embotech GmbH, Zurich Switzerland, 2012-15. Web: www.embotech.com/ECOS\n",
      "\n",
      "It     pcost       dcost      gap   pres   dres    k/t    mu     step   sigma     IR    |   BT\n",
      " 0  -1.461e+02  -4.631e+02  +2e+02  1e-04  4e-01  1e+00  3e+01    ---    ---    1  1  - |  -  - \n",
      " 1  -1.675e+02  -2.025e+02  +2e+01  1e-05  6e-02  4e-01  3e+00  0.8915  1e-02   0  0  0 |  0  0\n",
      " 2  -1.793e+02  -1.884e+02  +5e+00  3e-06  2e-02  3e-01  8e-01  0.8382  9e-02   1  0  0 |  0  0\n",
      " 3  -1.800e+02  -1.801e+02  +6e-02  3e-08  2e-04  4e-03  1e-02  0.9882  1e-04   1  0  0 |  0  0\n",
      " 4  -1.800e+02  -1.800e+02  +6e-04  3e-10  2e-06  4e-05  1e-04  0.9890  1e-04   1  0  0 |  0  0\n",
      " 5  -1.800e+02  -1.800e+02  +7e-06  4e-12  3e-08  5e-07  1e-06  0.9890  1e-04   1  0  0 |  0  0\n",
      " 6  -1.800e+02  -1.800e+02  +8e-08  4e-14  3e-10  6e-09  1e-08  0.9890  1e-04   1  0  0 |  0  0\n",
      "\n",
      "OPTIMAL (within feastol=3.0e-10, reltol=4.2e-10, abstol=7.5e-08).\n",
      "Runtime: 0.000125 seconds.\n",
      "\n"
     ]
    }
   ],
   "source": [
    "@time(optimize!(e))"
   ]
  },
  {
   "cell_type": "code",
   "execution_count": 53,
   "id": "11c58d36",
   "metadata": {},
   "outputs": [
    {
     "name": "stdout",
     "output_type": "stream",
     "text": [
      "------------------------------------------------------------------\n",
      "\t       SCS v3.2.3 - Splitting Conic Solver\n",
      "\t(c) Brendan O'Donoghue, Stanford University, 2012\n",
      "------------------------------------------------------------------\n",
      "problem:  variables n: 2, constraints m: 5\n",
      "cones: \t  l: linear vars: 5\n",
      "settings: eps_abs: 1.0e-04, eps_rel: 1.0e-04, eps_infeas: 1.0e-07\n",
      "\t  alpha: 1.50, scale: 1.00e-01, adaptive_scale: 1\n",
      "\t  max_iters: 100000, normalize: 1, rho_x: 1.00e-06\n",
      "\t  acceleration_lookback: 10, acceleration_interval: 10\n",
      "lin-sys:  sparse-direct-amd-qdldl\n",
      "\t  nnz(A): 7, nnz(P): 0\n",
      "------------------------------------------------------------------\n",
      " iter | pri res | dua res |   gap   |   obj   |  scale  | time (s)\n",
      "------------------------------------------------------------------\n",
      "     0| 1.00e+02  3.00e+00  3.23e+02 -1.61e+02  1.00e-01  1.28e-04 \n",
      "   100| 1.02e-04  9.58e-06  7.89e-04 -1.80e+02  1.00e-01  5.93e-04 \n",
      "------------------------------------------------------------------\n",
      "status:  solved\n",
      "timings: total: 5.96e-04s = setup: 9.58e-05s + solve: 5.00e-04s\n",
      "\t lin-sys: 2.80e-05s, cones: 8.92e-06s, accel: 9.77e-05s\n",
      "------------------------------------------------------------------\n",
      "objective = -180.000210\n",
      "------------------------------------------------------------------\n",
      "  0.001215 seconds (488 allocations: 33.148 KiB)\n"
     ]
    }
   ],
   "source": [
    "@time(optimize!(s))"
   ]
  },
  {
   "cell_type": "markdown",
   "id": "c8f6d055",
   "metadata": {},
   "source": [
    "**Results:** Although each solver decreases its runtime for each consecutive time the code is run, Clp and ECOS solvers seem to have a much faster runtime that SCS, which is explained by the fact that SCS solvers output a lot of information, which bogs down its computing time. As such, Clp seems to have the overall fastest runtime, followed closely by ECOS, and then SCS, with the difference being attributed to output volume. Especially for linear programming questions such as this one, SCS and ECOS are at a disadvantage simply because they are conic solvers, hence taking more time. "
   ]
  },
  {
   "cell_type": "markdown",
   "id": "0d2d4d26",
   "metadata": {},
   "source": [
    "**Question 2**"
   ]
  },
  {
   "cell_type": "markdown",
   "id": "c867b61a",
   "metadata": {},
   "source": [
    "(a)\n",
    "Math Model: \n",
    "\\begin{align*}\n",
    "\\ max  \\phantom{x_1 +} 100x_1 + 30x_2\\\\\n",
    "   \\mbox{s.t. } \\phantom{4x_1 +} x_1 + x_2 &\\leq 7\\\\\n",
    "  10x_1 + 4x_2 &\\leq 40\\\\\n",
    "  x_2 &\\geq 3\\\\\n",
    "  x_1, x_2\\geq 0\\\\\n",
    "\\end{align*}  \n"
   ]
  },
  {
   "cell_type": "code",
   "execution_count": 193,
   "id": "f59d3338",
   "metadata": {},
   "outputs": [
    {
     "name": "stdout",
     "output_type": "stream",
     "text": [
      "Max 100 x1 + 30 x2\n",
      "Subject to\n",
      " x2 ≥ 3\n",
      " x1 + x2 ≤ 7\n",
      " 10 x1 + 4 x2 ≤ 40\n",
      " x1 ≥ 0\n",
      " x2 ≥ 0\n",
      "\n",
      "\n",
      "Clp x1 = 2.8\n",
      "Clp x2 = 3.0\n",
      "Clp objective = 370.0\n",
      "Coin0506I Presolve 2 (-1) rows, 2 (0) columns and 4 (-1) elements\n",
      "Clp0006I 0  Obj 90 Dual inf 130 (2)\n",
      "Clp0006I 3  Obj 370\n",
      "Clp0000I Optimal - objective value 370\n",
      "Coin0511I After Postsolve, objective 370, infeasibilities - dual 0 (0), primal 0 (0)\n",
      "Clp0032I Optimal objective 370 - 3 iterations time 0.002, Presolve 0.00\n"
     ]
    }
   ],
   "source": [
    "using JuMP, Clp\n",
    "\n",
    "m = Model(Clp.Optimizer)\n",
    "#create variables, constraints -> x1 = acres of hay, x2 = acres of corn\n",
    "@variable(m, x1 >= 0)\n",
    "@variable(m, x2 >= 0)\n",
    "@constraint(m, x1 + x2 <= 7)\n",
    "@constraint(m, 10*x1 + 4*x2 <= 40)\n",
    "@constraint(m, x2 >= 3)\n",
    "#create objective\n",
    "@objective(m, Max, 100*x1 + 30*x2)\n",
    "#Solve\n",
    "optimize!(m)\n",
    "#display\n",
    "println(m)\n",
    "println()\n",
    "println(\"Clp x1 = \", value(x1))\n",
    "println(\"Clp x2 = \", value(x2))\n",
    "println(\"Clp objective = \", objective_value(m))"
   ]
  },
  {
   "cell_type": "markdown",
   "id": "1fb755f9",
   "metadata": {},
   "source": [
    "(b) Code the same model once again, this time separating the parameters from the solution as we did in class (see Top Brass examples). Confirm that you obtain the same solution as in part (a)."
   ]
  },
  {
   "cell_type": "code",
   "execution_count": 2,
   "id": "3ec31e5d",
   "metadata": {},
   "outputs": [
    {
     "data": {
      "text/plain": [
       "Dict{Symbol, Int64} with 2 entries:\n",
       "  :hay  => 1\n",
       "  :corn => 1"
      ]
     },
     "execution_count": 2,
     "metadata": {},
     "output_type": "execute_result"
    }
   ],
   "source": [
    "bushels = [:hay, :corn] \n",
    "\n",
    "acreage = Dict(:hay => 1, :corn => 1)\n",
    "\n",
    "labor_req = Dict(:hay => 10, :corn => 4) \n",
    "\n",
    "govt_req = Dict(:corn => 3)\n",
    "\n",
    "yield = Dict(:hay => 25, :corn => 10)\n",
    "\n",
    "profit = Dict( :hay => 4, :corn => 3) \n",
    "\n",
    "time = 40\n",
    "acre_lim = 7;     "
   ]
  },
  {
   "cell_type": "code",
   "execution_count": 195,
   "id": "af94c75c",
   "metadata": {},
   "outputs": [
    {
     "name": "stdout",
     "output_type": "stream",
     "text": [
      "1-dimensional DenseAxisArray{Float64,1,...} with index sets:\n",
      "    Dimension 1, [:hay, :corn]\n",
      "And data, a 2-element Vector{Float64}:\n",
      " 2.8\n",
      " 3.0\n",
      "Coin0506I Presolve 2 (-1) rows, 2 (0) columns and 4 (-1) elements\n",
      "Clp0006I 0  Obj 90 Dual inf 130 (2)\n",
      "Clp0006I 3  Obj 370\n",
      "Clp0000I Optimal - objective value 370\n",
      "Coin0511I After Postsolve, objective 370, infeasibilities - dual 0 (0), primal 0 (0)\n",
      "Clp0032I Optimal objective 370 - 3 iterations time 0.002, Presolve 0.00\n"
     ]
    }
   ],
   "source": [
    "using JuMP, Clp\n",
    "m = Model(Clp.Optimizer)\n",
    "\n",
    "@variable(m, bushel[bushels] >= 0)\n",
    "@objective(m, Max, sum(profit[i] * yield[i] *bushel[i] for i in bushels))  \n",
    "@constraint(m, sum(labor_req[i] * bushel[i] for i in bushels) <= time)\n",
    "@constraint(m, sum(acreage[i] * bushel[i] for i in bushels) <= acre_lim)\n",
    "@constraint(m, bushel[:corn] >= 3)\n",
    "\n",
    "optimize!(m)\n",
    "\n",
    "println(value.(bushel))\n"
   ]
  },
  {
   "cell_type": "markdown",
   "id": "ba7d85b8",
   "metadata": {},
   "source": [
    "(c) Solve the problem graphically by plotting the feasible set and at least two isocost lines for the objective function. Confirm that you obtain the same solution as in the previous parts."
   ]
  },
  {
   "cell_type": "code",
   "execution_count": 197,
   "id": "545b8ffe",
   "metadata": {},
   "outputs": [
    {
     "data": {
      "image/png": "[encoded data removed]",
      "image/svg+xml": [
       "<?xml version=\"1.0\" encoding=\"utf-8\"?>\n",
       "<svg xmlns=\"http://www.w3.org/2000/svg\" xmlns:xlink=\"http://www.w3.org/1999/xlink\" width=\"600\" height=\"400\" viewBox=\"0 0 2400 1600\">\n",
       "<defs>\n",
       "  <clipPath id=\"clip370\">\n",
       "    <rect x=\"0\" y=\"0\" width=\"2400\" height=\"1600\"/>\n",
       "  </clipPath>\n",
       "</defs>\n",
       "<path clip-path=\"url(#clip370)\" d=\"M0 1600 L2400 1600 L2400 0 L0 0  Z\" fill=\"#ffffff\" fill-rule=\"evenodd\" fill-opacity=\"1\"/>\n",
       "<defs>\n",
       "  <clipPath id=\"clip371\">\n",
       "    <rect x=\"480\" y=\"0\" width=\"1681\" height=\"1600\"/>\n",
       "  </clipPath>\n",
       "</defs>\n",
       "<path clip-path=\"url(#clip370)\" d=\"M210.977 1423.18 L2352.76 1423.18 L2352.76 123.472 L210.977 123.472  Z\" fill=\"#ffffff\" fill-rule=\"evenodd\" fill-opacity=\"1\"/>\n",
       "<defs>\n",
       "  <clipPath id=\"clip372\">\n",
       "    <rect x=\"210\" y=\"123\" width=\"2143\" height=\"1301\"/>\n",
       "  </clipPath>\n",
       "</defs>\n",
       "<polyline clip-path=\"url(#clip372)\" style=\"stroke:#000000; stroke-linecap:round; stroke-linejoin:round; stroke-width:2; stroke-opacity:0.1; fill:none\" points=\"271.594,1423.18 271.594,123.472 \"/>\n",
       "<polyline clip-path=\"url(#clip372)\" style=\"stroke:#000000; stroke-linecap:round; stroke-linejoin:round; stroke-width:2; stroke-opacity:0.1; fill:none\" points=\"848.893,1423.18 848.893,123.472 \"/>\n",
       "<polyline clip-path=\"url(#clip372)\" style=\"stroke:#000000; stroke-linecap:round; stroke-linejoin:round; stroke-width:2; stroke-opacity:0.1; fill:none\" points=\"1426.19,1423.18 1426.19,123.472 \"/>\n",
       "<polyline clip-path=\"url(#clip372)\" style=\"stroke:#000000; stroke-linecap:round; stroke-linejoin:round; stroke-width:2; stroke-opacity:0.1; fill:none\" points=\"2003.49,1423.18 2003.49,123.472 \"/>\n",
       "<polyline clip-path=\"url(#clip370)\" style=\"stroke:#000000; stroke-linecap:round; stroke-linejoin:round; stroke-width:4; stroke-opacity:1; fill:none\" points=\"210.977,1423.18 2352.76,1423.18 \"/>\n",
       "<polyline clip-path=\"url(#clip370)\" style=\"stroke:#000000; stroke-linecap:round; stroke-linejoin:round; stroke-width:4; stroke-opacity:1; fill:none\" points=\"271.594,1423.18 271.594,1404.28 \"/>\n",
       "<polyline clip-path=\"url(#clip370)\" style=\"stroke:#000000; stroke-linecap:round; stroke-linejoin:round; stroke-width:4; stroke-opacity:1; fill:none\" points=\"848.893,1423.18 848.893,1404.28 \"/>\n",
       "<polyline clip-path=\"url(#clip370)\" style=\"stroke:#000000; stroke-linecap:round; stroke-linejoin:round; stroke-width:4; stroke-opacity:1; fill:none\" points=\"1426.19,1423.18 1426.19,1404.28 \"/>\n",
       "<polyline clip-path=\"url(#clip370)\" style=\"stroke:#000000; stroke-linecap:round; stroke-linejoin:round; stroke-width:4; stroke-opacity:1; fill:none\" points=\"2003.49,1423.18 2003.49,1404.28 \"/>\n",
       "<path clip-path=\"url(#clip370)\" d=\"M271.594 1454.1 Q267.983 1454.1 266.154 1457.66 Q264.348 1461.2 264.348 1468.33 Q264.348 1475.44 266.154 1479.01 Q267.983 1482.55 271.594 1482.55 Q275.228 1482.55 277.034 1479.01 Q278.862 1475.44 278.862 1468.33 Q278.862 1461.2 277.034 1457.66 Q275.228 1454.1 271.594 1454.1 M271.594 1450.39 Q277.404 1450.39 280.459 1455 Q283.538 1459.58 283.538 1468.33 Q283.538 1477.06 280.459 1481.67 Q277.404 1486.25 271.594 1486.25 Q265.784 1486.25 262.705 1481.67 Q259.649 1477.06 259.649 1468.33 Q259.649 1459.58 262.705 1455 Q265.784 1450.39 271.594 1450.39 Z\" fill=\"#000000\" fill-rule=\"nonzero\" fill-opacity=\"1\" /><path clip-path=\"url(#clip370)\" d=\"M843.545 1481.64 L859.865 1481.64 L859.865 1485.58 L837.92 1485.58 L837.92 1481.64 Q840.582 1478.89 845.166 1474.26 Q849.772 1469.61 850.953 1468.27 Q853.198 1465.74 854.078 1464.01 Q854.981 1462.25 854.981 1460.56 Q854.981 1457.8 853.036 1456.07 Q851.115 1454.33 848.013 1454.33 Q845.814 1454.33 843.36 1455.09 Q840.93 1455.86 838.152 1457.41 L838.152 1452.69 Q840.976 1451.55 843.43 1450.97 Q845.883 1450.39 847.92 1450.39 Q853.291 1450.39 856.485 1453.08 Q859.68 1455.77 859.68 1460.26 Q859.68 1462.39 858.869 1464.31 Q858.082 1466.2 855.976 1468.8 Q855.397 1469.47 852.295 1472.69 Q849.194 1475.88 843.545 1481.64 Z\" fill=\"#000000\" fill-rule=\"nonzero\" fill-opacity=\"1\" /><path clip-path=\"url(#clip370)\" d=\"M1429.2 1455.09 L1417.4 1473.54 L1429.2 1473.54 L1429.2 1455.09 M1427.97 1451.02 L1433.85 1451.02 L1433.85 1473.54 L1438.78 1473.54 L1438.78 1477.43 L1433.85 1477.43 L1433.85 1485.58 L1429.2 1485.58 L1429.2 1477.43 L1413.6 1477.43 L1413.6 1472.92 L1427.97 1451.02 Z\" fill=\"#000000\" fill-rule=\"nonzero\" fill-opacity=\"1\" /><path clip-path=\"url(#clip370)\" d=\"M2003.9 1466.44 Q2000.75 1466.44 1998.9 1468.59 Q1997.07 1470.74 1997.07 1474.49 Q1997.07 1478.22 1998.9 1480.39 Q2000.75 1482.55 2003.9 1482.55 Q2007.04 1482.55 2008.87 1480.39 Q2010.72 1478.22 2010.72 1474.49 Q2010.72 1470.74 2008.87 1468.59 Q2007.04 1466.44 2003.9 1466.44 M2013.18 1451.78 L2013.18 1456.04 Q2011.42 1455.21 2009.61 1454.77 Q2007.83 1454.33 2006.07 1454.33 Q2001.44 1454.33 1998.99 1457.45 Q1996.56 1460.58 1996.21 1466.9 Q1997.58 1464.89 1999.64 1463.82 Q2001.7 1462.73 2004.17 1462.73 Q2009.38 1462.73 2012.39 1465.9 Q2015.42 1469.05 2015.42 1474.49 Q2015.42 1479.82 2012.27 1483.03 Q2009.13 1486.25 2003.9 1486.25 Q1997.9 1486.25 1994.73 1481.67 Q1991.56 1477.06 1991.56 1468.33 Q1991.56 1460.14 1995.45 1455.28 Q1999.34 1450.39 2005.89 1450.39 Q2007.65 1450.39 2009.43 1450.74 Q2011.23 1451.09 2013.18 1451.78 Z\" fill=\"#000000\" fill-rule=\"nonzero\" fill-opacity=\"1\" /><path clip-path=\"url(#clip370)\" d=\"M1255.74 1546.53 L1255.74 1568.04 L1249.88 1568.04 L1249.88 1546.72 Q1249.88 1541.66 1247.91 1539.14 Q1245.93 1536.63 1241.99 1536.63 Q1237.24 1536.63 1234.51 1539.65 Q1231.77 1542.68 1231.77 1547.9 L1231.77 1568.04 L1225.88 1568.04 L1225.88 1518.52 L1231.77 1518.52 L1231.77 1537.93 Q1233.87 1534.72 1236.7 1533.13 Q1239.57 1531.54 1243.29 1531.54 Q1249.43 1531.54 1252.58 1535.36 Q1255.74 1539.14 1255.74 1546.53 Z\" fill=\"#000000\" fill-rule=\"nonzero\" fill-opacity=\"1\" /><path clip-path=\"url(#clip370)\" d=\"M1283.62 1550.12 Q1276.52 1550.12 1273.78 1551.75 Q1271.04 1553.37 1271.04 1557.29 Q1271.04 1560.4 1273.08 1562.25 Q1275.15 1564.07 1278.68 1564.07 Q1283.55 1564.07 1286.48 1560.63 Q1289.44 1557.16 1289.44 1551.43 L1289.44 1550.12 L1283.62 1550.12 M1295.3 1547.71 L1295.3 1568.04 L1289.44 1568.04 L1289.44 1562.63 Q1287.44 1565.88 1284.44 1567.44 Q1281.45 1568.97 1277.12 1568.97 Q1271.65 1568.97 1268.4 1565.91 Q1265.19 1562.82 1265.19 1557.67 Q1265.19 1551.65 1269.2 1548.6 Q1273.24 1545.54 1281.23 1545.54 L1289.44 1545.54 L1289.44 1544.97 Q1289.44 1540.93 1286.77 1538.73 Q1284.13 1536.5 1279.32 1536.5 Q1276.26 1536.5 1273.37 1537.23 Q1270.47 1537.97 1267.8 1539.43 L1267.8 1534.02 Q1271.01 1532.78 1274.04 1532.17 Q1277.06 1531.54 1279.93 1531.54 Q1287.66 1531.54 1291.48 1535.55 Q1295.3 1539.56 1295.3 1547.71 Z\" fill=\"#000000\" fill-rule=\"nonzero\" fill-opacity=\"1\" /><path clip-path=\"url(#clip370)\" d=\"M1322.19 1571.35 Q1319.71 1577.72 1317.36 1579.66 Q1315 1581.6 1311.05 1581.6 L1306.37 1581.6 L1306.37 1576.7 L1309.81 1576.7 Q1312.23 1576.7 1313.57 1575.56 Q1314.9 1574.41 1316.53 1570.14 L1317.58 1567.47 L1303.16 1532.4 L1309.37 1532.4 L1320.51 1560.28 L1331.65 1532.4 L1337.85 1532.4 L1322.19 1571.35 Z\" fill=\"#000000\" fill-rule=\"nonzero\" fill-opacity=\"1\" /><polyline clip-path=\"url(#clip372)\" style=\"stroke:#000000; stroke-linecap:round; stroke-linejoin:round; stroke-width:2; stroke-opacity:0.1; fill:none\" points=\"210.977,1211.23 2352.76,1211.23 \"/>\n",
       "<polyline clip-path=\"url(#clip372)\" style=\"stroke:#000000; stroke-linecap:round; stroke-linejoin:round; stroke-width:2; stroke-opacity:0.1; fill:none\" points=\"210.977,860.907 2352.76,860.907 \"/>\n",
       "<polyline clip-path=\"url(#clip372)\" style=\"stroke:#000000; stroke-linecap:round; stroke-linejoin:round; stroke-width:2; stroke-opacity:0.1; fill:none\" points=\"210.977,510.582 2352.76,510.582 \"/>\n",
       "<polyline clip-path=\"url(#clip372)\" style=\"stroke:#000000; stroke-linecap:round; stroke-linejoin:round; stroke-width:2; stroke-opacity:0.1; fill:none\" points=\"210.977,160.256 2352.76,160.256 \"/>\n",
       "<polyline clip-path=\"url(#clip370)\" style=\"stroke:#000000; stroke-linecap:round; stroke-linejoin:round; stroke-width:4; stroke-opacity:1; fill:none\" points=\"210.977,1423.18 210.977,123.472 \"/>\n",
       "<polyline clip-path=\"url(#clip370)\" style=\"stroke:#000000; stroke-linecap:round; stroke-linejoin:round; stroke-width:4; stroke-opacity:1; fill:none\" points=\"210.977,1211.23 229.875,1211.23 \"/>\n",
       "<polyline clip-path=\"url(#clip370)\" style=\"stroke:#000000; stroke-linecap:round; stroke-linejoin:round; stroke-width:4; stroke-opacity:1; fill:none\" points=\"210.977,860.907 229.875,860.907 \"/>\n",
       "<polyline clip-path=\"url(#clip370)\" style=\"stroke:#000000; stroke-linecap:round; stroke-linejoin:round; stroke-width:4; stroke-opacity:1; fill:none\" points=\"210.977,510.582 229.875,510.582 \"/>\n",
       "<polyline clip-path=\"url(#clip370)\" style=\"stroke:#000000; stroke-linecap:round; stroke-linejoin:round; stroke-width:4; stroke-opacity:1; fill:none\" points=\"210.977,160.256 229.875,160.256 \"/>\n",
       "<path clip-path=\"url(#clip370)\" d=\"M114.26 1211.68 L143.936 1211.68 L143.936 1215.62 L114.26 1215.62 L114.26 1211.68 Z\" fill=\"#000000\" fill-rule=\"nonzero\" fill-opacity=\"1\" /><path clip-path=\"url(#clip370)\" d=\"M154.075 1193.95 L172.431 1193.95 L172.431 1197.89 L158.357 1197.89 L158.357 1206.36 Q159.376 1206.01 160.394 1205.85 Q161.413 1205.67 162.431 1205.67 Q168.218 1205.67 171.598 1208.84 Q174.977 1212.01 174.977 1217.42 Q174.977 1223 171.505 1226.11 Q168.033 1229.18 161.714 1229.18 Q159.538 1229.18 157.269 1228.81 Q155.024 1228.44 152.616 1227.7 L152.616 1223 Q154.7 1224.14 156.922 1224.69 Q159.144 1225.25 161.621 1225.25 Q165.626 1225.25 167.964 1223.14 Q170.302 1221.04 170.302 1217.42 Q170.302 1213.81 167.964 1211.71 Q165.626 1209.6 161.621 1209.6 Q159.746 1209.6 157.871 1210.02 Q156.019 1210.43 154.075 1211.31 L154.075 1193.95 Z\" fill=\"#000000\" fill-rule=\"nonzero\" fill-opacity=\"1\" /><path clip-path=\"url(#clip370)\" d=\"M163.033 846.706 Q159.422 846.706 157.593 850.271 Q155.788 853.812 155.788 860.942 Q155.788 868.049 157.593 871.613 Q159.422 875.155 163.033 875.155 Q166.667 875.155 168.473 871.613 Q170.302 868.049 170.302 860.942 Q170.302 853.812 168.473 850.271 Q166.667 846.706 163.033 846.706 M163.033 843.002 Q168.843 843.002 171.899 847.609 Q174.977 852.192 174.977 860.942 Q174.977 869.669 171.899 874.275 Q168.843 878.859 163.033 878.859 Q157.223 878.859 154.144 874.275 Q151.089 869.669 151.089 860.942 Q151.089 852.192 154.144 847.609 Q157.223 843.002 163.033 843.002 Z\" fill=\"#000000\" fill-rule=\"nonzero\" fill-opacity=\"1\" /><path clip-path=\"url(#clip370)\" d=\"M154.075 493.302 L172.431 493.302 L172.431 497.237 L158.357 497.237 L158.357 505.709 Q159.376 505.362 160.394 505.2 Q161.413 505.015 162.431 505.015 Q168.218 505.015 171.598 508.186 Q174.977 511.357 174.977 516.774 Q174.977 522.353 171.505 525.454 Q168.033 528.533 161.714 528.533 Q159.538 528.533 157.269 528.163 Q155.024 527.792 152.616 527.052 L152.616 522.353 Q154.7 523.487 156.922 524.042 Q159.144 524.598 161.621 524.598 Q165.626 524.598 167.964 522.491 Q170.302 520.385 170.302 516.774 Q170.302 513.163 167.964 511.056 Q165.626 508.95 161.621 508.95 Q159.746 508.95 157.871 509.367 Q156.019 509.783 154.075 510.663 L154.075 493.302 Z\" fill=\"#000000\" fill-rule=\"nonzero\" fill-opacity=\"1\" /><path clip-path=\"url(#clip370)\" d=\"M123.681 173.601 L131.32 173.601 L131.32 147.236 L123.01 148.902 L123.01 144.643 L131.274 142.976 L135.95 142.976 L135.95 173.601 L143.589 173.601 L143.589 177.536 L123.681 177.536 L123.681 173.601 Z\" fill=\"#000000\" fill-rule=\"nonzero\" fill-opacity=\"1\" /><path clip-path=\"url(#clip370)\" d=\"M163.033 146.055 Q159.422 146.055 157.593 149.62 Q155.788 153.161 155.788 160.291 Q155.788 167.397 157.593 170.962 Q159.422 174.504 163.033 174.504 Q166.667 174.504 168.473 170.962 Q170.302 167.397 170.302 160.291 Q170.302 153.161 168.473 149.62 Q166.667 146.055 163.033 146.055 M163.033 142.351 Q168.843 142.351 171.899 146.958 Q174.977 151.541 174.977 160.291 Q174.977 169.018 171.899 173.624 Q168.843 178.208 163.033 178.208 Q157.223 178.208 154.144 173.624 Q151.089 169.018 151.089 160.291 Q151.089 151.541 154.144 146.958 Q157.223 142.351 163.033 142.351 Z\" fill=\"#000000\" fill-rule=\"nonzero\" fill-opacity=\"1\" /><path clip-path=\"url(#clip370)\" d=\"M29.7248 811.902 L35.1993 811.902 Q33.8307 814.385 33.1623 816.899 Q32.4621 819.382 32.4621 821.928 Q32.4621 827.625 36.0905 830.776 Q39.6872 833.928 46.212 833.928 Q52.7369 833.928 56.3653 830.776 Q59.9619 827.625 59.9619 821.928 Q59.9619 819.382 59.2935 816.899 Q58.5933 814.385 57.2247 811.902 L62.6355 811.902 Q63.7814 814.353 64.3543 816.995 Q64.9272 819.605 64.9272 822.565 Q64.9272 830.617 59.8664 835.36 Q54.8057 840.102 46.212 840.102 Q37.491 840.102 32.4939 835.328 Q27.4968 830.522 27.4968 822.183 Q27.4968 819.477 28.0697 816.899 Q28.6108 814.321 29.7248 811.902 Z\" fill=\"#000000\" fill-rule=\"nonzero\" fill-opacity=\"1\" /><path clip-path=\"url(#clip370)\" d=\"M32.4621 787.903 Q32.4621 792.614 36.1542 795.351 Q39.8145 798.089 46.212 798.089 Q52.6095 798.089 56.3017 795.383 Q59.9619 792.646 59.9619 787.903 Q59.9619 783.225 56.2698 780.487 Q52.5777 777.75 46.212 777.75 Q39.8781 777.75 36.186 780.487 Q32.4621 783.225 32.4621 787.903 M27.4968 787.903 Q27.4968 780.265 32.4621 775.904 Q37.4273 771.544 46.212 771.544 Q54.9649 771.544 59.9619 775.904 Q64.9272 780.265 64.9272 787.903 Q64.9272 795.574 59.9619 799.935 Q54.9649 804.263 46.212 804.263 Q37.4273 804.263 32.4621 799.935 Q27.4968 795.574 27.4968 787.903 Z\" fill=\"#000000\" fill-rule=\"nonzero\" fill-opacity=\"1\" /><path clip-path=\"url(#clip370)\" d=\"M33.8307 741.179 Q33.2578 742.166 33.0032 743.344 Q32.7167 744.489 32.7167 745.89 Q32.7167 750.855 35.9632 753.529 Q39.1779 756.17 45.2253 756.17 L64.0042 756.17 L64.0042 762.059 L28.3562 762.059 L28.3562 756.17 L33.8944 756.17 Q30.6479 754.324 29.0883 751.364 Q27.4968 748.404 27.4968 744.171 Q27.4968 743.566 27.5923 742.834 Q27.656 742.102 27.8151 741.211 L33.8307 741.179 Z\" fill=\"#000000\" fill-rule=\"nonzero\" fill-opacity=\"1\" /><path clip-path=\"url(#clip370)\" d=\"M42.4881 706.55 L64.0042 706.55 L64.0042 712.406 L42.679 712.406 Q37.6183 712.406 35.1038 714.38 Q32.5894 716.353 32.5894 720.3 Q32.5894 725.042 35.6131 727.779 Q38.6368 730.517 43.8567 730.517 L64.0042 730.517 L64.0042 736.405 L28.3562 736.405 L28.3562 730.517 L33.8944 730.517 Q30.6797 728.416 29.0883 725.583 Q27.4968 722.719 27.4968 718.995 Q27.4968 712.852 31.3163 709.701 Q35.1038 706.55 42.4881 706.55 Z\" fill=\"#000000\" fill-rule=\"nonzero\" fill-opacity=\"1\" /><path clip-path=\"url(#clip370)\" d=\"M1041.3 12.096 L1076.06 12.096 L1076.06 18.9825 L1049.49 18.9825 L1049.49 36.8065 L1073.47 36.8065 L1073.47 43.6931 L1049.49 43.6931 L1049.49 72.576 L1041.3 72.576 L1041.3 12.096 Z\" fill=\"#000000\" fill-rule=\"nonzero\" fill-opacity=\"1\" /><path clip-path=\"url(#clip370)\" d=\"M1122.97 48.0275 L1122.97 51.6733 L1088.7 51.6733 Q1089.19 59.3701 1093.32 63.421 Q1097.49 67.4314 1104.9 67.4314 Q1109.2 67.4314 1113.21 66.3781 Q1117.26 65.3249 1121.23 63.2184 L1121.23 70.267 Q1117.22 71.9684 1113 72.8596 Q1108.79 73.7508 1104.46 73.7508 Q1093.6 73.7508 1087.24 67.4314 Q1080.92 61.1119 1080.92 50.3365 Q1080.92 39.1965 1086.92 32.6746 Q1092.95 26.1121 1103.16 26.1121 Q1112.32 26.1121 1117.62 32.0264 Q1122.97 37.9003 1122.97 48.0275 M1115.52 45.84 Q1115.44 39.7232 1112.07 36.0774 Q1108.75 32.4315 1103.24 32.4315 Q1097 32.4315 1093.24 35.9558 Q1089.51 39.4801 1088.94 45.8805 L1115.52 45.84 Z\" fill=\"#000000\" fill-rule=\"nonzero\" fill-opacity=\"1\" /><path clip-path=\"url(#clip370)\" d=\"M1155.82 49.7694 Q1146.79 49.7694 1143.31 51.8354 Q1139.82 53.9013 1139.82 58.8839 Q1139.82 62.8538 1142.41 65.2034 Q1145.05 67.5124 1149.54 67.5124 Q1155.74 67.5124 1159.47 63.1374 Q1163.24 58.7219 1163.24 51.4303 L1163.24 49.7694 L1155.82 49.7694 M1170.69 46.6907 L1170.69 72.576 L1163.24 72.576 L1163.24 65.6895 Q1160.68 69.8214 1156.88 71.8063 Q1153.07 73.7508 1147.56 73.7508 Q1140.59 73.7508 1136.46 69.8619 Q1132.37 65.9325 1132.37 59.3701 Q1132.37 51.7138 1137.47 47.825 Q1142.62 43.9361 1152.78 43.9361 L1163.24 43.9361 L1163.24 43.2069 Q1163.24 38.0623 1159.83 35.2672 Q1156.47 32.4315 1150.35 32.4315 Q1146.47 32.4315 1142.78 33.3632 Q1139.09 34.295 1135.69 36.1584 L1135.69 29.2718 Q1139.78 27.692 1143.63 26.9223 Q1147.48 26.1121 1151.12 26.1121 Q1160.97 26.1121 1165.83 31.2163 Q1170.69 36.3204 1170.69 46.6907 Z\" fill=\"#000000\" fill-rule=\"nonzero\" fill-opacity=\"1\" /><path clip-path=\"url(#clip370)\" d=\"M1214.97 28.5427 L1214.97 35.5912 Q1211.81 33.9709 1208.4 33.1607 Q1205 32.3505 1201.35 32.3505 Q1195.81 32.3505 1193.01 34.0519 Q1190.26 35.7533 1190.26 39.156 Q1190.26 41.7486 1192.24 43.2475 Q1194.23 44.7058 1200.22 46.0426 L1202.77 46.6097 Q1210.71 48.3111 1214.03 51.4303 Q1217.4 54.509 1217.4 60.0587 Q1217.4 66.3781 1212.37 70.0644 Q1207.39 73.7508 1198.64 73.7508 Q1195 73.7508 1191.03 73.0216 Q1187.1 72.3329 1182.72 70.9151 L1182.72 63.2184 Q1186.85 65.3654 1190.86 66.4591 Q1194.87 67.5124 1198.8 67.5124 Q1204.07 67.5124 1206.9 65.73 Q1209.74 63.9071 1209.74 60.6258 Q1209.74 57.5877 1207.67 55.9673 Q1205.65 54.3469 1198.72 52.8481 L1196.13 52.2405 Q1189.2 50.7821 1186.12 47.7845 Q1183.04 44.7463 1183.04 39.4801 Q1183.04 33.0797 1187.58 29.5959 Q1192.12 26.1121 1200.46 26.1121 Q1204.6 26.1121 1208.24 26.7198 Q1211.89 27.3274 1214.97 28.5427 Z\" fill=\"#000000\" fill-rule=\"nonzero\" fill-opacity=\"1\" /><path clip-path=\"url(#clip370)\" d=\"M1229.27 27.2059 L1236.72 27.2059 L1236.72 72.576 L1229.27 72.576 L1229.27 27.2059 M1229.27 9.54393 L1236.72 9.54393 L1236.72 18.9825 L1229.27 18.9825 L1229.27 9.54393 Z\" fill=\"#000000\" fill-rule=\"nonzero\" fill-opacity=\"1\" /><path clip-path=\"url(#clip370)\" d=\"M1284.88 49.9314 Q1284.88 41.7081 1281.48 37.0496 Q1278.12 32.3505 1272.21 32.3505 Q1266.29 32.3505 1262.89 37.0496 Q1259.53 41.7081 1259.53 49.9314 Q1259.53 58.1548 1262.89 62.8538 Q1266.29 67.5124 1272.21 67.5124 Q1278.12 67.5124 1281.48 62.8538 Q1284.88 58.1548 1284.88 49.9314 M1259.53 34.0924 Q1261.88 30.0415 1265.44 28.0971 Q1269.05 26.1121 1274.03 26.1121 Q1282.29 26.1121 1287.44 32.6746 Q1292.62 39.2371 1292.62 49.9314 Q1292.62 60.6258 1287.44 67.1883 Q1282.29 73.7508 1274.03 73.7508 Q1269.05 73.7508 1265.44 71.8063 Q1261.88 69.8214 1259.53 65.7705 L1259.53 72.576 L1252.03 72.576 L1252.03 9.54393 L1259.53 9.54393 L1259.53 34.0924 Z\" fill=\"#000000\" fill-rule=\"nonzero\" fill-opacity=\"1\" /><path clip-path=\"url(#clip370)\" d=\"M1304.98 9.54393 L1312.43 9.54393 L1312.43 72.576 L1304.98 72.576 L1304.98 9.54393 Z\" fill=\"#000000\" fill-rule=\"nonzero\" fill-opacity=\"1\" /><path clip-path=\"url(#clip370)\" d=\"M1366.83 48.0275 L1366.83 51.6733 L1332.56 51.6733 Q1333.05 59.3701 1337.18 63.421 Q1341.35 67.4314 1348.77 67.4314 Q1353.06 67.4314 1357.07 66.3781 Q1361.12 65.3249 1365.09 63.2184 L1365.09 70.267 Q1361.08 71.9684 1356.87 72.8596 Q1352.66 73.7508 1348.32 73.7508 Q1337.47 73.7508 1331.11 67.4314 Q1324.79 61.1119 1324.79 50.3365 Q1324.79 39.1965 1330.78 32.6746 Q1336.82 26.1121 1347.03 26.1121 Q1356.18 26.1121 1361.49 32.0264 Q1366.83 37.9003 1366.83 48.0275 M1359.38 45.84 Q1359.3 39.7232 1355.94 36.0774 Q1352.62 32.4315 1347.11 32.4315 Q1340.87 32.4315 1337.1 35.9558 Q1333.37 39.4801 1332.81 45.8805 L1359.38 45.84 Z\" fill=\"#000000\" fill-rule=\"nonzero\" fill-opacity=\"1\" /><path clip-path=\"url(#clip370)\" d=\"M1434.36 28.5427 L1434.36 35.5912 Q1431.2 33.9709 1427.8 33.1607 Q1424.4 32.3505 1420.75 32.3505 Q1415.2 32.3505 1412.41 34.0519 Q1409.65 35.7533 1409.65 39.156 Q1409.65 41.7486 1411.64 43.2475 Q1413.62 44.7058 1419.62 46.0426 L1422.17 46.6097 Q1430.11 48.3111 1433.43 51.4303 Q1436.79 54.509 1436.79 60.0587 Q1436.79 66.3781 1431.77 70.0644 Q1426.79 73.7508 1418.04 73.7508 Q1414.39 73.7508 1410.42 73.0216 Q1406.49 72.3329 1402.12 70.9151 L1402.12 63.2184 Q1406.25 65.3654 1410.26 66.4591 Q1414.27 67.5124 1418.2 67.5124 Q1423.47 67.5124 1426.3 65.73 Q1429.14 63.9071 1429.14 60.6258 Q1429.14 57.5877 1427.07 55.9673 Q1425.05 54.3469 1418.12 52.8481 L1415.53 52.2405 Q1408.6 50.7821 1405.52 47.7845 Q1402.44 44.7463 1402.44 39.4801 Q1402.44 33.0797 1406.98 29.5959 Q1411.52 26.1121 1419.86 26.1121 Q1423.99 26.1121 1427.64 26.7198 Q1431.28 27.3274 1434.36 28.5427 Z\" fill=\"#000000\" fill-rule=\"nonzero\" fill-opacity=\"1\" /><path clip-path=\"url(#clip370)\" d=\"M1487.47 48.0275 L1487.47 51.6733 L1453.2 51.6733 Q1453.69 59.3701 1457.82 63.421 Q1461.99 67.4314 1469.4 67.4314 Q1473.7 67.4314 1477.71 66.3781 Q1481.76 65.3249 1485.73 63.2184 L1485.73 70.267 Q1481.72 71.9684 1477.51 72.8596 Q1473.29 73.7508 1468.96 73.7508 Q1458.1 73.7508 1451.74 67.4314 Q1445.42 61.1119 1445.42 50.3365 Q1445.42 39.1965 1451.42 32.6746 Q1457.45 26.1121 1467.66 26.1121 Q1476.82 26.1121 1482.12 32.0264 Q1487.47 37.9003 1487.47 48.0275 M1480.02 45.84 Q1479.94 39.7232 1476.57 36.0774 Q1473.25 32.4315 1467.74 32.4315 Q1461.5 32.4315 1457.74 35.9558 Q1454.01 39.4801 1453.44 45.8805 L1480.02 45.84 Z\" fill=\"#000000\" fill-rule=\"nonzero\" fill-opacity=\"1\" /><path clip-path=\"url(#clip370)\" d=\"M1507.08 14.324 L1507.08 27.2059 L1522.43 27.2059 L1522.43 32.9987 L1507.08 32.9987 L1507.08 57.6282 Q1507.08 63.1779 1508.58 64.7578 Q1510.11 66.3376 1514.77 66.3376 L1522.43 66.3376 L1522.43 72.576 L1514.77 72.576 Q1506.14 72.576 1502.86 69.3758 Q1499.58 66.1351 1499.58 57.6282 L1499.58 32.9987 L1494.11 32.9987 L1494.11 27.2059 L1499.58 27.2059 L1499.58 14.324 L1507.08 14.324 Z\" fill=\"#000000\" fill-rule=\"nonzero\" fill-opacity=\"1\" /><polyline clip-path=\"url(#clip372)\" style=\"stroke:#0000ff; stroke-linecap:round; stroke-linejoin:round; stroke-width:4; stroke-opacity:1; fill:none\" points=\"271.594,370.452 300.459,377.458 329.324,384.465 358.189,391.471 387.054,398.478 415.918,405.484 444.783,412.491 473.648,419.497 502.513,426.504 531.378,433.51 560.243,440.517 589.108,447.523 617.973,454.53 646.838,461.536 675.703,468.543 704.568,475.549 733.433,482.556 762.298,489.562 791.163,496.569 820.028,503.575 848.893,510.582 877.758,517.588 906.622,524.595 935.487,531.601 964.352,538.608 993.217,545.614 1022.08,552.621 1050.95,559.627 1079.81,566.634 1108.68,573.64 1137.54,580.647 1166.41,587.653 1195.27,594.66 1224.14,601.666 1253,608.673 1281.87,615.679 1310.73,622.686 1339.6,629.693 1368.46,636.699 1397.33,643.706 1426.19,650.712 1455.06,657.719 1483.92,664.725 1512.79,671.732 1541.65,678.738 1570.52,685.745 1599.38,692.751 1628.25,699.758 1657.11,706.764 1685.98,713.771 1714.84,720.777 1743.71,727.784 1772.57,734.79 1801.44,741.797 1830.3,748.803 1859.17,755.81 1888.03,762.816 1916.9,769.823 1945.76,776.829 1974.63,783.836 2003.49,790.842 2032.36,797.849 2061.22,804.855 2090.08,811.862 2118.95,818.868 2147.81,825.875 2176.68,832.881 2205.54,839.888 2234.41,846.894 2263.27,853.901 2292.14,860.907 \"/>\n",
       "<polyline clip-path=\"url(#clip372)\" style=\"stroke:#ff0000; stroke-linecap:round; stroke-linejoin:round; stroke-width:4; stroke-opacity:1; fill:none\" points=\"271.594,160.256 300.459,177.773 329.324,195.289 358.189,212.805 387.054,230.321 415.918,247.838 444.783,265.354 473.648,282.87 502.513,300.387 531.378,317.903 560.243,335.419 589.108,352.935 617.973,370.452 646.838,387.968 675.703,405.484 704.568,423 733.433,440.517 762.298,458.033 791.163,475.549 820.028,493.066 848.893,510.582 877.758,528.098 906.622,545.614 935.487,563.131 964.352,580.647 993.217,598.163 1022.08,615.679 1050.95,633.196 1079.81,650.712 1108.68,668.228 1137.54,685.745 1166.41,703.261 1195.27,720.777 1224.14,738.293 1253,755.81 1281.87,773.326 1310.73,790.842 1339.6,808.359 1368.46,825.875 1397.33,843.391 1426.19,860.907 1455.06,878.424 1483.92,895.94 1512.79,913.456 1541.65,930.972 1570.52,948.489 1599.38,966.005 1628.25,983.521 1657.11,1001.04 1685.98,1018.55 1714.84,1036.07 1743.71,1053.59 1772.57,1071.1 1801.44,1088.62 1830.3,1106.14 1859.17,1123.65 1888.03,1141.17 1916.9,1158.68 1945.76,1176.2 1974.63,1193.72 2003.49,1211.23 2032.36,1228.75 2061.22,1246.27 2090.08,1263.78 2118.95,1281.3 2147.81,1298.81 2176.68,1316.33 2205.54,1333.85 2234.41,1351.36 2263.27,1368.88 2292.14,1386.4 \"/>\n",
       "<polyline clip-path=\"url(#clip372)\" style=\"stroke:#ffc0cb; stroke-linecap:round; stroke-linejoin:round; stroke-width:4; stroke-opacity:1; fill:none\" points=\"271.594,650.712 300.459,650.712 329.324,650.712 358.189,650.712 387.054,650.712 415.918,650.712 444.783,650.712 473.648,650.712 502.513,650.712 531.378,650.712 560.243,650.712 589.108,650.712 617.973,650.712 646.838,650.712 675.703,650.712 704.568,650.712 733.433,650.712 762.298,650.712 791.163,650.712 820.028,650.712 848.893,650.712 877.758,650.712 906.622,650.712 935.487,650.712 964.352,650.712 993.217,650.712 1022.08,650.712 1050.95,650.712 1079.81,650.712 1108.68,650.712 1137.54,650.712 1166.41,650.712 1195.27,650.712 1224.14,650.712 1253,650.712 1281.87,650.712 1310.73,650.712 1339.6,650.712 1368.46,650.712 1397.33,650.712 1426.19,650.712 1455.06,650.712 1483.92,650.712 1512.79,650.712 1541.65,650.712 1570.52,650.712 1599.38,650.712 1628.25,650.712 1657.11,650.712 1685.98,650.712 1714.84,650.712 1743.71,650.712 1772.57,650.712 1801.44,650.712 1830.3,650.712 1859.17,650.712 1888.03,650.712 1916.9,650.712 1945.76,650.712 1974.63,650.712 2003.49,650.712 2032.36,650.712 2061.22,650.712 2090.08,650.712 2118.95,650.712 2147.81,650.712 2176.68,650.712 2205.54,650.712 2234.41,650.712 2263.27,650.712 2292.14,650.712 \"/>\n",
       "<path clip-path=\"url(#clip370)\" d=\"M1668.58 374.156 L2281.36 374.156 L2281.36 166.796 L1668.58 166.796  Z\" fill=\"#ffffff\" fill-rule=\"evenodd\" fill-opacity=\"1\"/>\n",
       "<polyline clip-path=\"url(#clip370)\" style=\"stroke:#000000; stroke-linecap:round; stroke-linejoin:round; stroke-width:4; stroke-opacity:1; fill:none\" points=\"1668.58,374.156 2281.36,374.156 2281.36,166.796 1668.58,166.796 1668.58,374.156 \"/>\n",
       "<polyline clip-path=\"url(#clip370)\" style=\"stroke:#0000ff; stroke-linecap:round; stroke-linejoin:round; stroke-width:4; stroke-opacity:1; fill:none\" points=\"1692.37,218.636 1835.16,218.636 \"/>\n",
       "<path clip-path=\"url(#clip370)\" d=\"M1883.61 209.99 L1874.23 222.606 L1884.1 235.916 L1879.07 235.916 L1871.53 225.731 L1863.98 235.916 L1858.96 235.916 L1869.03 222.351 L1859.81 209.99 L1864.84 209.99 L1871.71 219.226 L1878.59 209.99 L1883.61 209.99 Z\" fill=\"#000000\" fill-rule=\"nonzero\" fill-opacity=\"1\" /><path clip-path=\"url(#clip370)\" d=\"M1891.53 231.981 L1899.16 231.981 L1899.16 205.615 L1890.85 207.282 L1890.85 203.022 L1899.12 201.356 L1903.79 201.356 L1903.79 231.981 L1911.43 231.981 L1911.43 235.916 L1891.53 235.916 L1891.53 231.981 Z\" fill=\"#000000\" fill-rule=\"nonzero\" fill-opacity=\"1\" /><path clip-path=\"url(#clip370)\" d=\"M1952.68 206.194 L1952.68 219.087 L1965.58 219.087 L1965.58 223.022 L1952.68 223.022 L1952.68 235.916 L1948.79 235.916 L1948.79 223.022 L1935.9 223.022 L1935.9 219.087 L1948.79 219.087 L1948.79 206.194 L1952.68 206.194 Z\" fill=\"#000000\" fill-rule=\"nonzero\" fill-opacity=\"1\" /><path clip-path=\"url(#clip370)\" d=\"M2011.69 209.99 L2002.31 222.606 L2012.17 235.916 L2007.15 235.916 L1999.6 225.731 L1992.06 235.916 L1987.03 235.916 L1997.1 222.351 L1987.89 209.99 L1992.91 209.99 L1999.79 219.226 L2006.66 209.99 L2011.69 209.99 Z\" fill=\"#000000\" fill-rule=\"nonzero\" fill-opacity=\"1\" /><path clip-path=\"url(#clip370)\" d=\"M2022.82 231.981 L2039.14 231.981 L2039.14 235.916 L2017.2 235.916 L2017.2 231.981 Q2019.86 229.226 2024.44 224.596 Q2029.05 219.944 2030.23 218.601 Q2032.47 216.078 2033.35 214.342 Q2034.26 212.583 2034.26 210.893 Q2034.26 208.138 2032.31 206.402 Q2030.39 204.666 2027.29 204.666 Q2025.09 204.666 2022.64 205.43 Q2020.21 206.194 2017.43 207.745 L2017.43 203.022 Q2020.25 201.888 2022.71 201.309 Q2025.16 200.731 2027.2 200.731 Q2032.57 200.731 2035.76 203.416 Q2038.96 206.101 2038.96 210.592 Q2038.96 212.721 2038.15 214.643 Q2037.36 216.541 2035.25 219.133 Q2034.67 219.805 2031.57 223.022 Q2028.47 226.217 2022.82 231.981 Z\" fill=\"#000000\" fill-rule=\"nonzero\" fill-opacity=\"1\" /><path clip-path=\"url(#clip370)\" d=\"M2093.65 212.397 L2071.43 218.809 L2093.65 225.152 L2093.65 229.272 L2063.98 220.754 L2063.98 216.819 L2093.65 208.323 L2093.65 212.397 M2063.98 231.981 L2093.65 231.981 L2093.65 235.916 L2063.98 235.916 L2063.98 231.981 Z\" fill=\"#000000\" fill-rule=\"nonzero\" fill-opacity=\"1\" /><path clip-path=\"url(#clip370)\" d=\"M2117.64 201.356 L2139.86 201.356 L2139.86 203.346 L2127.31 235.916 L2122.43 235.916 L2134.23 205.291 L2117.64 205.291 L2117.64 201.356 Z\" fill=\"#000000\" fill-rule=\"nonzero\" fill-opacity=\"1\" /><polyline clip-path=\"url(#clip370)\" style=\"stroke:#ff0000; stroke-linecap:round; stroke-linejoin:round; stroke-width:4; stroke-opacity:1; fill:none\" points=\"1692.37,270.476 1835.16,270.476 \"/>\n",
       "<path clip-path=\"url(#clip370)\" d=\"M1859.63 283.821 L1867.27 283.821 L1867.27 257.455 L1858.96 259.122 L1858.96 254.862 L1867.22 253.196 L1871.9 253.196 L1871.9 283.821 L1879.54 283.821 L1879.54 287.756 L1859.63 287.756 L1859.63 283.821 Z\" fill=\"#000000\" fill-rule=\"nonzero\" fill-opacity=\"1\" /><path clip-path=\"url(#clip370)\" d=\"M1898.98 256.274 Q1895.37 256.274 1893.54 259.839 Q1891.73 263.381 1891.73 270.51 Q1891.73 277.617 1893.54 281.182 Q1895.37 284.723 1898.98 284.723 Q1902.61 284.723 1904.42 281.182 Q1906.25 277.617 1906.25 270.51 Q1906.25 263.381 1904.42 259.839 Q1902.61 256.274 1898.98 256.274 M1898.98 252.571 Q1904.79 252.571 1907.85 257.177 Q1910.92 261.76 1910.92 270.51 Q1910.92 279.237 1907.85 283.844 Q1904.79 288.427 1898.98 288.427 Q1893.17 288.427 1890.09 283.844 Q1887.04 279.237 1887.04 270.51 Q1887.04 261.76 1890.09 257.177 Q1893.17 252.571 1898.98 252.571 Z\" fill=\"#000000\" fill-rule=\"nonzero\" fill-opacity=\"1\" /><path clip-path=\"url(#clip370)\" d=\"M1940.09 261.83 L1930.72 274.446 L1940.58 287.756 L1935.55 287.756 L1928.01 277.571 L1920.46 287.756 L1915.44 287.756 L1925.51 274.191 L1916.29 261.83 L1921.32 261.83 L1928.19 271.066 L1935.07 261.83 L1940.09 261.83 Z\" fill=\"#000000\" fill-rule=\"nonzero\" fill-opacity=\"1\" /><path clip-path=\"url(#clip370)\" d=\"M1948.01 283.821 L1955.65 283.821 L1955.65 257.455 L1947.34 259.122 L1947.34 254.862 L1955.6 253.196 L1960.28 253.196 L1960.28 283.821 L1967.91 283.821 L1967.91 287.756 L1948.01 287.756 L1948.01 283.821 Z\" fill=\"#000000\" fill-rule=\"nonzero\" fill-opacity=\"1\" /><path clip-path=\"url(#clip370)\" d=\"M2009.16 258.034 L2009.16 270.927 L2022.06 270.927 L2022.06 274.862 L2009.16 274.862 L2009.16 287.756 L2005.28 287.756 L2005.28 274.862 L1992.38 274.862 L1992.38 270.927 L2005.28 270.927 L2005.28 258.034 L2009.16 258.034 Z\" fill=\"#000000\" fill-rule=\"nonzero\" fill-opacity=\"1\" /><path clip-path=\"url(#clip370)\" d=\"M2060.07 257.27 L2048.26 275.719 L2060.07 275.719 L2060.07 257.27 M2058.84 253.196 L2064.72 253.196 L2064.72 275.719 L2069.65 275.719 L2069.65 279.608 L2064.72 279.608 L2064.72 287.756 L2060.07 287.756 L2060.07 279.608 L2044.47 279.608 L2044.47 275.094 L2058.84 253.196 Z\" fill=\"#000000\" fill-rule=\"nonzero\" fill-opacity=\"1\" /><path clip-path=\"url(#clip370)\" d=\"M2098.33 261.83 L2088.96 274.446 L2098.82 287.756 L2093.79 287.756 L2086.25 277.571 L2078.7 287.756 L2073.68 287.756 L2083.75 274.191 L2074.53 261.83 L2079.56 261.83 L2086.43 271.066 L2093.31 261.83 L2098.33 261.83 Z\" fill=\"#000000\" fill-rule=\"nonzero\" fill-opacity=\"1\" /><path clip-path=\"url(#clip370)\" d=\"M2109.46 283.821 L2125.78 283.821 L2125.78 287.756 L2103.84 287.756 L2103.84 283.821 Q2106.5 281.066 2111.09 276.436 Q2115.69 271.784 2116.87 270.441 Q2119.12 267.918 2120 266.182 Q2120.9 264.423 2120.9 262.733 Q2120.9 259.978 2118.96 258.242 Q2117.03 256.506 2113.93 256.506 Q2111.73 256.506 2109.28 257.27 Q2106.85 258.034 2104.07 259.585 L2104.07 254.862 Q2106.9 253.728 2109.35 253.149 Q2111.8 252.571 2113.84 252.571 Q2119.21 252.571 2122.4 255.256 Q2125.6 257.941 2125.6 262.432 Q2125.6 264.561 2124.79 266.483 Q2124 268.381 2121.9 270.973 Q2121.32 271.645 2118.21 274.862 Q2115.11 278.057 2109.46 283.821 Z\" fill=\"#000000\" fill-rule=\"nonzero\" fill-opacity=\"1\" /><path clip-path=\"url(#clip370)\" d=\"M2180.3 264.237 L2158.08 270.649 L2180.3 276.992 L2180.3 281.112 L2150.62 272.594 L2150.62 268.659 L2180.3 260.163 L2180.3 264.237 M2150.62 283.821 L2180.3 283.821 L2180.3 287.756 L2150.62 287.756 L2150.62 283.821 Z\" fill=\"#000000\" fill-rule=\"nonzero\" fill-opacity=\"1\" /><path clip-path=\"url(#clip370)\" d=\"M2218.31 257.27 L2206.5 275.719 L2218.31 275.719 L2218.31 257.27 M2217.08 253.196 L2222.96 253.196 L2222.96 275.719 L2227.89 275.719 L2227.89 279.608 L2222.96 279.608 L2222.96 287.756 L2218.31 287.756 L2218.31 279.608 L2202.7 279.608 L2202.7 275.094 L2217.08 253.196 Z\" fill=\"#000000\" fill-rule=\"nonzero\" fill-opacity=\"1\" /><path clip-path=\"url(#clip370)\" d=\"M2245.62 256.274 Q2242.01 256.274 2240.18 259.839 Q2238.38 263.381 2238.38 270.51 Q2238.38 277.617 2240.18 281.182 Q2242.01 284.723 2245.62 284.723 Q2249.26 284.723 2251.06 281.182 Q2252.89 277.617 2252.89 270.51 Q2252.89 263.381 2251.06 259.839 Q2249.26 256.274 2245.62 256.274 M2245.62 252.571 Q2251.43 252.571 2254.49 257.177 Q2257.57 261.76 2257.57 270.51 Q2257.57 279.237 2254.49 283.844 Q2251.43 288.427 2245.62 288.427 Q2239.81 288.427 2236.73 283.844 Q2233.68 279.237 2233.68 270.51 Q2233.68 261.76 2236.73 257.177 Q2239.81 252.571 2245.62 252.571 Z\" fill=\"#000000\" fill-rule=\"nonzero\" fill-opacity=\"1\" /><polyline clip-path=\"url(#clip370)\" style=\"stroke:#ffc0cb; stroke-linecap:round; stroke-linejoin:round; stroke-width:4; stroke-opacity:1; fill:none\" points=\"1692.37,322.316 1835.16,322.316 \"/>\n",
       "<path clip-path=\"url(#clip370)\" d=\"M1883.61 313.67 L1874.23 326.286 L1884.1 339.596 L1879.07 339.596 L1871.53 329.411 L1863.98 339.596 L1858.96 339.596 L1869.03 326.031 L1859.81 313.67 L1864.84 313.67 L1871.71 322.906 L1878.59 313.67 L1883.61 313.67 Z\" fill=\"#000000\" fill-rule=\"nonzero\" fill-opacity=\"1\" /><path clip-path=\"url(#clip370)\" d=\"M1894.74 335.661 L1911.06 335.661 L1911.06 339.596 L1889.12 339.596 L1889.12 335.661 Q1891.78 332.906 1896.36 328.276 Q1900.97 323.624 1902.15 322.281 Q1904.4 319.758 1905.28 318.022 Q1906.18 316.263 1906.18 314.573 Q1906.18 311.818 1904.23 310.082 Q1902.31 308.346 1899.21 308.346 Q1897.01 308.346 1894.56 309.11 Q1892.13 309.874 1889.35 311.425 L1889.35 306.702 Q1892.17 305.568 1894.63 304.989 Q1897.08 304.411 1899.12 304.411 Q1904.49 304.411 1907.68 307.096 Q1910.88 309.781 1910.88 314.272 Q1910.88 316.401 1910.07 318.323 Q1909.28 320.221 1907.17 322.813 Q1906.6 323.485 1903.49 326.702 Q1900.39 329.897 1894.74 335.661 Z\" fill=\"#000000\" fill-rule=\"nonzero\" fill-opacity=\"1\" /><path clip-path=\"url(#clip370)\" d=\"M1935.9 316.077 L1935.9 312.003 L1965.58 320.499 L1965.58 324.434 L1935.9 332.952 L1935.9 328.832 L1958.15 322.489 L1935.9 316.077 M1965.58 335.661 L1965.58 339.596 L1935.9 339.596 L1935.9 335.661 L1965.58 335.661 Z\" fill=\"#000000\" fill-rule=\"nonzero\" fill-opacity=\"1\" /><path clip-path=\"url(#clip370)\" d=\"M2004.91 320.962 Q2008.26 321.679 2010.14 323.948 Q2012.03 326.216 2012.03 329.549 Q2012.03 334.665 2008.52 337.466 Q2005 340.267 1998.52 340.267 Q1996.34 340.267 1994.03 339.827 Q1991.73 339.411 1989.28 338.554 L1989.28 334.04 Q1991.22 335.174 1993.54 335.753 Q1995.85 336.332 1998.38 336.332 Q2002.78 336.332 2005.07 334.596 Q2007.38 332.86 2007.38 329.549 Q2007.38 326.494 2005.23 324.781 Q2003.1 323.045 1999.28 323.045 L1995.25 323.045 L1995.25 319.202 L1999.47 319.202 Q2002.91 319.202 2004.74 317.837 Q2006.57 316.448 2006.57 313.855 Q2006.57 311.193 2004.67 309.781 Q2002.8 308.346 1999.28 308.346 Q1997.36 308.346 1995.16 308.763 Q1992.96 309.179 1990.32 310.059 L1990.32 305.892 Q1992.98 305.151 1995.3 304.781 Q1997.64 304.411 1999.7 304.411 Q2005.02 304.411 2008.12 306.841 Q2011.22 309.249 2011.22 313.369 Q2011.22 316.239 2009.58 318.23 Q2007.94 320.198 2004.91 320.962 Z\" fill=\"#000000\" fill-rule=\"nonzero\" fill-opacity=\"1\" /></svg>\n"
      ],
      "text/html": [
       "<?xml version=\"1.0\" encoding=\"utf-8\"?>\n",
       "<svg xmlns=\"http://www.w3.org/2000/svg\" xmlns:xlink=\"http://www.w3.org/1999/xlink\" width=\"600\" height=\"400\" viewBox=\"0 0 2400 1600\">\n",
       "<defs>\n",
       "  <clipPath id=\"clip420\">\n",
       "    <rect x=\"0\" y=\"0\" width=\"2400\" height=\"1600\"/>\n",
       "  </clipPath>\n",
       "</defs>\n",
       "<path clip-path=\"url(#clip420)\" d=\"M0 1600 L2400 1600 L2400 0 L0 0  Z\" fill=\"#ffffff\" fill-rule=\"evenodd\" fill-opacity=\"1\"/>\n",
       "<defs>\n",
       "  <clipPath id=\"clip421\">\n",
       "    <rect x=\"480\" y=\"0\" width=\"1681\" height=\"1600\"/>\n",
       "  </clipPath>\n",
       "</defs>\n",
       "<path clip-path=\"url(#clip420)\" d=\"M210.977 1423.18 L2352.76 1423.18 L2352.76 123.472 L210.977 123.472  Z\" fill=\"#ffffff\" fill-rule=\"evenodd\" fill-opacity=\"1\"/>\n",
       "<defs>\n",
       "  <clipPath id=\"clip422\">\n",
       "    <rect x=\"210\" y=\"123\" width=\"2143\" height=\"1301\"/>\n",
       "  </clipPath>\n",
       "</defs>\n",
       "<polyline clip-path=\"url(#clip422)\" style=\"stroke:#000000; stroke-linecap:round; stroke-linejoin:round; stroke-width:2; stroke-opacity:0.1; fill:none\" points=\"271.594,1423.18 271.594,123.472 \"/>\n",
       "<polyline clip-path=\"url(#clip422)\" style=\"stroke:#000000; stroke-linecap:round; stroke-linejoin:round; stroke-width:2; stroke-opacity:0.1; fill:none\" points=\"848.893,1423.18 848.893,123.472 \"/>\n",
       "<polyline clip-path=\"url(#clip422)\" style=\"stroke:#000000; stroke-linecap:round; stroke-linejoin:round; stroke-width:2; stroke-opacity:0.1; fill:none\" points=\"1426.19,1423.18 1426.19,123.472 \"/>\n",
       "<polyline clip-path=\"url(#clip422)\" style=\"stroke:#000000; stroke-linecap:round; stroke-linejoin:round; stroke-width:2; stroke-opacity:0.1; fill:none\" points=\"2003.49,1423.18 2003.49,123.472 \"/>\n",
       "<polyline clip-path=\"url(#clip420)\" style=\"stroke:#000000; stroke-linecap:round; stroke-linejoin:round; stroke-width:4; stroke-opacity:1; fill:none\" points=\"210.977,1423.18 2352.76,1423.18 \"/>\n",
       "<polyline clip-path=\"url(#clip420)\" style=\"stroke:#000000; stroke-linecap:round; stroke-linejoin:round; stroke-width:4; stroke-opacity:1; fill:none\" points=\"271.594,1423.18 271.594,1404.28 \"/>\n",
       "<polyline clip-path=\"url(#clip420)\" style=\"stroke:#000000; stroke-linecap:round; stroke-linejoin:round; stroke-width:4; stroke-opacity:1; fill:none\" points=\"848.893,1423.18 848.893,1404.28 \"/>\n",
       "<polyline clip-path=\"url(#clip420)\" style=\"stroke:#000000; stroke-linecap:round; stroke-linejoin:round; stroke-width:4; stroke-opacity:1; fill:none\" points=\"1426.19,1423.18 1426.19,1404.28 \"/>\n",
       "<polyline clip-path=\"url(#clip420)\" style=\"stroke:#000000; stroke-linecap:round; stroke-linejoin:round; stroke-width:4; stroke-opacity:1; fill:none\" points=\"2003.49,1423.18 2003.49,1404.28 \"/>\n",
       "<path clip-path=\"url(#clip420)\" d=\"M271.594 1454.1 Q267.983 1454.1 266.154 1457.66 Q264.348 1461.2 264.348 1468.33 Q264.348 1475.44 266.154 1479.01 Q267.983 1482.55 271.594 1482.55 Q275.228 1482.55 277.034 1479.01 Q278.862 1475.44 278.862 1468.33 Q278.862 1461.2 277.034 1457.66 Q275.228 1454.1 271.594 1454.1 M271.594 1450.39 Q277.404 1450.39 280.459 1455 Q283.538 1459.58 283.538 1468.33 Q283.538 1477.06 280.459 1481.67 Q277.404 1486.25 271.594 1486.25 Q265.784 1486.25 262.705 1481.67 Q259.649 1477.06 259.649 1468.33 Q259.649 1459.58 262.705 1455 Q265.784 1450.39 271.594 1450.39 Z\" fill=\"#000000\" fill-rule=\"nonzero\" fill-opacity=\"1\" /><path clip-path=\"url(#clip420)\" d=\"M843.545 1481.64 L859.865 1481.64 L859.865 1485.58 L837.92 1485.58 L837.92 1481.64 Q840.582 1478.89 845.166 1474.26 Q849.772 1469.61 850.953 1468.27 Q853.198 1465.74 854.078 1464.01 Q854.981 1462.25 854.981 1460.56 Q854.981 1457.8 853.036 1456.07 Q851.115 1454.33 848.013 1454.33 Q845.814 1454.33 843.36 1455.09 Q840.93 1455.86 838.152 1457.41 L838.152 1452.69 Q840.976 1451.55 843.43 1450.97 Q845.883 1450.39 847.92 1450.39 Q853.291 1450.39 856.485 1453.08 Q859.68 1455.77 859.68 1460.26 Q859.68 1462.39 858.869 1464.31 Q858.082 1466.2 855.976 1468.8 Q855.397 1469.47 852.295 1472.69 Q849.194 1475.88 843.545 1481.64 Z\" fill=\"#000000\" fill-rule=\"nonzero\" fill-opacity=\"1\" /><path clip-path=\"url(#clip420)\" d=\"M1429.2 1455.09 L1417.4 1473.54 L1429.2 1473.54 L1429.2 1455.09 M1427.97 1451.02 L1433.85 1451.02 L1433.85 1473.54 L1438.78 1473.54 L1438.78 1477.43 L1433.85 1477.43 L1433.85 1485.58 L1429.2 1485.58 L1429.2 1477.43 L1413.6 1477.43 L1413.6 1472.92 L1427.97 1451.02 Z\" fill=\"#000000\" fill-rule=\"nonzero\" fill-opacity=\"1\" /><path clip-path=\"url(#clip420)\" d=\"M2003.9 1466.44 Q2000.75 1466.44 1998.9 1468.59 Q1997.07 1470.74 1997.07 1474.49 Q1997.07 1478.22 1998.9 1480.39 Q2000.75 1482.55 2003.9 1482.55 Q2007.04 1482.55 2008.87 1480.39 Q2010.72 1478.22 2010.72 1474.49 Q2010.72 1470.74 2008.87 1468.59 Q2007.04 1466.44 2003.9 1466.44 M2013.18 1451.78 L2013.18 1456.04 Q2011.42 1455.21 2009.61 1454.77 Q2007.83 1454.33 2006.07 1454.33 Q2001.44 1454.33 1998.99 1457.45 Q1996.56 1460.58 1996.21 1466.9 Q1997.58 1464.89 1999.64 1463.82 Q2001.7 1462.73 2004.17 1462.73 Q2009.38 1462.73 2012.39 1465.9 Q2015.42 1469.05 2015.42 1474.49 Q2015.42 1479.82 2012.27 1483.03 Q2009.13 1486.25 2003.9 1486.25 Q1997.9 1486.25 1994.73 1481.67 Q1991.56 1477.06 1991.56 1468.33 Q1991.56 1460.14 1995.45 1455.28 Q1999.34 1450.39 2005.89 1450.39 Q2007.65 1450.39 2009.43 1450.74 Q2011.23 1451.09 2013.18 1451.78 Z\" fill=\"#000000\" fill-rule=\"nonzero\" fill-opacity=\"1\" /><path clip-path=\"url(#clip420)\" d=\"M1255.74 1546.53 L1255.74 1568.04 L1249.88 1568.04 L1249.88 1546.72 Q1249.88 1541.66 1247.91 1539.14 Q1245.93 1536.63 1241.99 1536.63 Q1237.24 1536.63 1234.51 1539.65 Q1231.77 1542.68 1231.77 1547.9 L1231.77 1568.04 L1225.88 1568.04 L1225.88 1518.52 L1231.77 1518.52 L1231.77 1537.93 Q1233.87 1534.72 1236.7 1533.13 Q1239.57 1531.54 1243.29 1531.54 Q1249.43 1531.54 1252.58 1535.36 Q1255.74 1539.14 1255.74 1546.53 Z\" fill=\"#000000\" fill-rule=\"nonzero\" fill-opacity=\"1\" /><path clip-path=\"url(#clip420)\" d=\"M1283.62 1550.12 Q1276.52 1550.12 1273.78 1551.75 Q1271.04 1553.37 1271.04 1557.29 Q1271.04 1560.4 1273.08 1562.25 Q1275.15 1564.07 1278.68 1564.07 Q1283.55 1564.07 1286.48 1560.63 Q1289.44 1557.16 1289.44 1551.43 L1289.44 1550.12 L1283.62 1550.12 M1295.3 1547.71 L1295.3 1568.04 L1289.44 1568.04 L1289.44 1562.63 Q1287.44 1565.88 1284.44 1567.44 Q1281.45 1568.97 1277.12 1568.97 Q1271.65 1568.97 1268.4 1565.91 Q1265.19 1562.82 1265.19 1557.67 Q1265.19 1551.65 1269.2 1548.6 Q1273.24 1545.54 1281.23 1545.54 L1289.44 1545.54 L1289.44 1544.97 Q1289.44 1540.93 1286.77 1538.73 Q1284.13 1536.5 1279.32 1536.5 Q1276.26 1536.5 1273.37 1537.23 Q1270.47 1537.97 1267.8 1539.43 L1267.8 1534.02 Q1271.01 1532.78 1274.04 1532.17 Q1277.06 1531.54 1279.93 1531.54 Q1287.66 1531.54 1291.48 1535.55 Q1295.3 1539.56 1295.3 1547.71 Z\" fill=\"#000000\" fill-rule=\"nonzero\" fill-opacity=\"1\" /><path clip-path=\"url(#clip420)\" d=\"M1322.19 1571.35 Q1319.71 1577.72 1317.36 1579.66 Q1315 1581.6 1311.05 1581.6 L1306.37 1581.6 L1306.37 1576.7 L1309.81 1576.7 Q1312.23 1576.7 1313.57 1575.56 Q1314.9 1574.41 1316.53 1570.14 L1317.58 1567.47 L1303.16 1532.4 L1309.37 1532.4 L1320.51 1560.28 L1331.65 1532.4 L1337.85 1532.4 L1322.19 1571.35 Z\" fill=\"#000000\" fill-rule=\"nonzero\" fill-opacity=\"1\" /><polyline clip-path=\"url(#clip422)\" style=\"stroke:#000000; stroke-linecap:round; stroke-linejoin:round; stroke-width:2; stroke-opacity:0.1; fill:none\" points=\"210.977,1211.23 2352.76,1211.23 \"/>\n",
       "<polyline clip-path=\"url(#clip422)\" style=\"stroke:#000000; stroke-linecap:round; stroke-linejoin:round; stroke-width:2; stroke-opacity:0.1; fill:none\" points=\"210.977,860.907 2352.76,860.907 \"/>\n",
       "<polyline clip-path=\"url(#clip422)\" style=\"stroke:#000000; stroke-linecap:round; stroke-linejoin:round; stroke-width:2; stroke-opacity:0.1; fill:none\" points=\"210.977,510.582 2352.76,510.582 \"/>\n",
       "<polyline clip-path=\"url(#clip422)\" style=\"stroke:#000000; stroke-linecap:round; stroke-linejoin:round; stroke-width:2; stroke-opacity:0.1; fill:none\" points=\"210.977,160.256 2352.76,160.256 \"/>\n",
       "<polyline clip-path=\"url(#clip420)\" style=\"stroke:#000000; stroke-linecap:round; stroke-linejoin:round; stroke-width:4; stroke-opacity:1; fill:none\" points=\"210.977,1423.18 210.977,123.472 \"/>\n",
       "<polyline clip-path=\"url(#clip420)\" style=\"stroke:#000000; stroke-linecap:round; stroke-linejoin:round; stroke-width:4; stroke-opacity:1; fill:none\" points=\"210.977,1211.23 229.875,1211.23 \"/>\n",
       "<polyline clip-path=\"url(#clip420)\" style=\"stroke:#000000; stroke-linecap:round; stroke-linejoin:round; stroke-width:4; stroke-opacity:1; fill:none\" points=\"210.977,860.907 229.875,860.907 \"/>\n",
       "<polyline clip-path=\"url(#clip420)\" style=\"stroke:#000000; stroke-linecap:round; stroke-linejoin:round; stroke-width:4; stroke-opacity:1; fill:none\" points=\"210.977,510.582 229.875,510.582 \"/>\n",
       "<polyline clip-path=\"url(#clip420)\" style=\"stroke:#000000; stroke-linecap:round; stroke-linejoin:round; stroke-width:4; stroke-opacity:1; fill:none\" points=\"210.977,160.256 229.875,160.256 \"/>\n",
       "<path clip-path=\"url(#clip420)\" d=\"M114.26 1211.68 L143.936 1211.68 L143.936 1215.62 L114.26 1215.62 L114.26 1211.68 Z\" fill=\"#000000\" fill-rule=\"nonzero\" fill-opacity=\"1\" /><path clip-path=\"url(#clip420)\" d=\"M154.075 1193.95 L172.431 1193.95 L172.431 1197.89 L158.357 1197.89 L158.357 1206.36 Q159.376 1206.01 160.394 1205.85 Q161.413 1205.67 162.431 1205.67 Q168.218 1205.67 171.598 1208.84 Q174.977 1212.01 174.977 1217.42 Q174.977 1223 171.505 1226.11 Q168.033 1229.18 161.714 1229.18 Q159.538 1229.18 157.269 1228.81 Q155.024 1228.44 152.616 1227.7 L152.616 1223 Q154.7 1224.14 156.922 1224.69 Q159.144 1225.25 161.621 1225.25 Q165.626 1225.25 167.964 1223.14 Q170.302 1221.04 170.302 1217.42 Q170.302 1213.81 167.964 1211.71 Q165.626 1209.6 161.621 1209.6 Q159.746 1209.6 157.871 1210.02 Q156.019 1210.43 154.075 1211.31 L154.075 1193.95 Z\" fill=\"#000000\" fill-rule=\"nonzero\" fill-opacity=\"1\" /><path clip-path=\"url(#clip420)\" d=\"M163.033 846.706 Q159.422 846.706 157.593 850.271 Q155.788 853.812 155.788 860.942 Q155.788 868.049 157.593 871.613 Q159.422 875.155 163.033 875.155 Q166.667 875.155 168.473 871.613 Q170.302 868.049 170.302 860.942 Q170.302 853.812 168.473 850.271 Q166.667 846.706 163.033 846.706 M163.033 843.002 Q168.843 843.002 171.899 847.609 Q174.977 852.192 174.977 860.942 Q174.977 869.669 171.899 874.275 Q168.843 878.859 163.033 878.859 Q157.223 878.859 154.144 874.275 Q151.089 869.669 151.089 860.942 Q151.089 852.192 154.144 847.609 Q157.223 843.002 163.033 843.002 Z\" fill=\"#000000\" fill-rule=\"nonzero\" fill-opacity=\"1\" /><path clip-path=\"url(#clip420)\" d=\"M154.075 493.302 L172.431 493.302 L172.431 497.237 L158.357 497.237 L158.357 505.709 Q159.376 505.362 160.394 505.2 Q161.413 505.015 162.431 505.015 Q168.218 505.015 171.598 508.186 Q174.977 511.357 174.977 516.774 Q174.977 522.353 171.505 525.454 Q168.033 528.533 161.714 528.533 Q159.538 528.533 157.269 528.163 Q155.024 527.792 152.616 527.052 L152.616 522.353 Q154.7 523.487 156.922 524.042 Q159.144 524.598 161.621 524.598 Q165.626 524.598 167.964 522.491 Q170.302 520.385 170.302 516.774 Q170.302 513.163 167.964 511.056 Q165.626 508.95 161.621 508.95 Q159.746 508.95 157.871 509.367 Q156.019 509.783 154.075 510.663 L154.075 493.302 Z\" fill=\"#000000\" fill-rule=\"nonzero\" fill-opacity=\"1\" /><path clip-path=\"url(#clip420)\" d=\"M123.681 173.601 L131.32 173.601 L131.32 147.236 L123.01 148.902 L123.01 144.643 L131.274 142.976 L135.95 142.976 L135.95 173.601 L143.589 173.601 L143.589 177.536 L123.681 177.536 L123.681 173.601 Z\" fill=\"#000000\" fill-rule=\"nonzero\" fill-opacity=\"1\" /><path clip-path=\"url(#clip420)\" d=\"M163.033 146.055 Q159.422 146.055 157.593 149.62 Q155.788 153.161 155.788 160.291 Q155.788 167.397 157.593 170.962 Q159.422 174.504 163.033 174.504 Q166.667 174.504 168.473 170.962 Q170.302 167.397 170.302 160.291 Q170.302 153.161 168.473 149.62 Q166.667 146.055 163.033 146.055 M163.033 142.351 Q168.843 142.351 171.899 146.958 Q174.977 151.541 174.977 160.291 Q174.977 169.018 171.899 173.624 Q168.843 178.208 163.033 178.208 Q157.223 178.208 154.144 173.624 Q151.089 169.018 151.089 160.291 Q151.089 151.541 154.144 146.958 Q157.223 142.351 163.033 142.351 Z\" fill=\"#000000\" fill-rule=\"nonzero\" fill-opacity=\"1\" /><path clip-path=\"url(#clip420)\" d=\"M29.7248 811.902 L35.1993 811.902 Q33.8307 814.385 33.1623 816.899 Q32.4621 819.382 32.4621 821.928 Q32.4621 827.625 36.0905 830.776 Q39.6872 833.928 46.212 833.928 Q52.7369 833.928 56.3653 830.776 Q59.9619 827.625 59.9619 821.928 Q59.9619 819.382 59.2935 816.899 Q58.5933 814.385 57.2247 811.902 L62.6355 811.902 Q63.7814 814.353 64.3543 816.995 Q64.9272 819.605 64.9272 822.565 Q64.9272 830.617 59.8664 835.36 Q54.8057 840.102 46.212 840.102 Q37.491 840.102 32.4939 835.328 Q27.4968 830.522 27.4968 822.183 Q27.4968 819.477 28.0697 816.899 Q28.6108 814.321 29.7248 811.902 Z\" fill=\"#000000\" fill-rule=\"nonzero\" fill-opacity=\"1\" /><path clip-path=\"url(#clip420)\" d=\"M32.4621 787.903 Q32.4621 792.614 36.1542 795.351 Q39.8145 798.089 46.212 798.089 Q52.6095 798.089 56.3017 795.383 Q59.9619 792.646 59.9619 787.903 Q59.9619 783.225 56.2698 780.487 Q52.5777 777.75 46.212 777.75 Q39.8781 777.75 36.186 780.487 Q32.4621 783.225 32.4621 787.903 M27.4968 787.903 Q27.4968 780.265 32.4621 775.904 Q37.4273 771.544 46.212 771.544 Q54.9649 771.544 59.9619 775.904 Q64.9272 780.265 64.9272 787.903 Q64.9272 795.574 59.9619 799.935 Q54.9649 804.263 46.212 804.263 Q37.4273 804.263 32.4621 799.935 Q27.4968 795.574 27.4968 787.903 Z\" fill=\"#000000\" fill-rule=\"nonzero\" fill-opacity=\"1\" /><path clip-path=\"url(#clip420)\" d=\"M33.8307 741.179 Q33.2578 742.166 33.0032 743.344 Q32.7167 744.489 32.7167 745.89 Q32.7167 750.855 35.9632 753.529 Q39.1779 756.17 45.2253 756.17 L64.0042 756.17 L64.0042 762.059 L28.3562 762.059 L28.3562 756.17 L33.8944 756.17 Q30.6479 754.324 29.0883 751.364 Q27.4968 748.404 27.4968 744.171 Q27.4968 743.566 27.5923 742.834 Q27.656 742.102 27.8151 741.211 L33.8307 741.179 Z\" fill=\"#000000\" fill-rule=\"nonzero\" fill-opacity=\"1\" /><path clip-path=\"url(#clip420)\" d=\"M42.4881 706.55 L64.0042 706.55 L64.0042 712.406 L42.679 712.406 Q37.6183 712.406 35.1038 714.38 Q32.5894 716.353 32.5894 720.3 Q32.5894 725.042 35.6131 727.779 Q38.6368 730.517 43.8567 730.517 L64.0042 730.517 L64.0042 736.405 L28.3562 736.405 L28.3562 730.517 L33.8944 730.517 Q30.6797 728.416 29.0883 725.583 Q27.4968 722.719 27.4968 718.995 Q27.4968 712.852 31.3163 709.701 Q35.1038 706.55 42.4881 706.55 Z\" fill=\"#000000\" fill-rule=\"nonzero\" fill-opacity=\"1\" /><path clip-path=\"url(#clip420)\" d=\"M1041.3 12.096 L1076.06 12.096 L1076.06 18.9825 L1049.49 18.9825 L1049.49 36.8065 L1073.47 36.8065 L1073.47 43.6931 L1049.49 43.6931 L1049.49 72.576 L1041.3 72.576 L1041.3 12.096 Z\" fill=\"#000000\" fill-rule=\"nonzero\" fill-opacity=\"1\" /><path clip-path=\"url(#clip420)\" d=\"M1122.97 48.0275 L1122.97 51.6733 L1088.7 51.6733 Q1089.19 59.3701 1093.32 63.421 Q1097.49 67.4314 1104.9 67.4314 Q1109.2 67.4314 1113.21 66.3781 Q1117.26 65.3249 1121.23 63.2184 L1121.23 70.267 Q1117.22 71.9684 1113 72.8596 Q1108.79 73.7508 1104.46 73.7508 Q1093.6 73.7508 1087.24 67.4314 Q1080.92 61.1119 1080.92 50.3365 Q1080.92 39.1965 1086.92 32.6746 Q1092.95 26.1121 1103.16 26.1121 Q1112.32 26.1121 1117.62 32.0264 Q1122.97 37.9003 1122.97 48.0275 M1115.52 45.84 Q1115.44 39.7232 1112.07 36.0774 Q1108.75 32.4315 1103.24 32.4315 Q1097 32.4315 1093.24 35.9558 Q1089.51 39.4801 1088.94 45.8805 L1115.52 45.84 Z\" fill=\"#000000\" fill-rule=\"nonzero\" fill-opacity=\"1\" /><path clip-path=\"url(#clip420)\" d=\"M1155.82 49.7694 Q1146.79 49.7694 1143.31 51.8354 Q1139.82 53.9013 1139.82 58.8839 Q1139.82 62.8538 1142.41 65.2034 Q1145.05 67.5124 1149.54 67.5124 Q1155.74 67.5124 1159.47 63.1374 Q1163.24 58.7219 1163.24 51.4303 L1163.24 49.7694 L1155.82 49.7694 M1170.69 46.6907 L1170.69 72.576 L1163.24 72.576 L1163.24 65.6895 Q1160.68 69.8214 1156.88 71.8063 Q1153.07 73.7508 1147.56 73.7508 Q1140.59 73.7508 1136.46 69.8619 Q1132.37 65.9325 1132.37 59.3701 Q1132.37 51.7138 1137.47 47.825 Q1142.62 43.9361 1152.78 43.9361 L1163.24 43.9361 L1163.24 43.2069 Q1163.24 38.0623 1159.83 35.2672 Q1156.47 32.4315 1150.35 32.4315 Q1146.47 32.4315 1142.78 33.3632 Q1139.09 34.295 1135.69 36.1584 L1135.69 29.2718 Q1139.78 27.692 1143.63 26.9223 Q1147.48 26.1121 1151.12 26.1121 Q1160.97 26.1121 1165.83 31.2163 Q1170.69 36.3204 1170.69 46.6907 Z\" fill=\"#000000\" fill-rule=\"nonzero\" fill-opacity=\"1\" /><path clip-path=\"url(#clip420)\" d=\"M1214.97 28.5427 L1214.97 35.5912 Q1211.81 33.9709 1208.4 33.1607 Q1205 32.3505 1201.35 32.3505 Q1195.81 32.3505 1193.01 34.0519 Q1190.26 35.7533 1190.26 39.156 Q1190.26 41.7486 1192.24 43.2475 Q1194.23 44.7058 1200.22 46.0426 L1202.77 46.6097 Q1210.71 48.3111 1214.03 51.4303 Q1217.4 54.509 1217.4 60.0587 Q1217.4 66.3781 1212.37 70.0644 Q1207.39 73.7508 1198.64 73.7508 Q1195 73.7508 1191.03 73.0216 Q1187.1 72.3329 1182.72 70.9151 L1182.72 63.2184 Q1186.85 65.3654 1190.86 66.4591 Q1194.87 67.5124 1198.8 67.5124 Q1204.07 67.5124 1206.9 65.73 Q1209.74 63.9071 1209.74 60.6258 Q1209.74 57.5877 1207.67 55.9673 Q1205.65 54.3469 1198.72 52.8481 L1196.13 52.2405 Q1189.2 50.7821 1186.12 47.7845 Q1183.04 44.7463 1183.04 39.4801 Q1183.04 33.0797 1187.58 29.5959 Q1192.12 26.1121 1200.46 26.1121 Q1204.6 26.1121 1208.24 26.7198 Q1211.89 27.3274 1214.97 28.5427 Z\" fill=\"#000000\" fill-rule=\"nonzero\" fill-opacity=\"1\" /><path clip-path=\"url(#clip420)\" d=\"M1229.27 27.2059 L1236.72 27.2059 L1236.72 72.576 L1229.27 72.576 L1229.27 27.2059 M1229.27 9.54393 L1236.72 9.54393 L1236.72 18.9825 L1229.27 18.9825 L1229.27 9.54393 Z\" fill=\"#000000\" fill-rule=\"nonzero\" fill-opacity=\"1\" /><path clip-path=\"url(#clip420)\" d=\"M1284.88 49.9314 Q1284.88 41.7081 1281.48 37.0496 Q1278.12 32.3505 1272.21 32.3505 Q1266.29 32.3505 1262.89 37.0496 Q1259.53 41.7081 1259.53 49.9314 Q1259.53 58.1548 1262.89 62.8538 Q1266.29 67.5124 1272.21 67.5124 Q1278.12 67.5124 1281.48 62.8538 Q1284.88 58.1548 1284.88 49.9314 M1259.53 34.0924 Q1261.88 30.0415 1265.44 28.0971 Q1269.05 26.1121 1274.03 26.1121 Q1282.29 26.1121 1287.44 32.6746 Q1292.62 39.2371 1292.62 49.9314 Q1292.62 60.6258 1287.44 67.1883 Q1282.29 73.7508 1274.03 73.7508 Q1269.05 73.7508 1265.44 71.8063 Q1261.88 69.8214 1259.53 65.7705 L1259.53 72.576 L1252.03 72.576 L1252.03 9.54393 L1259.53 9.54393 L1259.53 34.0924 Z\" fill=\"#000000\" fill-rule=\"nonzero\" fill-opacity=\"1\" /><path clip-path=\"url(#clip420)\" d=\"M1304.98 9.54393 L1312.43 9.54393 L1312.43 72.576 L1304.98 72.576 L1304.98 9.54393 Z\" fill=\"#000000\" fill-rule=\"nonzero\" fill-opacity=\"1\" /><path clip-path=\"url(#clip420)\" d=\"M1366.83 48.0275 L1366.83 51.6733 L1332.56 51.6733 Q1333.05 59.3701 1337.18 63.421 Q1341.35 67.4314 1348.77 67.4314 Q1353.06 67.4314 1357.07 66.3781 Q1361.12 65.3249 1365.09 63.2184 L1365.09 70.267 Q1361.08 71.9684 1356.87 72.8596 Q1352.66 73.7508 1348.32 73.7508 Q1337.47 73.7508 1331.11 67.4314 Q1324.79 61.1119 1324.79 50.3365 Q1324.79 39.1965 1330.78 32.6746 Q1336.82 26.1121 1347.03 26.1121 Q1356.18 26.1121 1361.49 32.0264 Q1366.83 37.9003 1366.83 48.0275 M1359.38 45.84 Q1359.3 39.7232 1355.94 36.0774 Q1352.62 32.4315 1347.11 32.4315 Q1340.87 32.4315 1337.1 35.9558 Q1333.37 39.4801 1332.81 45.8805 L1359.38 45.84 Z\" fill=\"#000000\" fill-rule=\"nonzero\" fill-opacity=\"1\" /><path clip-path=\"url(#clip420)\" d=\"M1434.36 28.5427 L1434.36 35.5912 Q1431.2 33.9709 1427.8 33.1607 Q1424.4 32.3505 1420.75 32.3505 Q1415.2 32.3505 1412.41 34.0519 Q1409.65 35.7533 1409.65 39.156 Q1409.65 41.7486 1411.64 43.2475 Q1413.62 44.7058 1419.62 46.0426 L1422.17 46.6097 Q1430.11 48.3111 1433.43 51.4303 Q1436.79 54.509 1436.79 60.0587 Q1436.79 66.3781 1431.77 70.0644 Q1426.79 73.7508 1418.04 73.7508 Q1414.39 73.7508 1410.42 73.0216 Q1406.49 72.3329 1402.12 70.9151 L1402.12 63.2184 Q1406.25 65.3654 1410.26 66.4591 Q1414.27 67.5124 1418.2 67.5124 Q1423.47 67.5124 1426.3 65.73 Q1429.14 63.9071 1429.14 60.6258 Q1429.14 57.5877 1427.07 55.9673 Q1425.05 54.3469 1418.12 52.8481 L1415.53 52.2405 Q1408.6 50.7821 1405.52 47.7845 Q1402.44 44.7463 1402.44 39.4801 Q1402.44 33.0797 1406.98 29.5959 Q1411.52 26.1121 1419.86 26.1121 Q1423.99 26.1121 1427.64 26.7198 Q1431.28 27.3274 1434.36 28.5427 Z\" fill=\"#000000\" fill-rule=\"nonzero\" fill-opacity=\"1\" /><path clip-path=\"url(#clip420)\" d=\"M1487.47 48.0275 L1487.47 51.6733 L1453.2 51.6733 Q1453.69 59.3701 1457.82 63.421 Q1461.99 67.4314 1469.4 67.4314 Q1473.7 67.4314 1477.71 66.3781 Q1481.76 65.3249 1485.73 63.2184 L1485.73 70.267 Q1481.72 71.9684 1477.51 72.8596 Q1473.29 73.7508 1468.96 73.7508 Q1458.1 73.7508 1451.74 67.4314 Q1445.42 61.1119 1445.42 50.3365 Q1445.42 39.1965 1451.42 32.6746 Q1457.45 26.1121 1467.66 26.1121 Q1476.82 26.1121 1482.12 32.0264 Q1487.47 37.9003 1487.47 48.0275 M1480.02 45.84 Q1479.94 39.7232 1476.57 36.0774 Q1473.25 32.4315 1467.74 32.4315 Q1461.5 32.4315 1457.74 35.9558 Q1454.01 39.4801 1453.44 45.8805 L1480.02 45.84 Z\" fill=\"#000000\" fill-rule=\"nonzero\" fill-opacity=\"1\" /><path clip-path=\"url(#clip420)\" d=\"M1507.08 14.324 L1507.08 27.2059 L1522.43 27.2059 L1522.43 32.9987 L1507.08 32.9987 L1507.08 57.6282 Q1507.08 63.1779 1508.58 64.7578 Q1510.11 66.3376 1514.77 66.3376 L1522.43 66.3376 L1522.43 72.576 L1514.77 72.576 Q1506.14 72.576 1502.86 69.3758 Q1499.58 66.1351 1499.58 57.6282 L1499.58 32.9987 L1494.11 32.9987 L1494.11 27.2059 L1499.58 27.2059 L1499.58 14.324 L1507.08 14.324 Z\" fill=\"#000000\" fill-rule=\"nonzero\" fill-opacity=\"1\" /><polyline clip-path=\"url(#clip422)\" style=\"stroke:#0000ff; stroke-linecap:round; stroke-linejoin:round; stroke-width:4; stroke-opacity:1; fill:none\" points=\"271.594,370.452 300.459,377.458 329.324,384.465 358.189,391.471 387.054,398.478 415.918,405.484 444.783,412.491 473.648,419.497 502.513,426.504 531.378,433.51 560.243,440.517 589.108,447.523 617.973,454.53 646.838,461.536 675.703,468.543 704.568,475.549 733.433,482.556 762.298,489.562 791.163,496.569 820.028,503.575 848.893,510.582 877.758,517.588 906.622,524.595 935.487,531.601 964.352,538.608 993.217,545.614 1022.08,552.621 1050.95,559.627 1079.81,566.634 1108.68,573.64 1137.54,580.647 1166.41,587.653 1195.27,594.66 1224.14,601.666 1253,608.673 1281.87,615.679 1310.73,622.686 1339.6,629.693 1368.46,636.699 1397.33,643.706 1426.19,650.712 1455.06,657.719 1483.92,664.725 1512.79,671.732 1541.65,678.738 1570.52,685.745 1599.38,692.751 1628.25,699.758 1657.11,706.764 1685.98,713.771 1714.84,720.777 1743.71,727.784 1772.57,734.79 1801.44,741.797 1830.3,748.803 1859.17,755.81 1888.03,762.816 1916.9,769.823 1945.76,776.829 1974.63,783.836 2003.49,790.842 2032.36,797.849 2061.22,804.855 2090.08,811.862 2118.95,818.868 2147.81,825.875 2176.68,832.881 2205.54,839.888 2234.41,846.894 2263.27,853.901 2292.14,860.907 \"/>\n",
       "<polyline clip-path=\"url(#clip422)\" style=\"stroke:#ff0000; stroke-linecap:round; stroke-linejoin:round; stroke-width:4; stroke-opacity:1; fill:none\" points=\"271.594,160.256 300.459,177.773 329.324,195.289 358.189,212.805 387.054,230.321 415.918,247.838 444.783,265.354 473.648,282.87 502.513,300.387 531.378,317.903 560.243,335.419 589.108,352.935 617.973,370.452 646.838,387.968 675.703,405.484 704.568,423 733.433,440.517 762.298,458.033 791.163,475.549 820.028,493.066 848.893,510.582 877.758,528.098 906.622,545.614 935.487,563.131 964.352,580.647 993.217,598.163 1022.08,615.679 1050.95,633.196 1079.81,650.712 1108.68,668.228 1137.54,685.745 1166.41,703.261 1195.27,720.777 1224.14,738.293 1253,755.81 1281.87,773.326 1310.73,790.842 1339.6,808.359 1368.46,825.875 1397.33,843.391 1426.19,860.907 1455.06,878.424 1483.92,895.94 1512.79,913.456 1541.65,930.972 1570.52,948.489 1599.38,966.005 1628.25,983.521 1657.11,1001.04 1685.98,1018.55 1714.84,1036.07 1743.71,1053.59 1772.57,1071.1 1801.44,1088.62 1830.3,1106.14 1859.17,1123.65 1888.03,1141.17 1916.9,1158.68 1945.76,1176.2 1974.63,1193.72 2003.49,1211.23 2032.36,1228.75 2061.22,1246.27 2090.08,1263.78 2118.95,1281.3 2147.81,1298.81 2176.68,1316.33 2205.54,1333.85 2234.41,1351.36 2263.27,1368.88 2292.14,1386.4 \"/>\n",
       "<polyline clip-path=\"url(#clip422)\" style=\"stroke:#ffc0cb; stroke-linecap:round; stroke-linejoin:round; stroke-width:4; stroke-opacity:1; fill:none\" points=\"271.594,650.712 300.459,650.712 329.324,650.712 358.189,650.712 387.054,650.712 415.918,650.712 444.783,650.712 473.648,650.712 502.513,650.712 531.378,650.712 560.243,650.712 589.108,650.712 617.973,650.712 646.838,650.712 675.703,650.712 704.568,650.712 733.433,650.712 762.298,650.712 791.163,650.712 820.028,650.712 848.893,650.712 877.758,650.712 906.622,650.712 935.487,650.712 964.352,650.712 993.217,650.712 1022.08,650.712 1050.95,650.712 1079.81,650.712 1108.68,650.712 1137.54,650.712 1166.41,650.712 1195.27,650.712 1224.14,650.712 1253,650.712 1281.87,650.712 1310.73,650.712 1339.6,650.712 1368.46,650.712 1397.33,650.712 1426.19,650.712 1455.06,650.712 1483.92,650.712 1512.79,650.712 1541.65,650.712 1570.52,650.712 1599.38,650.712 1628.25,650.712 1657.11,650.712 1685.98,650.712 1714.84,650.712 1743.71,650.712 1772.57,650.712 1801.44,650.712 1830.3,650.712 1859.17,650.712 1888.03,650.712 1916.9,650.712 1945.76,650.712 1974.63,650.712 2003.49,650.712 2032.36,650.712 2061.22,650.712 2090.08,650.712 2118.95,650.712 2147.81,650.712 2176.68,650.712 2205.54,650.712 2234.41,650.712 2263.27,650.712 2292.14,650.712 \"/>\n",
       "<path clip-path=\"url(#clip420)\" d=\"M1668.58 374.156 L2281.36 374.156 L2281.36 166.796 L1668.58 166.796  Z\" fill=\"#ffffff\" fill-rule=\"evenodd\" fill-opacity=\"1\"/>\n",
       "<polyline clip-path=\"url(#clip420)\" style=\"stroke:#000000; stroke-linecap:round; stroke-linejoin:round; stroke-width:4; stroke-opacity:1; fill:none\" points=\"1668.58,374.156 2281.36,374.156 2281.36,166.796 1668.58,166.796 1668.58,374.156 \"/>\n",
       "<polyline clip-path=\"url(#clip420)\" style=\"stroke:#0000ff; stroke-linecap:round; stroke-linejoin:round; stroke-width:4; stroke-opacity:1; fill:none\" points=\"1692.37,218.636 1835.16,218.636 \"/>\n",
       "<path clip-path=\"url(#clip420)\" d=\"M1883.61 209.99 L1874.23 222.606 L1884.1 235.916 L1879.07 235.916 L1871.53 225.731 L1863.98 235.916 L1858.96 235.916 L1869.03 222.351 L1859.81 209.99 L1864.84 209.99 L1871.71 219.226 L1878.59 209.99 L1883.61 209.99 Z\" fill=\"#000000\" fill-rule=\"nonzero\" fill-opacity=\"1\" /><path clip-path=\"url(#clip420)\" d=\"M1891.53 231.981 L1899.16 231.981 L1899.16 205.615 L1890.85 207.282 L1890.85 203.022 L1899.12 201.356 L1903.79 201.356 L1903.79 231.981 L1911.43 231.981 L1911.43 235.916 L1891.53 235.916 L1891.53 231.981 Z\" fill=\"#000000\" fill-rule=\"nonzero\" fill-opacity=\"1\" /><path clip-path=\"url(#clip420)\" d=\"M1952.68 206.194 L1952.68 219.087 L1965.58 219.087 L1965.58 223.022 L1952.68 223.022 L1952.68 235.916 L1948.79 235.916 L1948.79 223.022 L1935.9 223.022 L1935.9 219.087 L1948.79 219.087 L1948.79 206.194 L1952.68 206.194 Z\" fill=\"#000000\" fill-rule=\"nonzero\" fill-opacity=\"1\" /><path clip-path=\"url(#clip420)\" d=\"M2011.69 209.99 L2002.31 222.606 L2012.17 235.916 L2007.15 235.916 L1999.6 225.731 L1992.06 235.916 L1987.03 235.916 L1997.1 222.351 L1987.89 209.99 L1992.91 209.99 L1999.79 219.226 L2006.66 209.99 L2011.69 209.99 Z\" fill=\"#000000\" fill-rule=\"nonzero\" fill-opacity=\"1\" /><path clip-path=\"url(#clip420)\" d=\"M2022.82 231.981 L2039.14 231.981 L2039.14 235.916 L2017.2 235.916 L2017.2 231.981 Q2019.86 229.226 2024.44 224.596 Q2029.05 219.944 2030.23 218.601 Q2032.47 216.078 2033.35 214.342 Q2034.26 212.583 2034.26 210.893 Q2034.26 208.138 2032.31 206.402 Q2030.39 204.666 2027.29 204.666 Q2025.09 204.666 2022.64 205.43 Q2020.21 206.194 2017.43 207.745 L2017.43 203.022 Q2020.25 201.888 2022.71 201.309 Q2025.16 200.731 2027.2 200.731 Q2032.57 200.731 2035.76 203.416 Q2038.96 206.101 2038.96 210.592 Q2038.96 212.721 2038.15 214.643 Q2037.36 216.541 2035.25 219.133 Q2034.67 219.805 2031.57 223.022 Q2028.47 226.217 2022.82 231.981 Z\" fill=\"#000000\" fill-rule=\"nonzero\" fill-opacity=\"1\" /><path clip-path=\"url(#clip420)\" d=\"M2093.65 212.397 L2071.43 218.809 L2093.65 225.152 L2093.65 229.272 L2063.98 220.754 L2063.98 216.819 L2093.65 208.323 L2093.65 212.397 M2063.98 231.981 L2093.65 231.981 L2093.65 235.916 L2063.98 235.916 L2063.98 231.981 Z\" fill=\"#000000\" fill-rule=\"nonzero\" fill-opacity=\"1\" /><path clip-path=\"url(#clip420)\" d=\"M2117.64 201.356 L2139.86 201.356 L2139.86 203.346 L2127.31 235.916 L2122.43 235.916 L2134.23 205.291 L2117.64 205.291 L2117.64 201.356 Z\" fill=\"#000000\" fill-rule=\"nonzero\" fill-opacity=\"1\" /><polyline clip-path=\"url(#clip420)\" style=\"stroke:#ff0000; stroke-linecap:round; stroke-linejoin:round; stroke-width:4; stroke-opacity:1; fill:none\" points=\"1692.37,270.476 1835.16,270.476 \"/>\n",
       "<path clip-path=\"url(#clip420)\" d=\"M1859.63 283.821 L1867.27 283.821 L1867.27 257.455 L1858.96 259.122 L1858.96 254.862 L1867.22 253.196 L1871.9 253.196 L1871.9 283.821 L1879.54 283.821 L1879.54 287.756 L1859.63 287.756 L1859.63 283.821 Z\" fill=\"#000000\" fill-rule=\"nonzero\" fill-opacity=\"1\" /><path clip-path=\"url(#clip420)\" d=\"M1898.98 256.274 Q1895.37 256.274 1893.54 259.839 Q1891.73 263.381 1891.73 270.51 Q1891.73 277.617 1893.54 281.182 Q1895.37 284.723 1898.98 284.723 Q1902.61 284.723 1904.42 281.182 Q1906.25 277.617 1906.25 270.51 Q1906.25 263.381 1904.42 259.839 Q1902.61 256.274 1898.98 256.274 M1898.98 252.571 Q1904.79 252.571 1907.85 257.177 Q1910.92 261.76 1910.92 270.51 Q1910.92 279.237 1907.85 283.844 Q1904.79 288.427 1898.98 288.427 Q1893.17 288.427 1890.09 283.844 Q1887.04 279.237 1887.04 270.51 Q1887.04 261.76 1890.09 257.177 Q1893.17 252.571 1898.98 252.571 Z\" fill=\"#000000\" fill-rule=\"nonzero\" fill-opacity=\"1\" /><path clip-path=\"url(#clip420)\" d=\"M1940.09 261.83 L1930.72 274.446 L1940.58 287.756 L1935.55 287.756 L1928.01 277.571 L1920.46 287.756 L1915.44 287.756 L1925.51 274.191 L1916.29 261.83 L1921.32 261.83 L1928.19 271.066 L1935.07 261.83 L1940.09 261.83 Z\" fill=\"#000000\" fill-rule=\"nonzero\" fill-opacity=\"1\" /><path clip-path=\"url(#clip420)\" d=\"M1948.01 283.821 L1955.65 283.821 L1955.65 257.455 L1947.34 259.122 L1947.34 254.862 L1955.6 253.196 L1960.28 253.196 L1960.28 283.821 L1967.91 283.821 L1967.91 287.756 L1948.01 287.756 L1948.01 283.821 Z\" fill=\"#000000\" fill-rule=\"nonzero\" fill-opacity=\"1\" /><path clip-path=\"url(#clip420)\" d=\"M2009.16 258.034 L2009.16 270.927 L2022.06 270.927 L2022.06 274.862 L2009.16 274.862 L2009.16 287.756 L2005.28 287.756 L2005.28 274.862 L1992.38 274.862 L1992.38 270.927 L2005.28 270.927 L2005.28 258.034 L2009.16 258.034 Z\" fill=\"#000000\" fill-rule=\"nonzero\" fill-opacity=\"1\" /><path clip-path=\"url(#clip420)\" d=\"M2060.07 257.27 L2048.26 275.719 L2060.07 275.719 L2060.07 257.27 M2058.84 253.196 L2064.72 253.196 L2064.72 275.719 L2069.65 275.719 L2069.65 279.608 L2064.72 279.608 L2064.72 287.756 L2060.07 287.756 L2060.07 279.608 L2044.47 279.608 L2044.47 275.094 L2058.84 253.196 Z\" fill=\"#000000\" fill-rule=\"nonzero\" fill-opacity=\"1\" /><path clip-path=\"url(#clip420)\" d=\"M2098.33 261.83 L2088.96 274.446 L2098.82 287.756 L2093.79 287.756 L2086.25 277.571 L2078.7 287.756 L2073.68 287.756 L2083.75 274.191 L2074.53 261.83 L2079.56 261.83 L2086.43 271.066 L2093.31 261.83 L2098.33 261.83 Z\" fill=\"#000000\" fill-rule=\"nonzero\" fill-opacity=\"1\" /><path clip-path=\"url(#clip420)\" d=\"M2109.46 283.821 L2125.78 283.821 L2125.78 287.756 L2103.84 287.756 L2103.84 283.821 Q2106.5 281.066 2111.09 276.436 Q2115.69 271.784 2116.87 270.441 Q2119.12 267.918 2120 266.182 Q2120.9 264.423 2120.9 262.733 Q2120.9 259.978 2118.96 258.242 Q2117.03 256.506 2113.93 256.506 Q2111.73 256.506 2109.28 257.27 Q2106.85 258.034 2104.07 259.585 L2104.07 254.862 Q2106.9 253.728 2109.35 253.149 Q2111.8 252.571 2113.84 252.571 Q2119.21 252.571 2122.4 255.256 Q2125.6 257.941 2125.6 262.432 Q2125.6 264.561 2124.79 266.483 Q2124 268.381 2121.9 270.973 Q2121.32 271.645 2118.21 274.862 Q2115.11 278.057 2109.46 283.821 Z\" fill=\"#000000\" fill-rule=\"nonzero\" fill-opacity=\"1\" /><path clip-path=\"url(#clip420)\" d=\"M2180.3 264.237 L2158.08 270.649 L2180.3 276.992 L2180.3 281.112 L2150.62 272.594 L2150.62 268.659 L2180.3 260.163 L2180.3 264.237 M2150.62 283.821 L2180.3 283.821 L2180.3 287.756 L2150.62 287.756 L2150.62 283.821 Z\" fill=\"#000000\" fill-rule=\"nonzero\" fill-opacity=\"1\" /><path clip-path=\"url(#clip420)\" d=\"M2218.31 257.27 L2206.5 275.719 L2218.31 275.719 L2218.31 257.27 M2217.08 253.196 L2222.96 253.196 L2222.96 275.719 L2227.89 275.719 L2227.89 279.608 L2222.96 279.608 L2222.96 287.756 L2218.31 287.756 L2218.31 279.608 L2202.7 279.608 L2202.7 275.094 L2217.08 253.196 Z\" fill=\"#000000\" fill-rule=\"nonzero\" fill-opacity=\"1\" /><path clip-path=\"url(#clip420)\" d=\"M2245.62 256.274 Q2242.01 256.274 2240.18 259.839 Q2238.38 263.381 2238.38 270.51 Q2238.38 277.617 2240.18 281.182 Q2242.01 284.723 2245.62 284.723 Q2249.26 284.723 2251.06 281.182 Q2252.89 277.617 2252.89 270.51 Q2252.89 263.381 2251.06 259.839 Q2249.26 256.274 2245.62 256.274 M2245.62 252.571 Q2251.43 252.571 2254.49 257.177 Q2257.57 261.76 2257.57 270.51 Q2257.57 279.237 2254.49 283.844 Q2251.43 288.427 2245.62 288.427 Q2239.81 288.427 2236.73 283.844 Q2233.68 279.237 2233.68 270.51 Q2233.68 261.76 2236.73 257.177 Q2239.81 252.571 2245.62 252.571 Z\" fill=\"#000000\" fill-rule=\"nonzero\" fill-opacity=\"1\" /><polyline clip-path=\"url(#clip420)\" style=\"stroke:#ffc0cb; stroke-linecap:round; stroke-linejoin:round; stroke-width:4; stroke-opacity:1; fill:none\" points=\"1692.37,322.316 1835.16,322.316 \"/>\n",
       "<path clip-path=\"url(#clip420)\" d=\"M1883.61 313.67 L1874.23 326.286 L1884.1 339.596 L1879.07 339.596 L1871.53 329.411 L1863.98 339.596 L1858.96 339.596 L1869.03 326.031 L1859.81 313.67 L1864.84 313.67 L1871.71 322.906 L1878.59 313.67 L1883.61 313.67 Z\" fill=\"#000000\" fill-rule=\"nonzero\" fill-opacity=\"1\" /><path clip-path=\"url(#clip420)\" d=\"M1894.74 335.661 L1911.06 335.661 L1911.06 339.596 L1889.12 339.596 L1889.12 335.661 Q1891.78 332.906 1896.36 328.276 Q1900.97 323.624 1902.15 322.281 Q1904.4 319.758 1905.28 318.022 Q1906.18 316.263 1906.18 314.573 Q1906.18 311.818 1904.23 310.082 Q1902.31 308.346 1899.21 308.346 Q1897.01 308.346 1894.56 309.11 Q1892.13 309.874 1889.35 311.425 L1889.35 306.702 Q1892.17 305.568 1894.63 304.989 Q1897.08 304.411 1899.12 304.411 Q1904.49 304.411 1907.68 307.096 Q1910.88 309.781 1910.88 314.272 Q1910.88 316.401 1910.07 318.323 Q1909.28 320.221 1907.17 322.813 Q1906.6 323.485 1903.49 326.702 Q1900.39 329.897 1894.74 335.661 Z\" fill=\"#000000\" fill-rule=\"nonzero\" fill-opacity=\"1\" /><path clip-path=\"url(#clip420)\" d=\"M1935.9 316.077 L1935.9 312.003 L1965.58 320.499 L1965.58 324.434 L1935.9 332.952 L1935.9 328.832 L1958.15 322.489 L1935.9 316.077 M1965.58 335.661 L1965.58 339.596 L1935.9 339.596 L1935.9 335.661 L1965.58 335.661 Z\" fill=\"#000000\" fill-rule=\"nonzero\" fill-opacity=\"1\" /><path clip-path=\"url(#clip420)\" d=\"M2004.91 320.962 Q2008.26 321.679 2010.14 323.948 Q2012.03 326.216 2012.03 329.549 Q2012.03 334.665 2008.52 337.466 Q2005 340.267 1998.52 340.267 Q1996.34 340.267 1994.03 339.827 Q1991.73 339.411 1989.28 338.554 L1989.28 334.04 Q1991.22 335.174 1993.54 335.753 Q1995.85 336.332 1998.38 336.332 Q2002.78 336.332 2005.07 334.596 Q2007.38 332.86 2007.38 329.549 Q2007.38 326.494 2005.23 324.781 Q2003.1 323.045 1999.28 323.045 L1995.25 323.045 L1995.25 319.202 L1999.47 319.202 Q2002.91 319.202 2004.74 317.837 Q2006.57 316.448 2006.57 313.855 Q2006.57 311.193 2004.67 309.781 Q2002.8 308.346 1999.28 308.346 Q1997.36 308.346 1995.16 308.763 Q1992.96 309.179 1990.32 310.059 L1990.32 305.892 Q1992.98 305.151 1995.3 304.781 Q1997.64 304.411 1999.7 304.411 Q2005.02 304.411 2008.12 306.841 Q2011.22 309.249 2011.22 313.369 Q2011.22 316.239 2009.58 318.23 Q2007.94 320.198 2004.91 320.962 Z\" fill=\"#000000\" fill-rule=\"nonzero\" fill-opacity=\"1\" /></svg>\n"
      ]
     },
     "execution_count": 197,
     "metadata": {},
     "output_type": "execute_result"
    }
   ],
   "source": [
    "using Plots\n",
    "\n",
    "x_range = 0:0.1:7\n",
    "y_range = 0:0.1:10\n",
    "\n",
    "# constraints\n",
    "acres = 7 .- x_range\n",
    "hours = (40 .- 10 .* x_range) ./ 4\n",
    "min_corn = ones(length(x_range)) .* 3\n",
    "\n",
    "plot(x_range, y_range, xlims=(0, 7), ylims=(0, 10), xlabel=\"x1\", ylabel=\"x2\")\n",
    "plot(x_range, acres, line=:solid, color=:blue, label=\"x1 + x2 ≤ 7\")\n",
    "plot!(x_range, hours, line=:solid, color=:red, label=\"10x1 + 4x2 ≤ 40\")\n",
    "plot!(x_range, min_corn, line=:solid, color=:pink, label=\"x2 ≥ 3\")\n",
    "\n",
    "\n",
    "title!(\"Feasible set\")\n",
    "xlabel!(\"hay\")\n",
    "ylabel!(\"corn\")\n",
    "\n",
    "plot!()\n"
   ]
  },
  {
   "cell_type": "markdown",
   "id": "6b5d372b",
   "metadata": {},
   "source": [
    "**Question 3**\n",
    "\n",
    "\n",
    "A mining company (\"OptiMine\") is planning mine operations for the next week. There are 10 different mine locations available for ore extraction. OptiMine needs to mine 3,000 tons of ore to meet demand. Each mine location has a total number of tons of ore available. Mining at each location has an associated cost per ton. Finally, ore extracted from each mine contains a different percentage of different elements (e.g., carbon, gold). The cost, ore available, and percentage of elements in the ore at each mining location are given in the .csv file \"mine.csv.\" A sample of the data is given in the table below. There is a minimum percentage of each element required across the total ore extracted, also given in the .csv file.\n",
    "\n",
    " \n",
    "(a) Formulate a linear program to help OptiMine plan mining operations to meet requriments at a minimal cost. Give a general form (parameters only -- no numbers) of the math model.\n",
    "\n"
   ]
  },
  {
   "cell_type": "code",
   "execution_count": 266,
   "id": "db2229eb",
   "metadata": {},
   "outputs": [],
   "source": [
    "#You might need to run \"Pkg.add(...)\" before using these packages\n",
    "using DataFrames, CSV, NamedArrays\n",
    "\n",
    "#Load the data file\n",
    "df = CSV.read(\"mine.csv\",DataFrame,delim=',');\n",
    "\n",
    "# create a list of mines\n",
    "mines = convert(Array,df[2:end,1])\n",
    "\n",
    "# create a list of elements\n",
    "elements = 1:5\n",
    "\n",
    "# create a dictionary of the total cost of mining at each location\n",
    "cost_to_mine = Dict(zip(mines,df[2:end,7]))\n",
    "\n",
    "# create a dictionary of the max tons available at each location\n",
    "max_avail = Dict(zip(mines,df[2:end,8]))\n",
    "\n",
    "# create a dictionary of the min % of each element\n",
    "min_req = Dict(zip(elements,df[1,2:6]))\n",
    "\n",
    "# create a matrix of the % of each element at each loation\n",
    "mine_element_matrix = Matrix(df[2:end,2:6])\n",
    "\n",
    "# rows are mines, columns are elements\n",
    "mine_element_array = NamedArray(mine_element_matrix, (mines, elements),(\"mines\",\"elements\"))\n",
    ";"
   ]
  },
  {
   "cell_type": "markdown",
   "id": "0053ba68",
   "metadata": {},
   "source": [
    "(a)\n",
    "\n",
    "\n",
    "Let c[i] be the cost per ton at mine i for i in mines <br>\n",
    "Let max[i] be the max tons available at mine i for i in mines <br>\n",
    "Let min_req[i] be the required percentage of element k for k in elements <br>\n",
    "Let mine_element_array[i,k] be the percent element k in ore extracted from mine i for i in mines and k in elements <br>\n",
    "Let x[i] be the number of tons of ore extracted from mine i for i in mines <br>\n",
    "let td = tons demanded (3000) <br> \n",
    "\n",
    "\n",
    "Min sum((c[i]) * (x[i])) <br>\n",
    "\n",
    "s.t.  sum(x[i]) >= 3000 <br>\n",
    "      sum((mine_element_array[i,k]) * (x[i]) >= (min_req[k]) * sum(x[i])) <br>\n",
    "      x[i] >= 0"
   ]
  },
  {
   "cell_type": "code",
   "execution_count": 287,
   "id": "c183b6c8",
   "metadata": {},
   "outputs": [
    {
     "name": "stdout",
     "output_type": "stream",
     "text": [
      "Min 20 x[1] + 20 x[2] + 29 x[3] + 21 x[4] + 27 x[5] + 23 x[6] + 19 x[7] + 16 x[8] + 17 x[9] + 27 x[10]\n",
      "Subject to\n",
      " x[1] + x[2] + x[3] + x[4] + x[5] + x[6] + x[7] + x[8] + x[9] + x[10] = 3000\n",
      " -x[1] + 6 x[2] - 3 x[3] + 4 x[4] + 5 x[6] + x[7] + 2 x[8] + 6 x[9] - 3 x[10] ≥ 0\n",
      " -4 x[1] - x[2] - x[3] + 3 x[4] - x[5] - 4 x[6] - 2 x[7] + 3 x[8] + 3 x[9] - 4 x[10] ≥ 0\n",
      " -5 x[1] + 2 x[2] - 2 x[4] - 3 x[5] - 5 x[6] - 5 x[7] + 3 x[8] + x[9] - 2 x[10] ≥ 0\n",
      " 3 x[1] + 3 x[2] - 2 x[3] + 2 x[4] + 4 x[7] + 2 x[8] - 2 x[9] + 3 x[10] ≥ 0\n",
      " x[1] + x[2] - x[3] + x[4] - 2 x[5] - 4 x[6] - 2 x[7] - 2 x[8] - 4 x[9] + x[10] ≥ 0\n",
      " x[1] ≥ 0\n",
      " x[2] ≥ 0\n",
      " x[3] ≥ 0\n",
      " x[4] ≥ 0\n",
      " x[5] ≥ 0\n",
      " x[6] ≥ 0\n",
      " x[7] ≥ 0\n",
      " x[8] ≥ 0\n",
      " x[9] ≥ 0\n",
      " x[10] ≥ 0\n",
      "\n",
      "\n",
      "x= 333.3333333333336\n",
      "x= 1666.6666666666665\n",
      "x= 0.0\n",
      "x= 0.0\n",
      "x= 0.0\n",
      "x= 0.0\n",
      "x= 0.0\n",
      "x= 999.9999999999999\n",
      "x= 0.0\n",
      "x= 0.0\n",
      "objective = 56000.0\n",
      "Coin0506I Presolve 6 (0) rows, 10 (0) columns and 56 (0) elements\n",
      "Clp0006I 0  Obj 0 Primal inf 3000 (1)\n",
      "Clp0006I 4  Obj 56000\n",
      "Clp0000I Optimal - objective value 56000\n",
      "Clp0032I Optimal objective 56000 - 4 iterations time 0.002\n"
     ]
    }
   ],
   "source": [
    "#(b)\n",
    "\n",
    "using JuMP, Clp\n",
    "\n",
    "m = Model(Clp.Optimizer)\n",
    "\n",
    "@variable(m, x[mines] >= 0)\n",
    "\n",
    "@constraint(m, sum(x[i] for i in mines) == 3000)\n",
    "for k in elements\n",
    "    @constraint(m, sum(mine_element_array[i, k] * x[i] for i in mines) >= min_req[k] * sum(x[i] for i in mines))\n",
    "end\n",
    "\n",
    "@objective(m, Min, sum(cost_to_mine[i] * x[i] for i in mines))\n",
    "\n",
    "optimize!(m)\n",
    "\n",
    "println(m)\n",
    "println()\n",
    "for i in mines\n",
    "    println(\"x= \", value(x[i]))\n",
    "end\n",
    "\n",
    "println(\"objective = \", objective_value(m))"
   ]
  },
  {
   "cell_type": "markdown",
   "id": "10645a05",
   "metadata": {},
   "source": [
    "**Question 4** \n"
   ]
  },
  {
   "cell_type": "markdown",
   "id": "3d764a80",
   "metadata": {},
   "source": [
    "Consider the following LP:\n",
    "\n",
    "\\begin{align*}\n",
    "\\min 2x_1 - x_2 +3x_3 - 2x_4\\\\\n",
    "   \\mbox{s.t. } \\phantom{4x_1 +} 3x_2- x_3 + 4x_4 &\\geq 10\\\\\n",
    "  4x_1 - 7x_2 +x_3- x_4 &= 5\\\\\n",
    "  x_1 \\phantom{+ 2x_2} -3x_3 + 8x_4 &\\leq 3\\\\\n",
    "  x_1, x_4\\geq 0\\\\\n",
    "  x_2, x_3 & \\mbox{ Unrestricted in Sign (Free)}\\\\\n",
    "\\end{align*}  \n",
    "\n",
    "(a) Convert the problem to standard form."
   ]
  },
  {
   "cell_type": "markdown",
   "id": "9664158d",
   "metadata": {},
   "source": [
    "\\begin{align*}\n",
    "\\ -max -2x_1 + (u - v) - 3(p - q) + 2x_4\\\\\n",
    "   \\mbox{s.t. } \\phantom{4x_1 +} -3(u - v) + (p - q) - 4x_4 &\\leq -10\\\\\n",
    "  4x_1 - 7(u - v) + (p - q) - x_4 &\\leq 5\\\\\n",
    "  -4x_1 + 7(u - v) - (p - q) + x_4 &\\leq -5\\\\\n",
    "  x_1 \\phantom{+ 2x_2} -3(u - v) + 8x_4 &\\leq 3\\\\\n",
    "  x_1, x_4, u, v, p, q\\geq 0\\\\\n",
    "\\end{align*}  \n"
   ]
  },
  {
   "cell_type": "markdown",
   "id": "f464c4a2",
   "metadata": {},
   "source": [
    "(b)    \n",
    "\n",
    "\n",
    "\n",
    "x = \n",
    "$\\begin{pmatrix}\n",
    "x_1\\\\\n",
    "x_4\\\\\n",
    "u - v\\\\\n",
    "p - q\\\\\n",
    "\\end{pmatrix}$,  A = \n",
    "$\\begin{pmatrix}\n",
    "0 & -3 & 1 & -4\\\\\n",
    "4 & -7 & 1 & -1\\\\\n",
    "-4 & 7 & -1 & 1\\\\\n",
    "1 & -3 & 0 & 8\\\\\n",
    "\\end{pmatrix}$, b = $\\begin{pmatrix}\n",
    "-10\\\\\n",
    "5\\\\\n",
    "-5\\\\\n",
    "3\\\\\n",
    "\\end{pmatrix}$, c = \n",
    "$\\begin{pmatrix}\n",
    "-2\\\\\n",
    "1\\\\\n",
    "-3\\\\\n",
    "2\\\\\n",
    "\\end{pmatrix}$ \n",
    "\n",
    "\n",
    "\n",
    "both x_2 and x_3 are free, and is represented by (u - v) and (p - q) respectively.\n",
    "\n",
    "\n",
    "\n",
    "\n",
    "\n",
    "\n",
    "\n",
    "\n",
    "(c)"
   ]
  },
  {
   "cell_type": "code",
   "execution_count": 265,
   "id": "0c9c1acb",
   "metadata": {},
   "outputs": [
    {
     "name": "stdout",
     "output_type": "stream",
     "text": [
      "Max -2 x1 + u - v - 3 p + 3 q + 2 x4\n",
      "Subject to\n",
      " -3 u + 3 v + p - q - 4 x4 ≤ -10\n",
      " -7 u + 7 v + p - q + 4 x1 - x4 ≤ 5\n",
      " 7 u - 7 v - p + q - 4 x1 + x4 ≤ -5\n",
      " -3 p + 3 q + x1 + 8 x4 ≤ 3\n",
      " u ≥ 0\n",
      " v ≥ 0\n",
      " p ≥ 0\n",
      " q ≥ 0\n",
      " x1 ≥ 0\n",
      " x4 ≥ 0\n",
      "\n",
      "\n",
      "x1 = 7.593750908970833\n",
      "x2 = 3.8437506705522537\n",
      "x3 = 1.53125\n",
      "x4 = 0.0\n",
      "objective = 15.937501817941666\n",
      "Coin0506I Presolve 4 (0) rows, 6 (0) columns and 21 (0) elements\n",
      "Clp0006I 0  Obj 0 Primal inf 3.2142855 (2) Dual inf 11 (3)\n",
      "Clp0006I 3  Obj -15.937502\n",
      "Clp0000I Optimal - objective value -15.937502\n",
      "Clp0032I Optimal objective -15.93750182 - 3 iterations time 0.002\n"
     ]
    }
   ],
   "source": [
    "using JuMP, Clp\n",
    "\n",
    "m = Model(Clp.Optimizer)\n",
    "\n",
    "\n",
    "@variable(m, u >= 0)\n",
    "@variable(m, v >= 0)\n",
    "@variable(m, p >= 0)\n",
    "@variable(m, q >= 0)\n",
    "@variable(m, x1 >= 0)\n",
    "@variable(m, x4 >= 0)\n",
    "\n",
    "@constraint(m, -3*(u - v) + (p - q) - 4*x4 <= -10)\n",
    "@constraint(m, 4*x1 - 7*(u - v) + (p - q) - x4 <= 5)\n",
    "@constraint(m, -4*x1 + 7*(u - v) - (p - q) + x4 <= -5)\n",
    "@constraint(m, x1 - 3*(p - q) + 8*x4 <= 3)\n",
    "\n",
    "@objective(m, Max, -2x1 + (u - v) - 3*(p - q) + 2*x4)\n",
    "\n",
    "optimize!(m)\n",
    "\n",
    "println(m)\n",
    "println()\n",
    "println(\"x1 = \", value(x1))\n",
    "println(\"x2 = \", value(u-v))\n",
    "println(\"x3 = \", value(p-q))\n",
    "println(\"x4 = \", value(x4))\n",
    "println(\"objective = \", -objective_value(m))"
   ]
  },
  {
   "cell_type": "code",
   "execution_count": null,
   "id": "8d6c5136",
   "metadata": {},
   "outputs": [],
   "source": []
  }
 ],
 "metadata": {
  "kernelspec": {
   "display_name": "Julia 1.9.1",
   "language": "julia",
   "name": "julia-1.9"
  },
  "language_info": {
   "file_extension": ".jl",
   "mimetype": "application/julia",
   "name": "julia",
   "version": "1.9.1"
  }
 },
 "nbformat": 4,
 "nbformat_minor": 5
}
