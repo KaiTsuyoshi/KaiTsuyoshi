{
 "cells": [
  {
   "cell_type": "code",
   "execution_count": 15,
   "id": "1a1899ca",
   "metadata": {},
   "outputs": [],
   "source": [
    "using Random\n",
    "\n",
    "M = 20 # number of mining sites\n",
    "H = 7 # number of houses\n",
    "\n",
    "mines = 1:M # set of mining sites\n",
    "houses = 1:H # set of houses\n",
    "\n",
    "# set a seed for generating consistent data\n",
    "seed = 494875\n",
    "Random.seed!(seed)\n",
    "\n",
    "# cost of spice production at each mine (in Solari)\n",
    "mine_prod_cost =  [Random.rand(5:22) for i in mines]\n",
    "\n",
    "# amount of spice at each mine (tons) \n",
    "mine_cap = [Random.rand(45:55) for i in mines]\n",
    "\n",
    "# demand for spice (tons) at each House\n",
    "demand = [Random.rand(50:80) for h in houses] \n",
    "\n",
    "# cost to transport between a (mine, house) pair\n",
    "# rows are mines, columns are Houses\n",
    "transport_cost = [round(2.5*Random.rand(),digits=2) \n",
    "    for i in mines, j in houses]\n",
    "\n",
    "# percent of sand in spice at each mine\n",
    "sand_per = [round(2.2*Random.rand()+5,digits=2) for i in mines]\n",
    "\n",
    "# percent of sulfur in spice at each mine\n",
    "sulf_per = [round(4*Random.rand()+3,digits=2) for i in mines]\n",
    "\n",
    "# max percent of sand at each House\n",
    "sand_lim = 6\n",
    "# max percent of sulfur at each House\n",
    "sulf_lim = 6\n",
    ";"
   ]
  },
  {
   "cell_type": "code",
   "execution_count": null,
   "id": "eb02337c",
   "metadata": {},
   "outputs": [],
   "source": []
  }
 ],
 "metadata": {
  "kernelspec": {
   "display_name": "Julia 1.9.1",
   "language": "julia",
   "name": "julia-1.9"
  },
  "language_info": {
   "file_extension": ".jl",
   "mimetype": "application/julia",
   "name": "julia",
   "version": "1.9.1"
  }
 },
 "nbformat": 4,
 "nbformat_minor": 5
}
