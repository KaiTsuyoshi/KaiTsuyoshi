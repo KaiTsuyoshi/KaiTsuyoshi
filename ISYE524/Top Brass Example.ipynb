{
 "cells": [
  {
   "cell_type": "markdown",
   "id": "4550ad08",
   "metadata": {},
   "source": [
    "Top Brass Trophy Company makes large championship trophies for youth athletic leagues. At the moment, they are planning production for fall sports: football and soccer. Each football trophy has a wood base, an engraved plaque, a large brass football on top, and returns 12 dollars in profit. Soccer trophies are similar (a brass ball, a wood base, and an engraved plaque) except that a brass soccer ball is on top, and the unit profit is only 9 dollars. Since the football has an asymmetric shape, its base requires 4 board feet of wood; the soccer base requires only 2 board feet. At the moment there are 1000 brass footballs in stock, 1500 soccer balls, 1750 plaques, and 4800 board feet of wood. What trophies should be produced from these supplies to maximize total profit assuming that all that are made can be sold?"
   ]
  },
  {
   "cell_type": "markdown",
   "id": "43f3d5af",
   "metadata": {},
   "source": [
    "**Base Version**"
   ]
  },
  {
   "cell_type": "code",
   "execution_count": 6,
   "id": "156b5ac8",
   "metadata": {},
   "outputs": [],
   "source": [
    "# always specify which packages you're going to use\n",
    "using JuMP, Clp\n",
    "\n",
    "#create a new model object\n",
    "m = Model()\n",
    "\n",
    "# we need variables for football trophies and soccer trophies\n",
    "# format is (<model name>, <variable name>). we can optionally\n",
    "# include bounds on each variable.\n",
    "@variable(m, ft >= 0)\n",
    "@variable(m, st >= 0)\n",
    "\n",
    "# objective is to maximize profit\n",
    "# format is (<model name>, <Max or Min>, <algebraic function>)\n",
    "@objective(m, Max, 12*ft + 9*st)\n",
    "\n",
    "# constraint on the wood available\n",
    "# format is (<model name>, <constraint name>, <algebraic constraint>)\n",
    "@constraint(m, wood_con, 4ft + 2st <= 4800)\n",
    "\n",
    "#constraint on the plaques available\n",
    "@constraint(m, plaque_con, ft + st <= 1750)\n",
    "\n",
    "# constraints on brass footballs, soccerballs available\n",
    "@constraint(m, brass_football_con, ft <= 1000)\n",
    "@constraint(m, brass_soccerball_con, st <= 1500)\n",
    "; \n",
    "# like Matlab, a \";\" (semicolon) supresses output"
   ]
  },
  {
   "cell_type": "code",
   "execution_count": 2,
   "id": "308eba88",
   "metadata": {},
   "outputs": [
    {
     "name": "stdout",
     "output_type": "stream",
     "text": [
      "Time to solve this model using Clp: \n",
      "  1.052474 seconds (2.31 M allocations: 153.052 MiB, 2.79% gc time, 97.24% compilation time)\n",
      "Build 650.0 football trophies.\n",
      "Build 1100.0 soccer trophies.\n",
      "Total profit will be $17700.0\n",
      "Coin0506I Presolve 2 (-2) rows, 2 (0) columns and 4 (-2) elements\n",
      "Clp0006I 0  Obj -0 Dual inf 20.999998 (2)\n",
      "Clp0006I 2  Obj 17700\n",
      "Clp0000I Optimal - objective value 17700\n",
      "Coin0511I After Postsolve, objective 17700, infeasibilities - dual 0 (0), primal 0 (0)\n",
      "Clp0032I Optimal objective 17700 - 2 iterations time 0.002, Presolve 0.00\n"
     ]
    }
   ],
   "source": [
    "println(\"Time to solve this model using Clp: \")\n",
    "\n",
    "# specify the solver you want to use to solve Model m\n",
    "set_optimizer(m, Clp.Optimizer)\n",
    "\n",
    "# use the @time macro to measure the amount of time it takes to solve m\n",
    "@time(optimize!(m))\n",
    "\n",
    "println(\"Build \", value(ft), \" football trophies.\")\n",
    "println(\"Build \", value(st), \" soccer trophies.\")\n",
    "println(\"Total profit will be \\$\", objective_value(m))"
   ]
  },
  {
   "cell_type": "code",
   "execution_count": 4,
   "id": "c684773e",
   "metadata": {},
   "outputs": [
    {
     "name": "stdout",
     "output_type": "stream",
     "text": [
      "Time to solve this model using SCS: \n",
      "------------------------------------------------------------------\n",
      "\t       SCS v3.2.3 - Splitting Conic Solver\n",
      "\t(c) Brendan O'Donoghue, Stanford University, 2012\n",
      "------------------------------------------------------------------\n",
      "problem:  variables n: 2, constraints m: 6\n",
      "cones: \t  l: linear vars: 6\n",
      "settings: eps_abs: 1.0e-04, eps_rel: 1.0e-04, eps_infeas: 1.0e-07\n",
      "\t  alpha: 1.50, scale: 1.00e-01, adaptive_scale: 1\n",
      "\t  max_iters: 100000, normalize: 1, rho_x: 1.00e-06\n",
      "\t  acceleration_lookback: 10, acceleration_interval: 10\n",
      "lin-sys:  sparse-direct-amd-qdldl\n",
      "\t  nnz(A): 8, nnz(P): 0\n",
      "------------------------------------------------------------------\n",
      " iter | pri res | dua res |   gap   |   obj   |  scale  | time (s)\n",
      "------------------------------------------------------------------\n",
      "     0| 4.80e+03  1.20e+01  3.13e+04 -1.57e+04  1.00e-01  2.35e-03 \n",
      "   250| 6.49e+00  3.48e-02  9.58e+00 -1.77e+04  5.33e-03  4.71e-03 \n",
      "   300| 3.73e-01  1.00e-03  1.19e+00 -1.77e+04  5.33e-03  4.81e-03 \n",
      "------------------------------------------------------------------\n",
      "status:  solved\n",
      "timings: total: 4.82e-03s = setup: 2.33e-03s + solve: 2.49e-03s\n",
      "\t lin-sys: 3.80e-05s, cones: 1.18e-05s, accel: 1.94e-03s\n",
      "------------------------------------------------------------------\n",
      "objective = -17700.395442\n",
      "------------------------------------------------------------------\n",
      "  4.343851 seconds (8.36 M allocations: 566.322 MiB, 3.17% gc time, 97.92% compilation time)\n",
      "Build 649.7534130606649 football trophies.\n",
      "Build 1100.306424402437 soccer trophies.\n",
      "Total profit will be $17699.79877634991\n"
     ]
    }
   ],
   "source": [
    "using SCS\n",
    "\n",
    "println(\"Time to solve this model using SCS: \")\n",
    "set_optimizer(m, SCS.Optimizer)\n",
    "@time(optimize!(m))\n",
    "\n",
    "println(\"Build \", value(ft), \" football trophies.\")\n",
    "println(\"Build \", value(st), \" soccer trophies.\")\n",
    "println(\"Total profit will be \\$\", objective_value(m))\n",
    "\n",
    "# some solvers (including SCS), output a lot of information along with the solution.\n",
    "# it can be helpful to explicitly print some desired solution components, as we've done here."
   ]
  },
  {
   "cell_type": "markdown",
   "id": "09cb641f",
   "metadata": {},
   "source": [
    "**Modular Version**"
   ]
  },
  {
   "cell_type": "markdown",
   "id": "17944c3d",
   "metadata": {},
   "source": [
    "We can improve our code's modifiability and reusability by separating the data from the structure."
   ]
  },
  {
   "cell_type": "code",
   "execution_count": 7,
   "id": "baa80ec4",
   "metadata": {},
   "outputs": [],
   "source": [
    "# An Array in Julia is a list of elements\n",
    "trophy_types = [:football, :soccer] # these are the possible trophy types\n",
    "\n",
    "# this array is of type \"Symbol.\" Putting a colon in front of an element makes it a \"Symbol\" type.\n",
    "# typically Symbol arrays are easier to implement in JuMP than other types (such as string, integer, etc.)\n",
    "\n",
    "# A Dictionary in Julia maps a key (any type) to an element (any type)\n",
    "wood_req = Dict(:football => 4, :soccer => 2) # how much wood each trophy type will use\n",
    "\n",
    "# in this Dictionary, we are mapping keys of Symbol type (:football) to elements of integer type (4)\n",
    "\n",
    "plaque_req = Dict(:football => 1, :soccer => 1) # how many plaques each trophy type will use\n",
    "\n",
    "profit = Dict( :football => 12, :soccer => 9) # profit produced by each trophy type\n",
    "\n",
    "# we are told the amount of each resource we have available\n",
    "wood_avail = 4800\n",
    "plaques_avail = 1750\n",
    "football_avail = 1000\n",
    "soccer_avail = 1500;     # semicolons supress output"
   ]
  },
  {
   "cell_type": "code",
   "execution_count": 8,
   "id": "f6f1ce56",
   "metadata": {},
   "outputs": [
    {
     "name": "stdout",
     "output_type": "stream",
     "text": [
      "1-dimensional DenseAxisArray{Float64,1,...} with index sets:\n",
      "    Dimension 1, [:football, :soccer]\n",
      "And data, a 2-element Vector{Float64}:\n",
      "  650.0\n",
      " 1100.0\n",
      "Total profit will be $17700.0\n",
      "We will use 4800.0 board feet of wood\n",
      "We will use 1750.0 plaques\n",
      "Coin0506I Presolve 2 (-2) rows, 2 (0) columns and 4 (-2) elements\n",
      "Clp0006I 0  Obj -0 Dual inf 20.999998 (2)\n",
      "Clp0006I 2  Obj 17700\n",
      "Clp0000I Optimal - objective value 17700\n",
      "Coin0511I After Postsolve, objective 17700, infeasibilities - dual 0 (0), primal 0 (0)\n",
      "Clp0032I Optimal objective 17700 - 2 iterations time 0.002, Presolve 0.00\n"
     ]
    }
   ],
   "source": [
    "# always specify which packages you're going to use\n",
    "using JuMP, Clp\n",
    "\n",
    "#create a new model object, specifying the solver\n",
    "m = Model(Clp.Optimizer)\n",
    "\n",
    "# trophy variable object is now a Dictionary indexed over trophy types (elements are variables)\n",
    "@variable(m, trophy[trophy_types] >= 0)\n",
    "\n",
    "# maximize profit by summing (profit/trophy * # trophies) for each type\n",
    "@objective(m, Max, sum(profit[i] * trophy[i] for i in trophy_types) )   \n",
    "\n",
    "@constraint(m, sum(wood_req[i] * trophy[i] for i in trophy_types) <= wood_avail) # use only available wood\n",
    "@constraint(m, sum(plaque_req[i] * trophy[i] for i in trophy_types) <= plaques_avail) # use only available plaques\n",
    "@constraint(m, trophy[:football] <= football_avail)  # use only available brass footballs\n",
    "@constraint(m, trophy[:soccer] <= soccer_avail)  # use only available brass soccer balls\n",
    "\n",
    "status = optimize!(m) # solve instance of model\n",
    "\n",
    "println(value.(trophy)) # print values of trophy variables \n",
    "# note the output is quite ugly. we'll see how to make it look nicer soon.\n",
    "println(\"Total profit will be \\$\", objective_value(m))\n",
    "println(\"We will use \", value(sum(wood_req[i] * trophy[i] for i in trophy_types) ), \" board feet of wood\")\n",
    "println(\"We will use \", value(sum(plaque_req[i] * trophy[i] for i in trophy_types) ), \" plaques\")"
   ]
  },
  {
   "cell_type": "code",
   "execution_count": 9,
   "id": "771c2188",
   "metadata": {},
   "outputs": [
    {
     "name": "stdout",
     "output_type": "stream",
     "text": [
      "1-dimensional DenseAxisArray{Float64,1,...} with index sets:\n",
      "    Dimension 1, [:football, :soccer]\n",
      "And data, a 2-element Vector{Float64}:\n",
      "  650.0\n",
      " 1100.0\n",
      "Total profit will be $17700.0\n",
      "We will use 4800.0 board feet of wood\n",
      "We will use 1750.0 plaques\n",
      "Coin0506I Presolve 2 (-6) rows, 2 (0) columns and 4 (-8) elements\n",
      "Clp0006I 0  Obj -0 Dual inf 20.999998 (2)\n",
      "Clp0006I 2  Obj 17700\n",
      "Clp0000I Optimal - objective value 17700\n",
      "Coin0511I After Postsolve, objective 17700, infeasibilities - dual 0 (0), primal 0 (0)\n",
      "Clp0032I Optimal objective 17700 - 2 iterations time 0.002, Presolve 0.00\n"
     ]
    }
   ],
   "source": [
    "# create expressions for the total amount of wood and plaques used over all trophies\n",
    "# syntax is (<model name>, <expression name>, <algebraic function>)\n",
    "@expression(m, tot_wood, sum(wood_req[i] * trophy[i] for i in trophy_types) )\n",
    "@expression(m, tot_plaques, sum(plaque_req[i] * trophy[i] for i in trophy_types) )\n",
    "# create an expression for the total amount of profit over all trohpies\n",
    "@expression(m, tot_profit, sum(profit[i] * trophy[i] for i in trophy_types) )\n",
    "\n",
    "# constraints become much simpler\n",
    "@constraint(m, tot_wood <= wood_avail)\n",
    "@constraint(m, tot_plaques <= plaques_avail)\n",
    "@constraint(m, trophy[:football] <= football_avail)\n",
    "@constraint(m, trophy[:soccer] <= soccer_avail)\n",
    "\n",
    "# the objective is also very simple\n",
    "@objective(m, Max, tot_profit)\n",
    "\n",
    "# solve the instance of the model \n",
    "status = optimize!(m)\n",
    "\n",
    "# print interesting solution components, including expression values\n",
    "println(value.(trophy))\n",
    "println(\"Total profit will be \\$\", objective_value(m))\n",
    "println(\"We will use \", value(tot_wood), \" board feet of wood\")\n",
    "println(\"We will use \", value(tot_plaques), \" plaques\")"
   ]
  },
  {
   "cell_type": "markdown",
   "id": "374509c0",
   "metadata": {},
   "source": [
    "**Compact Version**"
   ]
  },
  {
   "cell_type": "markdown",
   "id": "775ade02",
   "metadata": {},
   "source": [
    "Like the modular version, we separate the data from the model structure. Now we also introduce the \"NamedArray\" object, which is a nice way to format arrays of data."
   ]
  },
  {
   "cell_type": "code",
   "execution_count": 11,
   "id": "1cb01b10",
   "metadata": {},
   "outputs": [
    {
     "data": {
      "text/plain": [
       "2×4 Named Matrix{Int64}\n",
       "type ╲ resource │           wood  …    brass_soccer\n",
       "────────────────┼──────────────────────────────────\n",
       "football        │              4  …               0\n",
       "soccer          │              2  …               1"
      ]
     },
     "execution_count": 11,
     "metadata": {},
     "output_type": "execute_result"
    }
   ],
   "source": [
    "trophy_types = [:football, :soccer] # these are the possible trophy types\n",
    "\n",
    "resources = [:wood, :plaques, :brass_football, :brass_soccer] # what goes into each trophy\n",
    "\n",
    "profit = Dict( zip(trophy_types, [12,9] ) ) # profit produced by each trophy type\n",
    "\n",
    "resource_avail = Dict( zip(resources, [4800, 1750, 1000, 1500] ) ); # amount of each type of resource available\n",
    "\n",
    "# we use the NamedArrays package (you'll need to Pkg.add it first)\n",
    "using NamedArrays\n",
    "\n",
    "# create a matrix (Array) of the \"recipe\" for each trophy type. \n",
    "# each row is a trophy type, each column is a resource (should be ordered the same as the resources array).\n",
    "# we read this as: \"trophy type 1 (:football) requires 4 of resource 1 (:wood), 1 of resource 2 (:plaques),\n",
    "# 1 of resource 3 (:brass_football), and 0 of resouce 4 (:brass_soccer).\"\n",
    "# row 2 is similar, but for trophy type :soccer.\n",
    "trophy_resource_matrix = [4 1 1 0\n",
    "                            2 1 0 1]\n",
    "\n",
    "# create NamedArray that contains info on how much of each resource each trophy uses.\n",
    "# syntax is (<\"recipe\" matrix>, (<row indices>,<column indices>),(<row name>,<column name>))\n",
    "trophy_resource_NA = NamedArray(trophy_resource_matrix, (trophy_types, resources), (\"type\",\"resource\"))\n",
    "\n",
    "# check out the output to see how NamedArrays are structured:"
   ]
  },
  {
   "cell_type": "code",
   "execution_count": 12,
   "id": "40019ff0",
   "metadata": {},
   "outputs": [
    {
     "name": "stdout",
     "output_type": "stream",
     "text": [
      "1-dimensional DenseAxisArray{Float64,1,...} with index sets:\n",
      "    Dimension 1, [:football, :soccer]\n",
      "And data, a 2-element Vector{Float64}:\n",
      "  650.0\n",
      " 1100.0\n",
      "Total profit will be $17700.0\n",
      "Coin0506I Presolve 2 (-2) rows, 2 (0) columns and 4 (-2) elements\n",
      "Clp0006I 0  Obj -0 Dual inf 20.999998 (2)\n",
      "Clp0006I 2  Obj 17700\n",
      "Clp0000I Optimal - objective value 17700\n",
      "Coin0511I After Postsolve, objective 17700, infeasibilities - dual 0 (0), primal 0 (0)\n",
      "Clp0032I Optimal objective 17700 - 2 iterations time 0.002, Presolve 0.00\n"
     ]
    }
   ],
   "source": [
    "# always specify which packages you're going to use\n",
    "using JuMP, Clp\n",
    "\n",
    "#create a new model object, specifying the solver\n",
    "m = Model(Clp.Optimizer)\n",
    "\n",
    "# trophy variable object is now a Dictionary indexed over trophy types (elements are variables)\n",
    "@variable(m, trophy[trophy_types] >= 0)\n",
    "\n",
    "# use an expression object to calculate the total profit\n",
    "@expression(m, tot_profit, sum(profit[i] * trophy[i] for i in trophy_types) )\n",
    "\n",
    "# our trophy/resource NamedArray allows us to create a Dictionary of constraints.\n",
    "# indices are resources, and elements are constraint objects.\n",
    "@constraint(m, constr[i in resources], sum(trophy_resource_NA[t, i] * trophy[t] for t in trophy_types) <= resource_avail[i] )\n",
    "\n",
    "# our objective is to maximize the total profit\n",
    "@objective(m, Max, tot_profit)\n",
    "\n",
    "# solve the instance of the problem\n",
    "optimize!(m)\n",
    "\n",
    "# display solution information\n",
    "println(value.(trophy))\n",
    "println(\"Total profit will be \\$\", objective_value(m))\n"
   ]
  }
 ],
 "metadata": {
  "kernelspec": {
   "display_name": "Julia 1.9.1",
   "language": "julia",
   "name": "julia-1.9"
  },
  "language_info": {
   "file_extension": ".jl",
   "mimetype": "application/julia",
   "name": "julia",
   "version": "1.9.1"
  }
 },
 "nbformat": 4,
 "nbformat_minor": 5
}
