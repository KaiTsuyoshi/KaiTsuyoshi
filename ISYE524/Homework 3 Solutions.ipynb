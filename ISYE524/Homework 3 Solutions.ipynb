{
 "cells": [
  {
   "cell_type": "markdown",
   "id": "b4379865",
   "metadata": {},
   "source": [
    "## Problem 1 - Max Flow Modeling\n",
    "\n",
    "A Dungeon Master (DM) is trying to plan for the next three campaigns she is running. She runs campaigns for four different groups, and she is hoping to finish the groups' campaigns in the next six months.\n",
    "\n",
    "* Group 1's campaign must be completed no later than 4 months from now and will require 20 total hours of play-time \n",
    "* Group 2's campaign must be completed no later than 5 months from now and will require 18 total hours of play-time \n",
    "*  Group 3's campaign must be completed no later than 6 months from now and will require 13 total hours of play-time \n",
    "* Group 4's campaign must be completed no later than 3 months from now and will require 14 total hours of play-time\n",
    "\n",
    "Each month, 12 hours are available for playing games. During a given month, no more than 8 hours can be spent on the same campaign.\n",
    "\n",
    "Formulate a _maximum flow problem_ whose solution will determine whether or not all four campaigns can be completed on time.  Your answer should clearly draw the network, the source node, the sink node, and capacity on each arc in the network.  Upload a picture of the network with your solution.\n"
   ]
  },
  {
   "cell_type": "code",
   "execution_count": 1,
   "id": "5d1f3989",
   "metadata": {},
   "outputs": [
    {
     "name": "stdout",
     "output_type": "stream",
     "text": [
      "Max flow: 65.0\n",
      "Flow on each arc: \n",
      "arc 1: 20.0\n",
      "arc 2: 18.0\n",
      "arc 3: 13.0\n",
      "arc 4: 14.0\n",
      "arc 5: 0.0\n",
      "arc 6: 4.0\n",
      "arc 7: 8.0\n",
      "arc 8: 8.0\n",
      "arc 9: 5.0\n",
      "arc 10: 0.0\n",
      "arc 11: 1.0\n",
      "arc 12: 4.0\n",
      "arc 13: 8.0\n",
      "arc 14: 1.0\n",
      "arc 15: 0.0\n",
      "arc 16: 0.0\n",
      "arc 17: 0.0\n",
      "arc 18: 4.0\n",
      "arc 19: 8.0\n",
      "arc 20: 6.0\n",
      "arc 21: 8.0\n",
      "arc 22: 0.0\n",
      "arc 23: 12.0\n",
      "arc 24: 12.0\n",
      "arc 25: 9.0\n",
      "arc 26: 12.0\n",
      "arc 27: 12.0\n",
      "arc 28: 8.0\n",
      "Dummy: 65.0\n",
      "Coin0506I Presolve 10 (-31) rows, 27 (-2) columns and 54 (-33) elements\n",
      "Clp0006I 0  Obj 0 Dual inf 3.999996 (4)\n",
      "Clp0006I 21  Obj -65\n",
      "Clp0000I Optimal - objective value -65\n",
      "Coin0511I After Postsolve, objective -65, infeasibilities - dual 0 (0), primal 0 (0)\n",
      "Clp0032I Optimal objective -65 - 21 iterations time 0.002, Presolve 0.00\n"
     ]
    }
   ],
   "source": [
    "using JuMP, Clp\n",
    "\n",
    "# incidence matrix \n",
    "# (rows are nodes, columns are arcs, entries represent whether arc enters (-1) or leaves (1) each node)\n",
    "A = [1  1  1  1  0  0  0  0  0  0  0  0  0  0  0  0  0  0  0  0  0  0  0  0  0  0  0  0    #node src\n",
    "    -1  0  0  0  1  1  1  1  0  0  0  0  0  0  0  0  0  0  0  0  0  0  0  0  0  0  0  0    #node c1\n",
    "     0 -1  0  0  0  0  0  0  1  1  1  1  1  0  0  0  0  0  0  0  0  0  0  0  0  0  0  0    #node c2\n",
    "     0  0 -1  0  0  0  0  0  0  0  0  0  0  1  1  1  1  1  1  0  0  0  0  0  0  0  0  0    #node c3\n",
    "     0  0  0 -1  0  0  0  0  0  0  0  0  0  0  0  0  0  0  0  1  1  1  0  0  0  0  0  0    #node c4\n",
    "     0  0  0  0 -1  0  0  0 -1  0  0  0  0 -1  0  0  0  0  0 -1  0  0  1  0  0  0  0  0    #node m1\n",
    "     0  0  0  0  0 -1  0  0  0 -1  0  0  0  0 -1  0  0  0  0  0 -1  0  0  1  0  0  0  0    #node m2\n",
    "     0  0  0  0  0  0 -1  0  0  0 -1  0  0  0  0 -1  0  0  0  0  0 -1  0  0  1  0  0  0    #node m3\n",
    "     0  0  0  0  0  0  0 -1  0  0  0 -1  0  0  0  0 -1  0  0  0  0  0  0  0  0  1  0  0    #node m4\n",
    "     0  0  0  0  0  0  0  0  0  0  0  0 -1  0  0  0  0 -1  0  0  0  0  0  0  0  0  1  0    #node m5\n",
    "     0  0  0  0  0  0  0  0  0  0  0  0  0  0  0  0  0  0 -1  0  0  0  0  0  0  0  0  1    #node m6\n",
    "     0  0  0  0  0  0  0  0  0  0  0  0  0  0  0  0  0  0  0  0  0  0 -1 -1 -1 -1 -1 -1]   #node snk\n",
    "\n",
    "# dummy arc\n",
    "A = [A [-1;0;0;0;0;0;0;0;0;0;0;1]]\n",
    "\n",
    "# supply and demand are all 0\n",
    "b = [0, 0, 0, 0, 0, 0, 0, 0, 0, 0, 0, 0]\n",
    "\n",
    "# costs should be 0 on every arc except dummy\n",
    "# -1 on dummy arc\n",
    "c = [0, 0, 0, 0, 0, 0, 0, 0, 0, 0, 0, 0, 0, 0, 0, 0, 0, 0, 0, 0, 0, 0, 0, 0, 0, 0, 0, 0, -1]\n",
    "\n",
    "# capacities on each arc. make dummy arc capacity \"big enough\"\n",
    "cap = [20, 18, 13, 14, 8, 8, 8, 8, 8, 8, 8, 8, 8, 8, 8, 8, 8, 8, 8, 8, 8, 8, 12, 12, 12, 12, 12, 12, 300]\n",
    "\n",
    "m = Model(Clp.Optimizer)\n",
    "\n",
    "# variables representing how much flow we send on each arc\n",
    "@variable(m, x[1:29] >= 0)\n",
    "\n",
    "# constraints balance flow into and out of each node\n",
    "@constraint(m, A*x .== b)\n",
    "\n",
    "# don't exceed arc capacity\n",
    "@constraint(m, x .<= cap)\n",
    "\n",
    "# minimize the total cost (same as maximizing flow through dummy arc)\n",
    "@objective(m, Min, sum(c[i]*x[i] for i in 1:29))\n",
    "\n",
    "# solve this instance of the max flow problem\n",
    "optimize!(m)\n",
    "\n",
    "# print out the flow on each arc along with total flow\n",
    "println(\"Max flow: \", -objective_value(m)) # need to take negative\n",
    "println(\"Flow on each arc: \")\n",
    "for i in 1:28\n",
    "    println(\"arc \", i, \": \", value(x[i]))\n",
    "    end\n",
    "    \n",
    "println(\"Dummy: \", value(x[29]))"
   ]
  },
  {
   "cell_type": "markdown",
   "id": "16db989e",
   "metadata": {},
   "source": [
    "## Problem 2 - The Duality of Plushies\n",
    "\n",
    "\n",
    "Assemble-an-Animal is currently producing four plushies: pandas, panthers, pangolins, and penguins.\n",
    "\n",
    "The profit contribution, labor hours, and raw material usage (in square feet) per plushie for each type\n",
    "of animal are given below:\n",
    "\n",
    "\n",
    "| Plushie| Profit (\\$)|Labor (Hr.)| Raw Material (ft$^2$)|\n",
    "|:---|:---|:---|:---|\n",
    "|Panda| 70 | 2 | 5|\n",
    "|Panther |110 |3 | 5|\n",
    "|Pangolin | 300 | 3 | 10|\n",
    "|Penguin | 250 | 5 | 15|\n",
    "\n",
    "\n",
    "A maximum of 10,000 labor hours and 35,000 square feet of raw material are available annually. Each\n",
    "panda plushie spends an average of 0.25 year in storage; panther plushies an average of 1 year; pangolin plushies, an average of 2 years; penguin plushies, an average of 3.5 years.  The warehouse can handle an average inventory level of 5,000 total plushies. Determine how much of each type of plushie should be produced annually to maximize Assemble-an-Animal's profit.\n",
    "\n",
    "A linear program model for this problem is:\n",
    "\n",
    "$\\begin{alignat*}{5}\n",
    "\\max \\ & z = & 70x_1 &+& 110x_2 &+& 300x_3 &+&  250x_4 & \\\\\n",
    "\\text{s.t. } & & 2x_1 &+& 3x_2 &+&3x_3&+&5 x_4 & \\leq 10000 \\\\\n",
    "     & & 5x_1 &+& 5x_2 &+&10x_3 &+&15x_4 & \\leq 35000 \\\\\n",
    "\t  & & 0.25 x_1 &+& x_2 &+&2x_3 &+& 3.5 x_4 & \\leq 5000\\\\\n",
    "      & & \\qquad \\qquad x_1 \\geq 0, & &\\ x_2 \\geq 0, & &x_3 \\geq 0, & &x_4 \\geq 0\n",
    "\\end{alignat*}$\n",
    "\n",
    "where $x_j$ is the number of plushies of type $j$ to produce each year.\n",
    "\n",
    "In the sensitivity analysis questions below, answer each question _independently_ (e.g., when answering part (c), consider only the changes suggested in part (c), not those in addition to the ones considered in part (b)).\n",
    "\n",
    "(a) Solve this model in Julia/JuMP and give the optimal primal and dual solutions, and the optimal objective function value. \n"
   ]
  },
  {
   "cell_type": "code",
   "execution_count": 2,
   "id": "2d4ec299",
   "metadata": {},
   "outputs": [
    {
     "name": "stdout",
     "output_type": "stream",
     "text": [
      "Max 70 x1 + 110 x2 + 300 x3 + 250 x4\n",
      "Subject to\n",
      " chrs : 2 x1 + 3 x2 + 3 x3 + 5 x4 ≤ 10000\n",
      " cmats : 5 x1 + 5 x2 + 10 x3 + 15 x4 ≤ 35000\n",
      " cinv : 0.25 x1 + x2 + 2 x3 + 3.5 x4 ≤ 5000\n",
      " x1 ≥ 0\n",
      " x2 ≥ 0\n",
      " x3 ≥ 0\n",
      " x4 ≥ 0\n",
      "\n",
      "x1 = 1538.4615384615388\n",
      "x2 = 0.0\n",
      "x3 = 2307.6923076923076\n",
      "x4 = 0.0\n",
      "profit =  $800000.0\n",
      "Coin0506I Presolve 3 (0) rows, 4 (0) columns and 12 (0) elements\n",
      "Clp0006I 0  Obj 0 Dual inf 420.70276 (4)\n",
      "Clp0006I 2  Obj 800000\n",
      "Clp0000I Optimal - objective value 800000\n",
      "Clp0032I Optimal objective 800000 - 2 iterations time 0.002\n"
     ]
    }
   ],
   "source": [
    "##optimal primal\n",
    "\n",
    "using JuMP, Clp\n",
    "\n",
    "m = Model(Clp.Optimizer)\n",
    "\n",
    "@variable(m, x1 >= 0)\n",
    "@variable(m, x2 >= 0)\n",
    "@variable(m, x3 >= 0)\n",
    "@variable(m, x4 >= 0)\n",
    "\n",
    "@objective(m, Max, 70*x1 + 110*x2 + 300*x3 + 250*x4) \n",
    "\n",
    "@constraint(m, chrs, 2*x1 + 3*x2 + 3*x3 + 5*x4 <= 10000)\n",
    "@constraint(m, cmats, 5*x1 + 5*x2 + 10*x3 + 15*x4 <= 35000)\n",
    "@constraint(m, cinv, 0.25*x1 + x2 + 2*x3 + 3.5*x4 <= 5000)\n",
    "\n",
    "\n",
    "optimize!(m)   \n",
    "\n",
    "\n",
    "println(m)\n",
    "println(\"x1 = \", value(x1))\n",
    "println(\"x2 = \", value(x2))\n",
    "println(\"x3 = \", value(x3))\n",
    "println(\"x4 = \", value(x4))\n",
    "println(\"profit =  \\$\", objective_value(m))"
   ]
  },
  {
   "cell_type": "code",
   "execution_count": 3,
   "id": "450ef45c",
   "metadata": {},
   "outputs": [
    {
     "name": "stdout",
     "output_type": "stream",
     "text": [
      "Min 10000 λ[1] + 35000 λ[2] + 5000 λ[3]\n",
      "Subject to\n",
      " 2 λ[1] + 5 λ[2] + 0.25 λ[3] ≥ 70\n",
      " 3 λ[1] + 5 λ[2] + λ[3] ≥ 110\n",
      " 3 λ[1] + 10 λ[2] + 2 λ[3] ≥ 300\n",
      " 5 λ[1] + 15 λ[2] + 3.5 λ[3] ≥ 250\n",
      " λ[1] ≥ 0\n",
      " λ[2] ≥ 0\n",
      " λ[3] ≥ 0\n",
      "\n",
      "dual variables: [20.0, 0.0, 119.99999999999999]\n",
      "Optimal objective: 799999.9999999999\n",
      "Coin0506I Presolve 4 (0) rows, 3 (0) columns and 12 (0) elements\n",
      "Clp0006I 0  Obj 0 Primal inf 82.666666 (4)\n",
      "Clp0006I 2  Obj 800000\n",
      "Clp0000I Optimal - objective value 800000\n",
      "Clp0032I Optimal objective 800000 - 2 iterations time 0.002\n"
     ]
    }
   ],
   "source": [
    "##optimal dual\n",
    "using JuMP, Clp\n",
    "\n",
    "m = Model(Clp.Optimizer)\n",
    "\n",
    "@variable(m, λ[1:3] >= 0)\n",
    "\n",
    "@constraint(m, 2λ[1] + 5λ[2] + 0.25λ[3] >= 70)\n",
    "@constraint(m, 3λ[1] + 5λ[2] + λ[3] >= 110)\n",
    "@constraint(m, 3λ[1] + 10λ[2] + 2λ[3] >= 300)\n",
    "@constraint(m, 5λ[1] + 15λ[2] + 3.5λ[3] >= 250)\n",
    "\n",
    "# objective is to minimize the upper bound on the primal solution\n",
    "@objective(m, Min, 10000*λ[1] + 35000*λ[2] + 5000*λ[3])\n",
    "\n",
    "# solve this instance of the Top Brass dual\n",
    "optimize!(m)\n",
    "\n",
    "# print the dual model and solution\n",
    "println(m)\n",
    "\n",
    "println(\"dual variables: \", value.(λ))\n",
    "println(\"Optimal objective: \", objective_value(m))"
   ]
  },
  {
   "cell_type": "code",
   "execution_count": 4,
   "id": "3a0c4430",
   "metadata": {},
   "outputs": [
    {
     "name": "stdout",
     "output_type": "stream",
     "text": [
      "19.999999999999996\n",
      "-0.0\n",
      "120.00000000000001\n"
     ]
    }
   ],
   "source": [
    "##double check\n",
    "println(-dual(chrs))\n",
    "println(-dual(cmats))\n",
    "println(-dual(cinv)) "
   ]
  },
  {
   "cell_type": "markdown",
   "id": "a19efe4b",
   "metadata": {},
   "source": [
    "(b) What is the maximum amount Assemble-an-Animal should be willing to pay for an additional hour of labor?"
   ]
  },
  {
   "cell_type": "code",
   "execution_count": 5,
   "id": "25be40c8",
   "metadata": {},
   "outputs": [
    {
     "name": "stdout",
     "output_type": "stream",
     "text": [
      "Max value of additonal hour of labor: $20.0\n"
     ]
    }
   ],
   "source": [
    "println(\"Max value of additonal hour of labor: \\$\", value(λ[1]))"
   ]
  },
  {
   "cell_type": "markdown",
   "id": "cbd0e0f8",
   "metadata": {},
   "source": [
    "(c) The marketing department is considering running an advertising campaign that would increase the profit per panther plushie by \\\\$10 and panda plushie by \\\\$15.  Provide an estimate of the new optimal profit ($z^*_{NEW}$) after this change and indicate if your estimate is a lower or upper bound on the new optimal profit. Your answer should be of the form $z^*_{NEW} \\geq \\underline{\\phantom{aaaa}}$ or  $z^*_{NEW} \\leq \\underline{\\phantom{aaaa}}$, where you fill in a number in the blank."
   ]
  },
  {
   "cell_type": "code",
   "execution_count": 6,
   "id": "5cd169d0",
   "metadata": {},
   "outputs": [
    {
     "name": "stdout",
     "output_type": "stream",
     "text": [
      "Max 85 x1 + 120 x2 + 300 x3 + 250 x4\n",
      "Subject to\n",
      " chrs : 2 x1 + 3 x2 + 3 x3 + 5 x4 ≤ 10000\n",
      " cmats : 5 x1 + 5 x2 + 10 x3 + 15 x4 ≤ 35000\n",
      " cinv : 0.25 x1 + x2 + 2 x3 + 3.5 x4 ≤ 5000\n",
      " x1 ≥ 0\n",
      " x2 ≥ 0\n",
      " x3 ≥ 0\n",
      " x4 ≥ 0\n",
      "\n",
      "profit z{NEW} <=  $823076.923076923\n",
      "29.230769230769226\n",
      "-0.0\n",
      "106.15384615384616\n",
      "Coin0506I Presolve 3 (0) rows, 4 (0) columns and 12 (0) elements\n",
      "Clp0006I 0  Obj 0 Dual inf 453.77398 (4)\n",
      "Clp0006I 2  Obj 823076.92\n",
      "Clp0000I Optimal - objective value 823076.92\n",
      "Clp0032I Optimal objective 823076.9231 - 2 iterations time 0.002\n"
     ]
    }
   ],
   "source": [
    "using JuMP, Clp\n",
    "\n",
    "m = Model(Clp.Optimizer)\n",
    "\n",
    "@variable(m, x1 >= 0)\n",
    "@variable(m, x2 >= 0)\n",
    "@variable(m, x3 >= 0)\n",
    "@variable(m, x4 >= 0)\n",
    "\n",
    "@objective(m, Max, (70 + 15)*x1 + (110 + 10)*x2 + 300*x3 + 250*x4) \n",
    "\n",
    "@constraint(m, chrs, 2*x1 + 3*x2 + 3*x3 + 5*x4 <= 10000)\n",
    "@constraint(m, cmats, 5*x1 + 5*x2 + 10*x3 + 15*x4 <= 35000)\n",
    "@constraint(m, cinv, 0.25*x1 + x2 + 2*x3 + 3.5*x4 <= 5000)\n",
    "\n",
    "\n",
    "optimize!(m)   \n",
    "\n",
    "println(m)\n",
    "println(\"profit z{NEW} <=  \\$\", objective_value(m))\n",
    "println(-dual(chrs))\n",
    "println(-dual(cmats))\n",
    "println(-dual(cinv)) "
   ]
  },
  {
   "cell_type": "markdown",
   "id": "f89176f7",
   "metadata": {},
   "source": [
    "Compared to the optimal dual solutions found in (a), the maximum amount Assemble-an-Animal is willing to pay for labor per hour increases, while the amount in inventory decreases and best of all, profit increases. This would be an upper bound, however, as the dual values are changing as a result of manipulating the objective function, which assumes that constraints remain the same to achieve the added profits per respective plushie. Therefore, $z^*_{NEW} \\leq $823076.923076923."
   ]
  },
  {
   "cell_type": "markdown",
   "id": "559b5805",
   "metadata": {},
   "source": [
    "(d) Assemble-an-Animal is considering a facility redesign that would decrease the labor availability\n",
    "by 1000 hours, but increase the raw material availability by 4000 square feet. Provide an estimate of the new optimal profit ($z^*_{NEW}$) after this change and indicate if your estimate is a lower or upper bound on the new optimal profit. Your answer should be of the form $z^*_{NEW} \\geq \\underline{\\phantom{aaaa}}$ or  $z^*_{NEW} \\leq \\underline{\\phantom{aaaa}}$, where you fill in a number in the blank."
   ]
  },
  {
   "cell_type": "code",
   "execution_count": 7,
   "id": "465071e2",
   "metadata": {},
   "outputs": [
    {
     "name": "stdout",
     "output_type": "stream",
     "text": [
      "Max 70 x1 + 110 x2 + 300 x3 + 250 x4\n",
      "Subject to\n",
      " chrs : 2 x1 + 3 x2 + 3 x3 + 5 x4 ≤ 9000\n",
      " cmats : 5 x1 + 5 x2 + 10 x3 + 15 x4 ≤ 39000\n",
      " cinv : 0.25 x1 + x2 + 2 x3 + 3.5 x4 ≤ 5000\n",
      " x1 ≥ 0\n",
      " x2 ≥ 0\n",
      " x3 ≥ 0\n",
      " x4 ≥ 0\n",
      "\n",
      "profit z{NEW} >=  $779999.9999999999\n",
      "19.999999999999996\n",
      "-0.0\n",
      "120.00000000000001\n",
      "Coin0506I Presolve 3 (0) rows, 4 (0) columns and 12 (0) elements\n",
      "Clp0006I 0  Obj 0 Dual inf 420.70276 (4)\n",
      "Clp0006I 2  Obj 780000\n",
      "Clp0000I Optimal - objective value 780000\n",
      "Clp0032I Optimal objective 780000 - 2 iterations time 0.002\n"
     ]
    }
   ],
   "source": [
    "using JuMP, Clp\n",
    "\n",
    "m = Model(Clp.Optimizer)\n",
    "\n",
    "@variable(m, x1 >= 0)\n",
    "@variable(m, x2 >= 0)\n",
    "@variable(m, x3 >= 0)\n",
    "@variable(m, x4 >= 0)\n",
    "\n",
    "@objective(m, Max, 70*x1 + 110*x2 + 300*x3 + 250*x4) \n",
    "\n",
    "@constraint(m, chrs, 2*x1 + 3*x2 + 3*x3 + 5*x4 <= (10000 - 1000))\n",
    "@constraint(m, cmats, 5*x1 + 5*x2 + 10*x3 + 15*x4 <= (35000 + 4000))\n",
    "@constraint(m, cinv, 0.25*x1 + x2 + 2*x3 + 3.5*x4 <= 5000)\n",
    "\n",
    "\n",
    "optimize!(m)   \n",
    "\n",
    "\n",
    "println(m)\n",
    "println(\"profit z{NEW} >=  \\$\", objective_value(m))\n",
    "println(-dual(chrs))\n",
    "println(-dual(cmats))\n",
    "println(-dual(cinv)) "
   ]
  },
  {
   "cell_type": "markdown",
   "id": "d1927fd8",
   "metadata": {},
   "source": [
    "Similar to the rationale of (c), we can compare the duals of the new dual values and those of the default function and constraints. It is apparent that the duals for labor hours, materials, and inventory are unchanged, but with a significantly smaller optimal objective value, which is indicative of it being a lower bound of the new optimal profit. Thus, $z^*_{NEW} \\geq $779999.9999999999."
   ]
  },
  {
   "cell_type": "markdown",
   "id": "27cb6c31",
   "metadata": {},
   "source": [
    "## Problem 3 - Duality and complementarity \n",
    "\n",
    "\n",
    "Consider the following linear program:\n",
    "\n",
    "\\begin{align}\n",
    "  \\min z = 2 x_1 + x_3 & \\label{eq:lp-duality-6}  \\\\\n",
    "  \\mbox{s.t.} \\quad x_1 + x_2 - x_3 &\\geq 5\\nonumber\\\\ \n",
    "  x_1 - 2 x_2 + 4 x_3 &\\geq 8\\nonumber\\\\ \n",
    "  x_1, x_2, x_3 &\\geq 0 \\nonumber\n",
    "\\end{align}\n",
    "\n",
    "(1) Give the dual of this linear program.\n"
   ]
  },
  {
   "cell_type": "markdown",
   "id": "65dfb0bf",
   "metadata": {},
   "source": [
    "Dual:\n",
    "\n",
    "\\begin{align}\n",
    "  \\max z_d = 5λ_1 + 8λ_2 & \\label{eq:lp-duality-6}  \\\\\n",
    "  \\mbox{s.t.} \\quad λ_1 + λ_2 &\\leq 2\\nonumber\\\\ \n",
    "  λ_1 -2λ_2 &\\leq 0\\nonumber\\\\ \n",
    "  -λ_1 + 4λ_2 &\\leq 1\\nonumber\\\\\n",
    "  λ_1, λ_2 &\\geq 0 \\nonumber\n",
    "\\end{align}"
   ]
  },
  {
   "cell_type": "code",
   "execution_count": 8,
   "id": "1bc9c39e",
   "metadata": {},
   "outputs": [
    {
     "name": "stdout",
     "output_type": "stream",
     "text": [
      "Max 5 λ[1] + 8 λ[2]\n",
      "Subject to\n",
      " λ[1] + λ[2] ≤ 2\n",
      " λ[1] - 2 λ[2] ≤ 0\n",
      " -λ[1] + 4 λ[2] ≤ 1\n",
      " λ[1] ≥ 0\n",
      " λ[2] ≥ 0\n",
      "\n",
      "dual variables: [1.0, 0.5]\n",
      "Dual objective: 9.0\n",
      "Coin0506I Presolve 3 (0) rows, 2 (0) columns and 6 (0) elements\n",
      "Clp0006I 0  Obj 0 Dual inf 13 (2)\n",
      "Clp0006I 3  Obj 9\n",
      "Clp0000I Optimal - objective value 9\n",
      "Clp0032I Optimal objective 9 - 3 iterations time 0.002\n"
     ]
    }
   ],
   "source": [
    "using JuMP, Clp\n",
    "\n",
    "m = Model(Clp.Optimizer)\n",
    "\n",
    "@variable(m, λ[1:2] >= 0)\n",
    "\n",
    "@constraint(m, λ[1] + λ[2] <= 2)\n",
    "@constraint(m, λ[1] - 2*λ[2] <= 0)\n",
    "@constraint(m, -λ[1] + 4*λ[2] <= 1)\n",
    "\n",
    "# objective is to minimize the upper bound on the primal solution\n",
    "@objective(m, Max, 5*λ[1] + 8*λ[2])\n",
    "\n",
    "# solve this instance of the Top Brass dual\n",
    "optimize!(m)\n",
    "\n",
    "# print the dual model and solution\n",
    "println(m)\n",
    "\n",
    "println(\"dual variables: \", value.(λ))\n",
    "println(\"Dual objective: \", objective_value(m))"
   ]
  },
  {
   "cell_type": "markdown",
   "id": "9d423195",
   "metadata": {},
   "source": [
    "(2) Find a complementary dual solution to the primal solution:\n",
    "$ \\hat{x} := (\\hat{x}_1, \\hat{x}_2, \\hat{x}_3) = \\left(\\frac{28}{5}, 0, \\frac{3}{5} \\right) $\n"
   ]
  },
  {
   "cell_type": "markdown",
   "id": "2d45f6bf",
   "metadata": {},
   "source": [
    "$ \\hat{x}_1 + \\hat{x}_2 - \\hat{x}_3 = 28/5 + 0 - 3/5 = 25/5 = 5 ≥ 5 $\n",
    "\n",
    "\n",
    "\n",
    "$ \\hat{x}_1 - 2\\hat{x}_2 + 4\\hat{x}_3 = 28/5 - 2(0) + 4(3/5) = 28/5 + 12/5 = 40/5 = 8 ≥ 8 $\n",
    "\n",
    "because both constraints hold with equality, dual constraints also hold by equality and can be transformed: \n",
    "\n",
    "λ1 + λ2 = 2\n",
    "λ1 - 2λ2 = 0    => λ1 = 2λ2\n",
    "-λ1 + 4λ2 = 1\n",
    "\n",
    "Substitute: \n",
    "\n",
    "-2λ2 + 4λ2 = 1   =>  2λ2 = 1   => λ2 = 1/2\n",
    "\n",
    "λ1 = 2(1/2)   => λ1 = 1\n",
    "\n",
    "\n",
    "complementary dual solution to primal solution $ \\hat{x} := (\\hat{x}_1, \\hat{x}_2, \\hat{x}_3) = \\left(\\frac{28}{5}, 0, \\frac{3}{5} \\right) $ is λ1 = 1, λ2 = 1/2"
   ]
  },
  {
   "cell_type": "markdown",
   "id": "6e494d82",
   "metadata": {},
   "source": [
    "(3) Is your dual solution feasible?  What can you conclude about $\\hat{x}$?  "
   ]
  },
  {
   "cell_type": "markdown",
   "id": "88dfaf56",
   "metadata": {},
   "source": [
    "As proven above:\n",
    "\n",
    "$ \\hat{x}_1 + \\hat{x}_2 - \\hat{x}_3 = 28/5 + 0 - 3/5 = 25/5 = 5 ≥ 5 $\n",
    "\n",
    "\n",
    "\n",
    "$ \\hat{x}_1 - 2\\hat{x}_2 + 4\\hat{x}_3 = 28/5 - 2(0) + 4(3/5) = 28/5 + 12/5 = 40/5 = 8 ≥ 8 $\n",
    "\n",
    "Therefore, it is feasible, and $\\hat{x}$ is optimal, as it produces the same dual values as the solver\n"
   ]
  },
  {
   "cell_type": "markdown",
   "id": "0fc2ff44",
   "metadata": {},
   "source": [
    "(4)   Draw the feasible region to the dual you derived in (1).  Find the optimal dual solution by the graphical method.  \n"
   ]
  },
  {
   "cell_type": "markdown",
   "id": "61b7712a",
   "metadata": {},
   "source": [
    "(5) Use complementary slackness and your dual solution from (4) to fimd the optimal primal solution."
   ]
  },
  {
   "cell_type": "markdown",
   "id": "59beceed",
   "metadata": {},
   "source": [
    "dual solutions from the graph were λ1 = 1, λ2 = 1/2 \n",
    "\n",
    "plug them into the dual objective function: \n",
    "\n",
    "5λ1 + 8λ2 = 5(1) + 8(1/2) = 9\n",
    "\n",
    "This answer is also supported by the prior linear program that was run. "
   ]
  }
 ],
 "metadata": {
  "kernelspec": {
   "display_name": "Julia 1.9.1",
   "language": "julia",
   "name": "julia-1.9"
  },
  "language_info": {
   "file_extension": ".jl",
   "mimetype": "application/julia",
   "name": "julia",
   "version": "1.9.1"
  }
 },
 "nbformat": 4,
 "nbformat_minor": 5
}
