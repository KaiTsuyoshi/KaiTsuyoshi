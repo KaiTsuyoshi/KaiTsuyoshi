{
 "cells": [
  {
   "cell_type": "code",
   "execution_count": 39,
   "id": "4264c7a5",
   "metadata": {},
   "outputs": [],
   "source": [
    "import csv\n",
    "import numpy as np\n",
    "from scipy.cluster.hierarchy import dendrogram\n",
    "import matplotlib.pyplot as plt\n",
    "\n",
    "\n",
    "def load_data(filepath):\n",
    "    countries = []\n",
    "    with open(filepath) as f:\n",
    "        data = csv.DictReader(f)\n",
    "        for row in data:\n",
    "            countries.append(row)\n",
    "    return countries\n",
    "\n",
    "\n",
    "\n",
    "def calc_features(row):\n",
    "    return np.array([float(row['Population']),\n",
    "                     float(row['Net migration']),\n",
    "                     float(row['GDP ($ per capita)']),\n",
    "                     float(row['Literacy (%)']),\n",
    "                     float(row['Phones (per 1000)']),\n",
    "                     float(row['Infant mortality (per 1000 births)'])])\n",
    "\n",
    "\n",
    "def hac(features):\n",
    "    n = len(features)\n",
    "    linkage_matrix = np.zeros((n - 1, 4))\n",
    "    \n",
    "    clusters = [[i] for i in range(n)]\n",
    "    merged_clusters = set()\n",
    "    \n",
    "    for k in range(n - 1):\n",
    "        min_distance = float('inf')\n",
    "        merge_i, merge_j = -1, -1\n",
    "        \n",
    "        for i in range(len(clusters)):\n",
    "            if i not in merged_clusters:\n",
    "                for j in range(i + 1, len(clusters)):\n",
    "                    if j not in merged_clusters:\n",
    "                        max_distance = 0.0\n",
    "                        for p1 in clusters[i]:\n",
    "                            for p2 in clusters[j]:\n",
    "                                distance = np.linalg.norm(features[p1] - features[p2])\n",
    "                                max_distance = max(max_distance, distance)\n",
    "                        \n",
    "                        if max_distance < min_distance:\n",
    "                            min_distance = max_distance\n",
    "                            merge_i, merge_j = i, j\n",
    "\n",
    "        new_cluster = clusters[merge_i] + clusters[merge_j]\n",
    "        merged_clusters.add(merge_i)\n",
    "        merged_clusters.add(merge_j)\n",
    "        \n",
    "        clusters.append(new_cluster)\n",
    "\n",
    "        linkage_matrix[k, 0] = merge_i\n",
    "        linkage_matrix[k, 1] = merge_j\n",
    "        linkage_matrix[k, 2] = min_distance\n",
    "        linkage_matrix[k, 3] = len(new_cluster)\n",
    "    \n",
    "    return linkage_matrix\n",
    "\n",
    "\n",
    "\n",
    "def fig_hac(Z, names):\n",
    "    fig = plt.figure(figsize=(10, 6))\n",
    "    dendrogram(Z,labels=names, leaf_rotation=90)\n",
    "    plt.tight_layout()\n",
    "    return fig\n",
    "\n",
    "def normalize_features(features):\n",
    "    for f in features:\n",
    "        favg = np.mean(f)\n",
    "        fsd = np.std(f)\n",
    "        norm = [(v - favg)/fsd for v in f]\n",
    "        return norm"
   ]
  },
  {
   "cell_type": "code",
   "execution_count": 41,
   "id": "799345d9",
   "metadata": {},
   "outputs": [
    {
     "data": {
      "image/png": "[encoded data removed]",
      "text/plain": [
       "<Figure size 720x432 with 1 Axes>"
      ]
     },
     "metadata": {
      "needs_background": "light"
     },
     "output_type": "display_data"
    }
   ],
   "source": [
    "data = load_data(\"countries.csv\")\n",
    "country_names = [row[\"Country\"] for row in data]\n",
    "features = [calc_features(row) for row in data]\n",
    "features_normalized = normalize_features(features)\n",
    "n = 20\n",
    "Z_raw = hac(features[:n])\n",
    "Z_normalized = hac(features_normalized[:n])\n",
    "fig = fig_hac(Z_raw, country_names[:n])\n",
    "plt.show()"
   ]
  },
  {
   "cell_type": "code",
   "execution_count": null,
   "id": "1803ecbb",
   "metadata": {},
   "outputs": [],
   "source": []
  }
 ],
 "metadata": {
  "kernelspec": {
   "display_name": "Python 3 (ipykernel)",
   "language": "python",
   "name": "python3"
  },
  "language_info": {
   "codemirror_mode": {
    "name": "ipython",
    "version": 3
   },
   "file_extension": ".py",
   "mimetype": "text/x-python",
   "name": "python",
   "nbconvert_exporter": "python",
   "pygments_lexer": "ipython3",
   "version": "3.9.12"
  }
 },
 "nbformat": 4,
 "nbformat_minor": 5
}
