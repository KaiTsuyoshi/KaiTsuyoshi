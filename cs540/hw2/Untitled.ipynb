{
 "cells": [
  {
   "cell_type": "code",
   "execution_count": 1,
   "id": "d7e9e9a4",
   "metadata": {},
   "outputs": [],
   "source": [
    "import sys\n",
    "import math\n",
    "\n",
    "\n",
    "def get_parameter_vectors():\n",
    "    '''\n",
    "    This function parses e.txt and s.txt to get the  26-dimensional multinomial\n",
    "    parameter vector (characters probabilities of English and Spanish) as\n",
    "    descibed in section 1.2 of the writeup\n",
    "\n",
    "    Returns: tuple of vectors e and s\n",
    "    '''\n",
    "    #Implementing vectors e,s as lists (arrays) of length 26\n",
    "    #with p[0] being the probability of 'A' and so on\n",
    "    e=[0]*26\n",
    "    s=[0]*26\n",
    "\n",
    "    with open('e.txt',encoding='utf-8') as f:\n",
    "        for line in f:\n",
    "            #strip: removes the newline character\n",
    "            #split: split the string on space character\n",
    "            char,prob=line.strip().split(\" \")\n",
    "            #ord('E') gives the ASCII (integer) value of character 'E'\n",
    "            #we then subtract it from 'A' to give array index\n",
    "            #This way 'A' gets index 0 and 'Z' gets index 25.\n",
    "            e[ord(char)-ord('A')]=float(prob)\n",
    "    f.close()\n",
    "\n",
    "    with open('s.txt',encoding='utf-8') as f:\n",
    "        for line in f:\n",
    "            char,prob=line.strip().split(\" \")\n",
    "            s[ord(char)-ord('A')]=float(prob)\n",
    "    f.close()\n",
    "\n",
    "    return (e,s)\n"
   ]
  },
  {
   "cell_type": "code",
   "execution_count": 42,
   "id": "02fcb762",
   "metadata": {},
   "outputs": [],
   "source": [
    "def shred(filename):\n",
    "    letter_counts = {}\n",
    "    for char in 'ABCDEFGHIJKLMNOPQRSTUVWXYZ':\n",
    "        letter_counts[char] = 0\n",
    "        \n",
    "    with open (filename,encoding='utf-8') as f:\n",
    "        for line in f:\n",
    "            line = line.strip().upper()\n",
    "            for char in line:\n",
    "                if char.isalpha():\n",
    "                    letter_counts[char] += 1\n",
    "\n",
    "    return(letter_counts)"
   ]
  },
  {
   "cell_type": "code",
   "execution_count": 43,
   "id": "dbafbfc9",
   "metadata": {},
   "outputs": [
    {
     "data": {
      "text/plain": [
       "{'A': 4,\n",
       " 'B': 2,\n",
       " 'C': 2,\n",
       " 'D': 2,\n",
       " 'E': 5,\n",
       " 'F': 2,\n",
       " 'G': 1,\n",
       " 'H': 2,\n",
       " 'I': 7,\n",
       " 'J': 0,\n",
       " 'K': 0,\n",
       " 'L': 4,\n",
       " 'M': 0,\n",
       " 'N': 5,\n",
       " 'O': 3,\n",
       " 'P': 1,\n",
       " 'Q': 0,\n",
       " 'R': 2,\n",
       " 'S': 3,\n",
       " 'T': 4,\n",
       " 'U': 1,\n",
       " 'V': 0,\n",
       " 'W': 0,\n",
       " 'X': 0,\n",
       " 'Y': 1,\n",
       " 'Z': 0}"
      ]
     },
     "execution_count": 43,
     "metadata": {},
     "output_type": "execute_result"
    }
   ],
   "source": [
    "shred('letter0.txt')"
   ]
  },
  {
   "cell_type": "code",
   "execution_count": null,
   "id": "3ead1684",
   "metadata": {},
   "outputs": [],
   "source": []
  }
 ],
 "metadata": {
  "kernelspec": {
   "display_name": "Python 3 (ipykernel)",
   "language": "python",
   "name": "python3"
  },
  "language_info": {
   "codemirror_mode": {
    "name": "ipython",
    "version": 3
   },
   "file_extension": ".py",
   "mimetype": "text/x-python",
   "name": "python",
   "nbconvert_exporter": "python",
   "pygments_lexer": "ipython3",
   "version": "3.9.12"
  }
 },
 "nbformat": 4,
 "nbformat_minor": 5
}
